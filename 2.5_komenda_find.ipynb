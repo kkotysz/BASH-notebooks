{
 "cells": [
  {
   "cell_type": "markdown",
   "metadata": {},
   "source": [
    "# 2.5. Polecenie `find` w Bash\n",
    "\n",
    "Polecenie `find` służy do wyszukiwania plików i folderów w drzewie katalogów na podstawie różnych kryteriów (np. nazwy, rozmiaru, daty modyfikacji). "
   ]
  },
  {
   "cell_type": "markdown",
   "metadata": {
    "id": "Podstawowe-wyszukiwanie"
   },
   "source": [
    "## 2.5.1. Podstawowe wyszukiwanie\n",
    "\n",
    "Najprostsze wywołanie polecenia `find` wygląda tak:\n",
    "\n",
    "```bash\n",
    "find [ścieżka_do_katalogu]\n",
    "```\n",
    "\n",
    "Jeśli nie podasz żadnej ścieżki, `find` domyślnie wyszukuje w bieżącym katalogu (`.`). Poniżej prezentujemy przykład podstawowego wyszukiwania w domyślnym katalogu (kropka `.` oznacza bieżący katalog)."
   ]
  },
  {
   "cell_type": "code",
   "execution_count": null,
   "metadata": {
    "tags": []
   },
   "outputs": [],
   "source": [
    "find ."
   ]
  },
  {
   "cell_type": "markdown",
   "metadata": {
    "id": "Wyszukiwanie-z-uzyciem-filtrow"
   },
   "source": [
    "## 2.5.2. Wyszukiwanie z filtrowaniem\n",
    "\n",
    "Polecenie `find` oferuje wiele opcji filtrowania wyników wyszukiwania, takich jak:\n",
    "- Wzorzec nazwy (`-name`)\n",
    "- Typ pliku (`-type`)\n",
    "- Rozmiar pliku (`-size`)\n",
    "- Data modyfikacji (`-mtime`)\n",
    "- Wiele innych, np. filtrowanie po użytkowniku (`-user`), grupie (`-group`), prawach dostępu (`-perm`) itd.\n",
    "\n",
    "Dzięki tym filtrom możesz bardzo precyzyjnie określić, czego szukasz.\n",
    "\n",
    "### Filtr nazwy (`-name`)\n",
    "Pozwala wyszukiwać pliki/foldery po nazwie z użyciem symboli wieloznacznych takich jak `*` (gwiazdka). Np. aby wyszukać wszystkie pliki i foldery, które w nazwie mają człon `test`:\n",
    "```bash\n",
    "find . -name \"*test*\"\n",
    "```\n",
    "W poniższej komórce możesz dostosować \"*test*\" do dowolnego innego wzorca:"
   ]
  },
  {
   "cell_type": "code",
   "execution_count": null,
   "metadata": {},
   "outputs": [],
   "source": [
    "# Przykładowe wyszukiwanie plików i katalogów, których nazwa zawiera słowo 'test':\n",
    "find . -name \"*test*\""
   ]
  },
  {
   "cell_type": "markdown",
   "metadata": {
    "id": "Filtr-typu---type"
   },
   "source": [
    "### Filtr typu (`-type`)\n",
    "Opcja `-type` pozwala ograniczyć wyniki do konkretnego rodzaju plików. Najczęstsze wartości to:\n",
    "- `f` – zwykły plik (file)\n",
    "- `d` – katalog (directory)\n",
    "- `l` – dowiązanie symboliczne (link)\n",
    "\n",
    "Przykład wyszukania wszystkich katalogów w bieżącym drzewie:\n",
    "```bash\n",
    "find . -type d\n",
    "```"
   ]
  },
  {
   "cell_type": "code",
   "execution_count": null,
   "metadata": {},
   "outputs": [],
   "source": [
    "# Wyszukiwanie wszystkich plików (f)\n",
    "find . -type f"
   ]
  },
  {
   "cell_type": "markdown",
   "metadata": {
    "id": "Filtr-rozmiaru---size"
   },
   "source": [
    "### Filtr rozmiaru (`-size`)\n",
    "Opcja `-size` przyjmuje pewien wzór, np. `+50M` (rozmiar większy niż 50 MB), `-1k` (rozmiar mniejszy niż 1 KB) itp.\n",
    "\n",
    "Kilka przykładów:\n",
    "- `-size +10M` – wszystkie pliki większe niż 10 MB\n",
    "- `-size -100k` – wszystkie pliki mniejsze niż 100 KB\n",
    "- `-size 0` – wszystkie pliki o rozmiarze 0 bajtów"
   ]
  },
  {
   "cell_type": "code",
   "execution_count": null,
   "metadata": {},
   "outputs": [],
   "source": [
    "# Wyszukiwanie plików większych niż 1 MB:\n",
    "find . -type f -size +1M"
   ]
  },
  {
   "cell_type": "markdown",
   "metadata": {
    "id": "Filtr-daty-modyfikacji---mtime"
   },
   "source": [
    "### Filtr daty modyfikacji (`-mtime`)\n",
    "Opcja `-mtime` pozwala wyszukiwać pliki zmodyfikowane odpowiednią liczbę dni temu.\n",
    "\n",
    "Przykłady:\n",
    "- `-mtime 0` – pliki modyfikowane w ciągu ostatnich 24 godzin\n",
    "- `-mtime +5` – pliki modyfikowane ponad 5 dni temu\n",
    "- `-mtime -2` – pliki modyfikowane mniej niż 2 dni temu\n",
    "\n",
    "Podobnie działają też:\n",
    "- `-atime` – filtruje na podstawie daty odczytu\n",
    "- `-ctime` – filtruje na podstawie daty utworzenia/zmainy i-węzła (np. zmiana praw dostępu)\n"
   ]
  },
  {
   "cell_type": "code",
   "execution_count": null,
   "metadata": {},
   "outputs": [],
   "source": [
    "# Pliki modyfikowane w ostatnich 2 dniach:\n",
    "find . -type f -mtime -2"
   ]
  },
  {
   "cell_type": "markdown",
   "metadata": {
    "id": "Wykonywanie-akcji-na-znalezionych-plikach"
   },
   "source": [
    "## 2.5.3. Wykonywanie akcji na znalezionych plikach\n",
    "\n",
    "Czasami nie wystarczy jedynie \"wypisać\" listę znalezionych plików. Za pomocą `find` można od razu wykonać pewne akcje. Najważniejsza opcja to `-exec`.\n",
    "\n",
    "### Opcja `-exec`\n",
    "Składnia wygląda następująco:\n",
    "```bash\n",
    "find [katalog] [warunki] -exec [polecenie] {} \\;\n",
    "```\n",
    "Ważne elementy:\n",
    "- `{} ` oznacza miejsce, w którym zostanie podstawiona ścieżka do pliku/katalogu.\n",
    "- Na końcu polecenia znajduje się sekwencja `\\;`, która sygnalizuje zakończenie polecenia.\n",
    "\n",
    "**Przykłady**:\n",
    "- Usunięcie wszystkich plików o nazwie `*.tmp`:\n",
    "  ```bash\n",
    "  find . -name \"*.tmp\" -exec rm {} \\;\n",
    "  ```\n",
    "- Zmiana uprawnień plików o nazwie `*.sh` na wykonywalne:\n",
    "  ```bash\n",
    "  find . -name \"*.sh\" -exec chmod +x {} \\;\n",
    "  ```"
   ]
  },
  {
   "cell_type": "code",
   "execution_count": null,
   "metadata": {},
   "outputs": [],
   "source": [
    "# Przykład: wypisanie szczegółowych informacji (ls -l) o każdym znalezionym pliku:\n",
    "find . -type f -exec ls -l {} \\;"
   ]
  },
  {
   "cell_type": "markdown",
   "metadata": {
    "id": "Zadania-i-cwiczenia"
   },
   "source": [
    "## 2.5.4. Zadania i ćwiczenia\n",
    "\n",
    "1. **Wyszukiwanie plików tekstowych:**\n",
    "   - Znajdź wszystkie pliki z rozszerzeniem `.txt` i wypisz ścieżki do nich.\n",
    "   - Następnie wyświetl ich zawartość za pomocą polecenia `cat`.\n",
    "   > Podpowiedź: użyj `-exec cat {}`.\n",
    "\n",
    "2. **Wyszukiwanie dużych plików:**\n",
    "   - Znajdź w katalogu domowym (np. `/home/nazwa_uzytkownika`) wszystkie pliki większe niż 100 MB.\n",
    "   > Podpowiedź: użyj `-size +100M`.\n",
    "\n",
    "3. **Porządki z plikami tymczasowymi:**\n",
    "   - Wyszukaj i usuń wszystkie pliki tymczasowe z rozszerzeniem `.tmp`, `.bak`.\n",
    "   > Podpowiedź: użyj opcji `-name \"*.tmp\" -o -name \"*.bak\"` (flaga `-o` oznacza OR) + `-exec rm {}`.\n",
    "\n",
    "4. **Wyszukiwanie plików zmodyfikowanych wczoraj:**\n",
    "   - Wyszukaj wszystkie pliki, które były modyfikowane w ciągu ostatnich 24 godzin.\n",
    "   > Podpowiedź: `-mtime 0` lub `-mtime -1`, zależnie od interpretacji.\n",
    "\n",
    "5. **Skanowanie systemu w poszukiwaniu plików wykonywalnych:**\n",
    "   - Znajdź wszystkie pliki o prawach wykonywalnych w katalogu `/usr/bin`.\n",
    "   > Podpowiedź: użyj `-perm /111` bądź `-type f -executable` (zależnie od wersji find)."
   ]
  }
 ],
 "metadata": {
  "kernelspec": {
   "display_name": "Bash",
   "language": "bash",
   "name": "bash"
  },
  "language_info": {
   "name": "bash"
  }
 },
 "nbformat": 4,
 "nbformat_minor": 5
}
