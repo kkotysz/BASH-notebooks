{
 "cells": [
  {
   "cell_type": "markdown",
   "metadata": {},
   "source": [
    "# 8. Pętla `for` i warunki w `awk`"
   ]
  },
  {
   "cell_type": "markdown",
   "metadata": {},
   "source": [
    "Pętle i instrukcje warunkowe są również zaimplementowane w języku skryptowym awk. Poniżej przedstawione są sposoby jak z nich korzystać."
   ]
  },
  {
   "cell_type": "markdown",
   "metadata": {},
   "source": [
    "## 8.1 Instrukcja warunkowa w `awk`"
   ]
  },
  {
   "cell_type": "markdown",
   "metadata": {},
   "source": [
    "Ta intrukcja służy do tworzenia warunków (który zostanie zinterpretowany jako wartość logiczna __true (prawda)__ lub __false (fałsz)__. Jeśli podany przez nas warunek będzie spełniony, możemy wyspecyfikować jakie komendy mają zostać wykonane, także co skrypt ma zrobić jeśli warunek nie będzie spełniony. Schemat takiej instrukcji dla komend __jednolinijkowych__ jest przedstawiony poniżej:"
   ]
  },
  {
   "cell_type": "markdown",
   "metadata": {},
   "source": [
    "Schemat `if`. Jak widać, w przeciwieństwie do równoważnej komendy w `bash`-u, nie ma słowa `then` oraz nie kończy się wyrażenia słowem `fi`.\n",
    "```bash\n",
    "awk '{if(warunek) {nasze komendy}' plik\n",
    "```\n",
    "\n",
    "Schemat `if-else` (czyli co skrypt ma zrobić gdy warunek nie będzie spełniony)\n",
    "```bash\n",
    "awk '{if(warunek) {nasze komendy} else {inne komendy}}'  plik\n",
    "```"
   ]
  },
  {
   "cell_type": "markdown",
   "metadata": {},
   "source": [
    "Schemat z `else if` (tych warunków możemy dodać tyle ile chcemy)\n",
    "```bash\n",
    "awk '{if(warunek) {nasze komendy} else if (inny warunek) {inny komendy} else {jeszcze inne komendy}}'  plik\n",
    "```\n",
    "\n",
    "__Przykład jednolinijkowy:__\n",
    "\n",
    "Zawartośc pliku `liczby.dat`\n",
    "```bash\n",
    "1\n",
    "2\n",
    "3\n",
    "4\n",
    "5\n",
    "6\n",
    "7\n",
    "8\n",
    "9\n",
    "```"
   ]
  },
  {
   "cell_type": "code",
   "execution_count": 2,
   "metadata": {},
   "outputs": [
    {
     "name": "stdout",
     "output_type": "stream",
     "text": [
      "1 jest mniejsza niz 5\n",
      "2 jest mniejsza niz 5\n",
      "3 jest mniejsza niz 5\n",
      "4 jest mniejsza niz 5\n",
      "5 jest mniejsza niz 5\n",
      "6 jest wieksza niz 5\n",
      "7 jest wieksza niz 5\n",
      "8 jest wieksza niz 5\n",
      "9 jest wieksza niz 5\n"
     ]
    }
   ],
   "source": [
    "awk '{if($1>5) {print $1\" jest wieksza niz 5\"} else {print $1\" jest mniejsza niz 5\"}}' liczby.dat"
   ]
  },
  {
   "cell_type": "markdown",
   "metadata": {},
   "source": [
    "Można udoskonalić:"
   ]
  },
  {
   "cell_type": "code",
   "execution_count": 3,
   "metadata": {},
   "outputs": [
    {
     "name": "stdout",
     "output_type": "stream",
     "text": [
      "1 jest mniejsza niz 5\n",
      "2 jest mniejsza niz 5\n",
      "3 jest mniejsza niz 5\n",
      "4 jest mniejsza niz 5\n",
      "5 rowne 5\n",
      "6 jest wieksza niz 5\n",
      "7 jest wieksza niz 5\n",
      "8 jest wieksza niz 5\n",
      "9 jest wieksza niz 5\n"
     ]
    }
   ],
   "source": [
    "awk '{if($1>5) {print $1\" jest wieksza niz 5\"} else if($1==5) {print $1\" rowne 5\"} else {print $1\" jest mniejsza niz 5\"}}' liczby.dat"
   ]
  },
  {
   "cell_type": "markdown",
   "metadata": {},
   "source": [
    "Jak można zauważyć, bardziej skomplikowane komendy jednolinikowe są mało czytelne. Jeśli piszemy taką komendę w skrypcie, to warto ją odpowiednio sformatować - znacznie zwiększy to czytelność takiego kodu.\n",
    "__Przykład:__\n",
    "\n",
    "Skrypt sprawdzi, czy liczby w pliku są większe/mniejsze/równe 5. Oczywiście nie zostały tu obsłużone błędy jak np. podanie litery lub innego znaku zamiast liczby.\n",
    "\n",
    "Zawartość `ifnumber.bash`:\n",
    "```bash\n",
    "#!/bin/bash\n",
    "awk '{\n",
    "if ($1 == 5 )\n",
    "{\n",
    "    print \"Gratulacje, Twoja liczba jest rowna dokladnie 5\"\n",
    "} \n",
    "else if ($1 > 5)\n",
    "{\n",
    "    print \"Twoja liczba jest większa od 5\"\n",
    "}\n",
    "else\n",
    "{\n",
    "    print \"Twoja liczba jest mniejsza niż 5\"\n",
    "}\n",
    "'} liczby.dat\n",
    "```"
   ]
  },
  {
   "cell_type": "code",
   "execution_count": 1,
   "metadata": {},
   "outputs": [
    {
     "name": "stdout",
     "output_type": "stream",
     "text": [
      "Twoja liczba jest mniejsza niż 5\n",
      "Twoja liczba jest mniejsza niż 5\n",
      "Twoja liczba jest mniejsza niż 5\n",
      "Twoja liczba jest mniejsza niż 5\n",
      "Gratulacje, Twoja liczba jest rowna dokladnie 5\n",
      "Twoja liczba jest większa od 5\n",
      "Twoja liczba jest większa od 5\n",
      "Twoja liczba jest większa od 5\n",
      "Twoja liczba jest większa od 5\n"
     ]
    }
   ],
   "source": [
    "bash ifnumber.bash liczby.dat"
   ]
  },
  {
   "cell_type": "markdown",
   "metadata": {},
   "source": [
    "## 8.2 Instrukcja warunkowa - jaki warunek?"
   ]
  },
  {
   "cell_type": "markdown",
   "metadata": {},
   "source": [
    "Próbując zdefiniować warunek w `bash`-u trzeba wiedzieć, że istnieją różne sposoby jego formułowania. Można podzielić je na 3 typy w zależności od konstrukcji, a każdy z nich ma również swoje podtypy:\n",
    " - za pomocą pojedynczych nawiasów kwadratowych `[ warunek ]`\n",
    "  - działające na plikach\n",
    "  - działające na ciągach znaków\n",
    "  - działające na liczbach\n",
    " - za pomocą podwójnych nawiasów kwadratowych  `[[ warunek ]]` - rozszerza/zmienia możliwości warunku w pojednyczych nawiasach kwadratowych\n",
    "  - działające na plikach, ale np. plik `*.bash` rozpozna dosłownie jako `*.bash` a nie wszystkie pliki z roszerzeniem `.bash`\n",
    "  - działające na ciągach znaków, ale np. umożliwia stosowanie wyrażeń regularnych\n",
    "  - działające na liczbach, ale np. dopuszcza stosowanie operatorów logicznych do łączenia warunków, np. `&&`\n",
    " - za pomocą podwójnych nawiasów zwykłych `(( warunek ))`\n",
    " \n",
    " Jest tego dużo i omówię tylko kilka przykładów, natomiast dobre opracowanie znajduje się na stronie do której link podaję poniżej.<br>\n",
    " https://linuxacademy.com/blog/linux/conditions-in-bash-scripting-if-statements/\n"
   ]
  },
  {
   "cell_type": "markdown",
   "metadata": {},
   "source": [
    "__1) Przykład z warunkiem na ciągu znaków. Sprawdzam, czy podany e-mail w pliku ma właściwą konstrukcję. Znak `~` służy do porównania z wyrażeniem regularnym, które należy opakować w znaki ukośnika__ `/REGEX/`__:__\n",
    "\n",
    "Zawartość `mail_list.dat`:\n",
    "```bash\n",
    "kotysz@astro.uni.wroc.pl\n",
    "krzysztof.kotysz@uwr.edu.pl\n",
    "adres@email\n",
    "123456\n",
    "```\n",
    "\n",
    "Zawartość `ifemail.bash`:\n",
    "```bash\n",
    "#!/bin/bash\n",
    "awk '{\n",
    "if ($1 ~ /^[A-Za-z0-9\\._%+-]+@[A-Za-z0-9\\.-]+\\.[A-Za-z]{2,4}$/)\n",
    "{\n",
    "    print \"Adres \"$1\" jest prawidłowy\"\n",
    "}\n",
    "else\n",
    "{\n",
    "    print \"Adres \"$1\" jest nieprawidłowy\"\n",
    "}\n",
    "'} mail_list.dat\n",
    "```"
   ]
  },
  {
   "cell_type": "code",
   "execution_count": 7,
   "metadata": {},
   "outputs": [
    {
     "name": "stdout",
     "output_type": "stream",
     "text": [
      "Adres kotysz@astro.uni.wroc.pl jest prawidłowy\n",
      "Adres krzysztof.kotysz@uwr.edu.pl jest prawidłowy\n",
      "Adres adres@email jest nieprawidłowy\n",
      "Adres 123456 jest nieprawidłowy\n"
     ]
    }
   ],
   "source": [
    "bash ifemail.bash"
   ]
  },
  {
   "cell_type": "markdown",
   "metadata": {},
   "source": [
    "__W `awk` porównywanie liczb (także rzeczywistych), czy ciągów znaków odbywa się w tej samej konstrukcji, nie ma rozróżnienia ze względu na rodzaj nawiasu.__"
   ]
  },
  {
   "cell_type": "markdown",
   "metadata": {},
   "source": [
    "## 8.3 Pętla `for` w `awk`"
   ]
  },
  {
   "cell_type": "markdown",
   "metadata": {},
   "source": [
    "Pętla `for` umożliwia wielokrotne wykonanie danej komendy (tzw. iterowanie) z góry określoną liczbę razy. Za każdym razem, kiedy uruchamiać się będzie nowe powtórzenie pętli, możemy wykonać tę samą czynność z inną zmienną. W `awk` ma trochę odmienna postać niż w `bash`-u - zlicza kolejne iteracje pętli. Składnia pętli `for` jest następująca:\n",
    "\n",
    "```bash\n",
    "awk '{for(zainicjowanie_zmiennej; warunek_konca; wzrost_zmiennej) {działanie} '}\n",
    "```\n",
    "\n",
    "Wartości mogą być zdefiniowane przez liczby, pliki lub też wynik działania komendy. Poniżej 3 przykłady."
   ]
  },
  {
   "cell_type": "markdown",
   "metadata": {},
   "source": [
    "__1) Przykład pętli `for` po zakresie liczb:__\n",
    "\n",
    "Zawartość `for_num.bash`:\n",
    "```bash\n",
    "#!/bin/bash\n",
    "awk 'BEGIN{\n",
    "for(i=1; i<=10; i++)\n",
    "    print i\n",
    "}'\n",
    "\n",
    "```"
   ]
  },
  {
   "cell_type": "code",
   "execution_count": 11,
   "metadata": {},
   "outputs": [
    {
     "name": "stdout",
     "output_type": "stream",
     "text": [
      "1\n",
      "2\n",
      "3\n",
      "4\n",
      "5\n",
      "6\n",
      "7\n",
      "8\n",
      "9\n",
      "10\n"
     ]
    }
   ],
   "source": [
    "bash for_num.bash    # wartość zmiennej `i` przyjmuje wartości od 1 do 10 z krokiem 1 i za każdym razem jest wypisywana"
   ]
  },
  {
   "cell_type": "markdown",
   "metadata": {},
   "source": [
    "__2) Przykład pętli `for` po tablicy:__"
   ]
  },
  {
   "cell_type": "markdown",
   "metadata": {},
   "source": [
    "Zawartość `for_array.bash`:\n",
    "```bash\n",
    "#!/bin/bash\n",
    "awk 'BEGIN{\n",
    "   owoce[\"ananas\"] = \"zolty\";\n",
    "   owoce[\"pomarancza\"] = \"pomaranczowy\";\n",
    "   owoce[\"kiwi\"] = \"zielony\";\n",
    "   owoce[\"granat\"] = \"czerwony\";\n",
    "for(i in owoce)\n",
    "    print i\n",
    "}'\n",
    "```"
   ]
  },
  {
   "cell_type": "code",
   "execution_count": 13,
   "metadata": {},
   "outputs": [
    {
     "name": "stdout",
     "output_type": "stream",
     "text": [
      "pomarancza\n",
      "granat\n",
      "ananas\n",
      "kiwi\n"
     ]
    }
   ],
   "source": [
    "bash for_array.bash"
   ]
  },
  {
   "cell_type": "markdown",
   "metadata": {},
   "source": [
    "## 8.4 Przerywanie `break` i kontynuacja `continue` pętli w `awk`"
   ]
  },
  {
   "cell_type": "markdown",
   "metadata": {},
   "source": [
    "__Można wymusić przerwanie pętli, gdy np. spełniony zostanie jakiś warunek. Używa się do tego komendy `break`.__"
   ]
  },
  {
   "cell_type": "markdown",
   "metadata": {},
   "source": [
    "Zawartość `for_break.bash`:<br>\n",
    "Przykład skryptu, który znajduje najmniejszy dzielnik liczby.\n",
    "\n",
    "```bash\n",
    "#!/bin/bash\n",
    "awk '{\n",
    "    liczba = $1;\n",
    "    for (dzielnik = 2; dzielnik * dzielnik <= liczba; dzielnik++)\n",
    "    {\n",
    "        if (liczba % dzielnik == 0)\n",
    "        {\n",
    "            break\n",
    "        }\n",
    "    };\n",
    "\n",
    "    if (liczba % dzielnik == 0)\n",
    "    {\n",
    "        printf(\"Najmniejszy dzielnik %d to %d\\n\", liczba, dzielnik)\n",
    "    }    \n",
    "    else\n",
    "    {\n",
    "    printf(\"%d jest liczba pierwsza\\n\", liczba)\n",
    "    }\n",
    "}' liczby.dat\n",
    "```"
   ]
  },
  {
   "cell_type": "code",
   "execution_count": 14,
   "metadata": {},
   "outputs": [
    {
     "name": "stdout",
     "output_type": "stream",
     "text": [
      "1 jest liczba pierwsza\n",
      "Najmniejszy dzielnik 2 to 2\n",
      "3 jest liczba pierwsza\n",
      "Najmniejszy dzielnik 4 to 2\n",
      "5 jest liczba pierwsza\n",
      "Najmniejszy dzielnik 6 to 2\n",
      "7 jest liczba pierwsza\n",
      "Najmniejszy dzielnik 8 to 2\n",
      "Najmniejszy dzielnik 9 to 3\n"
     ]
    }
   ],
   "source": [
    "bash for_break.bash"
   ]
  },
  {
   "cell_type": "markdown",
   "metadata": {},
   "source": [
    "__Alternatywnie można pominąć pętlę, gdy spełniony zostanie określony warunek. Używa się do tego komendy `continue`.__"
   ]
  },
  {
   "cell_type": "markdown",
   "metadata": {},
   "source": [
    "Zawartość `for_continue.bash`:<br>\n",
    "Tutaj pętla wykona się 20 razy, ale gdy wartość zmiennej nie jest podzielna przez 5, to pętla pominie resztę komend i przejdzie do nowego wykonania pętli.\n",
    "```bash\n",
    "#!/bin/bash\n",
    "awk 'BEGIN {\n",
    "    for (x = 0; x <= 20; x++)\n",
    "    {\n",
    "        if (x % 5)\n",
    "        {\n",
    "            continue\n",
    "        }\n",
    "        printf \"%d \", x\n",
    "    }\n",
    "    print \"\"\n",
    "}'\n",
    "```"
   ]
  },
  {
   "cell_type": "code",
   "execution_count": 17,
   "metadata": {},
   "outputs": [
    {
     "name": "stdout",
     "output_type": "stream",
     "text": [
      "0 5 10 15 20 \n"
     ]
    }
   ],
   "source": [
    "bash for_continue.bash"
   ]
  },
  {
   "cell_type": "markdown",
   "metadata": {},
   "source": [
    "## 8.5 Generowanie komend przy pomocy `awk`"
   ]
  },
  {
   "cell_type": "markdown",
   "metadata": {},
   "source": [
    "Przy pomocy `awk` i wykorzystania pętli, można również w łatwy sposób generować komendy, które potem będa uruchomione w `bash`-u. Jest to sprytny sposób na szybkie wykonanie wielu komend, który daje więcej możliwości formatowania oraz pozwala na wykrycie błędów zanim się daną komende uruchomi"
   ]
  },
  {
   "cell_type": "markdown",
   "metadata": {},
   "source": [
    "Np. Można wygenerować liste komend, które np. działają na skrypcie `gcd.sh` który szuka NWD dwóch liczb."
   ]
  },
  {
   "cell_type": "code",
   "execution_count": 65,
   "metadata": {},
   "outputs": [
    {
     "name": "stdout",
     "output_type": "stream",
     "text": [
      "./gcd.sh 10 1,0\n",
      "./gcd.sh 10 1,5\n",
      "./gcd.sh 10 2,0\n",
      "./gcd.sh 10 2,5\n",
      "./gcd.sh 10 3,0\n",
      "./gcd.sh 10 3,5\n",
      "./gcd.sh 10 4,0\n",
      "./gcd.sh 10 4,5\n",
      "./gcd.sh 10 5,0\n"
     ]
    }
   ],
   "source": [
    "awk 'BEGIN{for(i=1;i<=5;i=i+0.5)printf(\"./gcd.sh 10 %.1f\\n\",i)}'"
   ]
  },
  {
   "cell_type": "code",
   "execution_count": 39,
   "metadata": {},
   "outputs": [
    {
     "name": "stdout",
     "output_type": "stream",
     "text": [
      "1,0\n",
      "0,5\n",
      "2,0\n",
      "2,5\n",
      "1\n",
      "0,5\n",
      "2\n",
      "0,5\n",
      "5,0\n"
     ]
    }
   ],
   "source": [
    "awk 'BEGIN{for(i=1;i<=5;i=i+0.5)printf(\"./gcd.sh 10 %.1f\\n\",i)}' | bash"
   ]
  },
  {
   "cell_type": "markdown",
   "metadata": {},
   "source": [
    "Inny przykładem jest generowanie komend do działania na plikach, np. kopiowanie lub tworzenie katalogów:"
   ]
  },
  {
   "cell_type": "code",
   "execution_count": 43,
   "metadata": {},
   "outputs": [
    {
     "name": "stdout",
     "output_type": "stream",
     "text": [
      "touch kat_2\n",
      "touch kat_4\n",
      "touch kat_6\n",
      "touch kat_8\n",
      "touch kat_10\n",
      "touch kat_12\n",
      "touch kat_14\n",
      "touch kat_16\n"
     ]
    }
   ],
   "source": [
    "awk 'BEGIN{for(i=2;i<=16;i=i+2)printf(\"touch kat_%d\\n\",i)}'"
   ]
  },
  {
   "cell_type": "code",
   "execution_count": 63,
   "metadata": {},
   "outputs": [],
   "source": [
    "awk 'BEGIN{for(i=2;i<=16;i=i+2)printf(\"touch kat_%d\\n\",i)}' | bash  # wygeneruje parzyste katalogi"
   ]
  },
  {
   "cell_type": "code",
   "execution_count": 62,
   "metadata": {},
   "outputs": [],
   "source": [
    "for i in $(seq 1 2 16); do echo \"touch kat_$i\"; done | bash  # wygeneruje nieparzyste katalogi"
   ]
  },
  {
   "cell_type": "code",
   "execution_count": 64,
   "metadata": {},
   "outputs": [
    {
     "name": "stdout",
     "output_type": "stream",
     "text": [
      "kat_1  kat_11 kat_13 kat_15 kat_2  kat_4  kat_6  kat_8\n",
      "kat_10 kat_12 kat_14 kat_16 kat_3  kat_5  kat_7  kat_9\n"
     ]
    }
   ],
   "source": [
    "ls kat*"
   ]
  }
 ],
 "metadata": {
  "kernelspec": {
   "display_name": "Bash",
   "language": "bash",
   "name": "bash"
  },
  "language_info": {
   "codemirror_mode": "shell",
   "file_extension": ".sh",
   "mimetype": "text/x-sh",
   "name": "bash"
  }
 },
 "nbformat": 4,
 "nbformat_minor": 4
}
