{
 "cells": [
  {
   "cell_type": "markdown",
   "metadata": {},
   "source": [
    "# 6. Język interpretowany AWK - część 2"
   ]
  },
  {
   "cell_type": "markdown",
   "metadata": {},
   "source": [
    "Druga część z opisem i przykładami użycia `awk`."
   ]
  },
  {
   "cell_type": "markdown",
   "metadata": {},
   "source": [
    "## 6.1 Przekazywanie zmiennej do `awk`"
   ]
  },
  {
   "cell_type": "markdown",
   "metadata": {},
   "source": [
    "AWK oferuje możliwość przekazania zmiennej zdefuniowanej w `bash`-u do wewnątrz komendy `awk`, aby jej użyć tamże. Należy do tego użyć opcji `-v` i wskazać nazwę zmiennej, której będziemy używać wewnątrz `awk` i do niej przypisać zmienną z `bash`-a."
   ]
  },
  {
   "cell_type": "code",
   "execution_count": 54,
   "metadata": {},
   "outputs": [],
   "source": [
    "nazwa_sys='Linux'    # zdefiniujmy zmienną znakową"
   ]
  },
  {
   "cell_type": "code",
   "execution_count": 55,
   "metadata": {},
   "outputs": [
    {
     "name": "stdout",
     "output_type": "stream",
     "text": [
      "Mój system operacyjny to Linux\n"
     ]
    }
   ],
   "source": [
    "awk -v name=\"$nazwa_sys\" 'BEGIN{print \"Mój system operacyjny to \"name}'    # opcja -v przekazuje zmienną do awk"
   ]
  },
  {
   "cell_type": "markdown",
   "metadata": {},
   "source": [
    "> W tym miejscu warto wspomnieć o specjalnym sposobie odnoszenia się do __zmiennej znakowej__ w `bash`-u. Otóż, można wypisać dowonly jej fragment, specyfikując:\n",
    "- __offset__ : indeks od którego zacząć wypisywanie\n",
    "- __lenght__ : liczba znaków do wypisania, zaczynając od indeksu określonego przez offset, jeśli ujemna - pominie wskazaną liczbę znakó od końca napisu\n",
    "- `{zmiennaznakowa:offset:lenght}`\n",
    "\n",
    "    Poniżej przykład:"
   ]
  },
  {
   "cell_type": "code",
   "execution_count": 80,
   "metadata": {},
   "outputs": [
    {
     "name": "stdout",
     "output_type": "stream",
     "text": [
      "nux\n"
     ]
    }
   ],
   "source": [
    "echo ${nazwa_sys:2:3}     # wypisuje tylko znaki od 3 do 5 (indeks 2 oraz długość 3) ze słowa Linux"
   ]
  },
  {
   "cell_type": "code",
   "execution_count": 91,
   "metadata": {},
   "outputs": [
    {
     "name": "stdout",
     "output_type": "stream",
     "text": [
      "Lin\n"
     ]
    }
   ],
   "source": [
    "echo ${nazwa_sys:0:-2}     # wypisuje od początku z wyjątkiem 2 ostatnich znaków"
   ]
  },
  {
   "cell_type": "markdown",
   "metadata": {},
   "source": [
    "## 6.2 Wskazanie separatora do czytania pliku"
   ]
  },
  {
   "cell_type": "markdown",
   "metadata": {},
   "source": [
    "Warto jest mieć możliwość wybrania znaku, który oddziela kolumny czytane przez `awk`. Oferuje to opcja `-F`. \n",
    "```bash\n",
    "awk -F 'separator' '<warunek> {<polecenie>}'\n",
    "```\n",
    "\n",
    "Przykład:"
   ]
  },
  {
   "cell_type": "code",
   "execution_count": 95,
   "metadata": {},
   "outputs": [
    {
     "name": "stdout",
     "output_type": "stream",
     "text": [
      "1354.1150770,-0.0655089,0.1957890\n",
      "1354.1164659,-0.2563426,0.1957854\n",
      "1354.1192437,0.0557094,0.1957512\n",
      "1354.1206326,0.3493596,0.1958556\n",
      "1354.1220215,-0.0107903,0.1958148\n",
      "1354.1234104,0.0459730,0.1958106\n",
      "1354.1247993,-0.1063045,0.1957953\n",
      "1354.1261882,-0.1997741,0.1958022\n",
      "1354.1275771,0.1834512,0.1958027\n",
      "1354.1289660,0.3575382,0.1958367\n"
     ]
    }
   ],
   "source": [
    "head TIC12974182-comma.dat    # mamy plik z kolumnami oddzielonymi przecinkami"
   ]
  },
  {
   "cell_type": "code",
   "execution_count": 106,
   "metadata": {},
   "outputs": [
    {
     "name": "stdout",
     "output_type": "stream",
     "text": [
      "0.1957890\n",
      "0.1957854\n",
      "0.1957512\n",
      "0.1958556\n"
     ]
    }
   ],
   "source": [
    "awk -F ',' 'NR<5{print $3}' TIC12974182-comma.dat    # jako separator wskazany został przecinek"
   ]
  },
  {
   "cell_type": "markdown",
   "metadata": {},
   "source": [
    "## 6.3 Wypisywanie formatowane"
   ]
  },
  {
   "cell_type": "markdown",
   "metadata": {},
   "source": [
    "W `awk` można zdefiniować w jaki sposób chcemy wypisać nasze dane. Możemy wskazać __typ__ naszej zmiennej (m.in. __zmienna znakowa - string__, __liczba rzeczywista - float__, __całkowita - integer__) oraz na ilu znakach ma zostać wypisana oraz w przypadku liczby rzeczywistej, ile miejsc po przecinku ma być uwzględnione.\n",
    "\n",
    "Służy do tego funkcja __printf__.<br>Przykład:"
   ]
  },
  {
   "cell_type": "code",
   "execution_count": 116,
   "metadata": {},
   "outputs": [
    {
     "name": "stdout",
     "output_type": "stream",
     "text": [
      "-0.0655\n",
      "-0.2563\n",
      " 0.0557\n",
      " 0.3494\n"
     ]
    }
   ],
   "source": [
    "awk -F ',' 'NR<5{printf(\"%7.4f\\n\", $2)}' TIC12974182-comma.dat"
   ]
  },
  {
   "cell_type": "markdown",
   "metadata": {},
   "source": [
    "W powyższym przykładzie wypisane zostały pierwsze 4 wartości z drugiej kolumny. Format wypisywania został określony dzięki temu zapisowi: `%11.8f`. Oznacza, to że liczby zostały wypisane na __7 miejscach__, z __4 miejscami po przecinku__. Ten sposób pozwala na eleganckie wypisywanie z wyrównaniem: 4 miejsca po przecinku, kropka, jedno zero i ewentualny znak (minus), dają razem 7 miejsc. Zobaczmy jak to będzie wyglądać jeśli wypiszę to samo, ale odpowiednio na więcej niż 7 miejscach i liczbie miejsc mniejszej niż 7.\n",
    "\n",
    "> __[UWAGA]__ Każda wypisywana wartość musi mieć przypisany format."
   ]
  },
  {
   "cell_type": "code",
   "execution_count": 118,
   "metadata": {},
   "outputs": [
    {
     "name": "stdout",
     "output_type": "stream",
     "text": [
      "-0.0655\n",
      "-0.2563\n",
      "0.0557\n",
      "0.3494\n"
     ]
    }
   ],
   "source": [
    "awk -F ',' 'NR<5{printf(\"%1.4f\\n\", $2)}' TIC12974182-comma.dat    # liczba miejsc wskazana jako 1"
   ]
  },
  {
   "cell_type": "markdown",
   "metadata": {},
   "source": [
    "> Podana została niewystarczająca liczba miejsc, więc nasze dane zostały wypisane na ich najmniejszej możliwej liczbie."
   ]
  },
  {
   "cell_type": "code",
   "execution_count": 119,
   "metadata": {},
   "outputs": [
    {
     "name": "stdout",
     "output_type": "stream",
     "text": [
      "        -0.0655\n",
      "        -0.2563\n",
      "         0.0557\n",
      "         0.3494\n"
     ]
    }
   ],
   "source": [
    "awk -F ',' 'NR<5{printf(\"%15.4f\\n\", $2)}' TIC12974182-comma.dat    # liczba miejsc wskazana jako 15"
   ]
  },
  {
   "cell_type": "markdown",
   "metadata": {},
   "source": [
    "> Wszystko jest wyjustowane do prawej strony i dodatkowo, dodane zostały białe znaki w celu uzupełnienia 15 wskazanych miejsc."
   ]
  },
  {
   "cell_type": "markdown",
   "metadata": {},
   "source": [
    "|  Specyfikacja formatu  | * | * | * | W jaki sposób zostanie wypisane | \n",
    "| :-------------------:  | : | : | : | :-----------------------------: |\n",
    "|         `%c`           | : | : | : |         pojedynczy znak         |\n",
    "|         `%d`           | : | : | : |         liczba całkowita        |\n",
    "|         `%e`           | : | : | : |       notacja inżynierska       |\n",
    "|         `%f`           | : | : | : |        liczba rzeczywista       |\n",
    "|         `%g`           | : | : | : |         automatyczny wybór pomiędzy `%f`, a `%e` (zależy co jest krótsze) i usunięcie zer (trailing zeros)        |\n",
    "|         `%s`           | : | : | : |         ciąg znaków (string)        |\n",
    "|         `%%`           | : | : | : |         aby wypisać znak `%`        |"
   ]
  },
  {
   "cell_type": "markdown",
   "metadata": {},
   "source": [
    "We wcześniejszych przykładach widać liczby pomiędzy znakami `%` oraz literą formatu. Opisane zostało wypisywanie sformatowanej liczby rzeczywistej. Ogólny zapis jest taki: __`%[pierwsza_liczba.druga_liczba]format`__. Pierwsza liczba oznacza długość, druga w przypadku liczb rzeczywistych - precyzję, a w przypadku ciągu znaków - długość (podobnie jak w zmiennej znakowej z `bash`-a).<br> Przykłady:"
   ]
  },
  {
   "cell_type": "code",
   "execution_count": 132,
   "metadata": {},
   "outputs": [
    {
     "name": "stdout",
     "output_type": "stream",
     "text": [
      "  abc\n"
     ]
    }
   ],
   "source": [
    "awk 'BEGIN{printf(\"%5.3s\\n\", \"abcdefg\")}' # na pięciu miejscach wypisaną zostane 3 pierwsze znaki z ciągu `abcdefg`"
   ]
  },
  {
   "cell_type": "code",
   "execution_count": 126,
   "metadata": {},
   "outputs": [
    {
     "name": "stdout",
     "output_type": "stream",
     "text": [
      "    -6.5509e-02\n",
      "    -2.5634e-01\n",
      "     5.5709e-02\n",
      "     3.4936e-01\n"
     ]
    }
   ],
   "source": [
    "awk -F ',' 'NR<5{printf(\"%15.4e\\n\", $2)}' TIC12974182-comma.dat    # tutaj przykład z notacją inżynierską"
   ]
  },
  {
   "cell_type": "markdown",
   "metadata": {},
   "source": [
    "Zauważmy, że wszędzie na końcu formatu dopisany jest __znak nowej linii__ `\\n`. Jeśli by go nie było, wszystko zostałoby wypisane w jednej linii:"
   ]
  },
  {
   "cell_type": "code",
   "execution_count": 130,
   "metadata": {},
   "outputs": [
    {
     "name": "stdout",
     "output_type": "stream",
     "text": [
      "    -6.5509e-02    -2.5634e-01     5.5709e-02     3.4936e-01"
     ]
    }
   ],
   "source": [
    "awk -F ',' 'NR<5{printf(\"%15.4e\", $2)}' TIC12974182-comma.dat    # wszystko w jednej linii"
   ]
  },
  {
   "cell_type": "markdown",
   "metadata": {},
   "source": [
    "Dodatkowe modyfikatory wpisywane po znaku `%`:\n",
    "\n",
    "|      Modyfikator       | * | * | * | W jaki sposób zostanie wypisane | \n",
    "| :-------------------:  | : | : | : | :-----------------------------: |\n",
    "|         `-`           | : | : | : |         justowanie do lewej strony         |\n",
    "|         `<spacja>`           | : | : | : |         liczby dodatnie będą miały spację przed pierwszym znakiem, a ujemne `-`        |\n",
    "|         `+`           | : | : | : |       nadpisuje modyfikator <spacja>, zawsze dodaje znak `+` przed liczbą dodatnią       |\n",
    "|         `#`           | : | : | : |        forma alternatywna, np. nie usuwa nieznaczących zer (trailing zeros) dla `%g`       |\n",
    "|         `0`           | : | : | : |         wypełnianie miejsc nie za pomocą białych znaków, ale przy pomocy `0`        |\n",
    "|         `width`           | : | : | : |         width, to liczba (__pierwsza_liczba__) opisana wcześniej - długość        |\n",
    "|         `.prec`           | : | : | : |         opisana wcześniej prezycja (__druga_liczba__) (dla liczb rzeczywistych) lub  ilość znaków dla string-ów i liczb całkowitych      |"
   ]
  },
  {
   "cell_type": "markdown",
   "metadata": {},
   "source": [
    "## 6.4 Tablice asocjacyjne"
   ]
  },
  {
   "cell_type": "markdown",
   "metadata": {},
   "source": [
    "AWK posiada możliwość tworzenia __tablic asocjacyjnych__, czyli takich gdzie indeksy nie muszą być sekwencją kolejnych liczb – mogą to być ciągi znaków lub liczby niekoniecznie uprządkowane numerycznie. Nazsa tych tablic jest samotłumacząca - asocjacja, czyli związek pomiędzy dwoma obiektami. Do danej wartości można się odnieść przez ten związek, czyli tablicę która wiąże ją z wskazaną przez nas nazwą. Dla przykładu, stworzę tablicę asocjacyjną, która może opisywać np. gwiazdę. Dla czytelności, można każdy wpis podzielić na wiersze i zakończyć średnikiem."
   ]
  },
  {
   "cell_type": "code",
   "execution_count": 1,
   "metadata": {},
   "outputs": [
    {
     "name": "stdout",
     "output_type": "stream",
     "text": [
      "         Nazwa w katalogu HD:  HD204               \n",
      "               Rekstascensja:  01d47m16.35s        \n",
      "                  Deklinacja:  72d46m30.76s        \n"
     ]
    }
   ],
   "source": [
    "awk 'BEGIN{\n",
    "gwiazda[\"nazwa_hd\"]=\"HD204\";\n",
    "gwiazda[\"RA\"]=\"01d47m16.35s\";\n",
    "gwiazda[\"DEC\"]=\"72d46m30.76s\";\n",
    "printf(\"%30s %-20s\\n\", \"Nazwa w katalogu HD: \", gwiazda[\"nazwa_hd\"]);\n",
    "printf(\"%30s %-20s\\n\", \"Rekstascensja: \", gwiazda[\"RA\"]);\n",
    "printf(\"%30s %-20s\\n\", \"Deklinacja: \", gwiazda[\"DEC\"]);\n",
    "}'"
   ]
  },
  {
   "cell_type": "markdown",
   "metadata": {},
   "source": [
    "## 6.5 Część ciągu znaków `substr`"
   ]
  },
  {
   "cell_type": "markdown",
   "metadata": {},
   "source": [
    "W `awk` możliwe jest również wypisanie części ciągu znaków, podobnie jak wpisywanie części zmiennej znakowej w `bash`-u (`${zmienna:offset:lenght}`). Służy do tego funkcja w `awk` o nazwie `substr`. Składnia jest następująca:\n",
    "```bash\n",
    "awk '{print substr(zmienna,offset,lenght)}'\n",
    "```\n",
    "Oznaczenia są takie same wcześniej.\n",
    "Poniżej przykłady:"
   ]
  },
  {
   "cell_type": "code",
   "execution_count": 30,
   "metadata": {},
   "outputs": [
    {
     "name": "stdout",
     "output_type": "stream",
     "text": [
      ".167\n",
      ".169\n",
      ".170\n"
     ]
    }
   ],
   "source": [
    "awk -F ',' 'NR>8529{print substr($1,5,4)}' TIC12974182-comma.dat   # Wypisanie 4 znaków zaczynając od 5 miejsca dla pierwszego pola (dla 3 ostatnich linii)"
   ]
  },
  {
   "cell_type": "code",
   "execution_count": 48,
   "metadata": {},
   "outputs": [
    {
     "name": "stdout",
     "output_type": "stream",
     "text": [
      "Część dziesiętna (3 cyfry) z czasu: .167\n",
      "Część dziesiętna (4 cyfry) z błędu strumienia: .1972\n",
      "\n",
      "Część dziesiętna (3 cyfry) z czasu: .169\n",
      "Część dziesiętna (4 cyfry) z błędu strumienia: .1970\n",
      "\n",
      "Część dziesiętna (3 cyfry) z czasu: .170\n",
      "Część dziesiętna (4 cyfry) z błędu strumienia: .1973\n",
      "\n"
     ]
    }
   ],
   "source": [
    "awk -F ',' 'NR>8529{print \"Część dziesiętna (3 cyfry) z czasu: \"substr($1,5,4)\"\\nCzęść dziesiętna (4 cyfry) z błędu strumienia: \" substr($3,2,5)\"\\n\"}' TIC12974182-comma.dat"
   ]
  },
  {
   "cell_type": "markdown",
   "metadata": {},
   "source": [
    "> W powyższym przykładzie, gdy struktura pliku jest ustalona, można wypisać różne informacje. <br>W tym przypadku wypisane zostały (dla 3 ostatnich linii) części dzisiętne dla __pierwszej__ (`$1`) i __trzeciej__ (`$3`) kolumy z odpowiednio 3 i 4 cyframi po przecinku."
   ]
  }
 ],
 "metadata": {
  "kernelspec": {
   "display_name": "Bash",
   "language": "bash",
   "name": "bash"
  },
  "language_info": {
   "codemirror_mode": "shell",
   "file_extension": ".sh",
   "mimetype": "text/x-sh",
   "name": "bash"
  }
 },
 "nbformat": 4,
 "nbformat_minor": 4
}
