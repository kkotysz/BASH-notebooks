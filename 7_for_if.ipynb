{
 "cells": [
  {
   "cell_type": "markdown",
   "metadata": {},
   "source": [
    "# 7. Pętla `for` i warunki"
   ]
  },
  {
   "cell_type": "markdown",
   "metadata": {},
   "source": [
    "Pętle i instrukcje warunkowe to bardzo ważny element w każdym języku programowania. Również `bash` posiada tego rodzaju konstrukcje, dzięki którym łatwo można usprawnić swój skrypt. Intrukcje warunkowe służą do sprawdzania wartości logicznych wyrażeń i wykonywania bądź nie odpowiednich poleceń. Pętle służą do wielokrotnego wykonywania tych samych czynności."
   ]
  },
  {
   "cell_type": "markdown",
   "metadata": {},
   "source": [
    "## 7.1 Instrukcja warunkowa - `if-then-else`"
   ]
  },
  {
   "cell_type": "markdown",
   "metadata": {},
   "source": [
    "Ta intrukcja służy do tworzenia warunków (który zostanie zinterpretowany jako wartość logiczna __True (prawda)__ lub __False (fałsz)__. Jeśli podany przez nas warunek będzie spełniony, możemy wyspecyfikować jakie komendy mają zostać wykonane, także co skrypt ma zrobić jeśli warunek nie będzie spełniony. Schemat takiej instrukcji jest przedstawiony poniżej:"
   ]
  },
  {
   "cell_type": "markdown",
   "metadata": {},
   "source": [
    "Schemat `if-then`\n",
    "```bash\n",
    "if warunek; then\n",
    "    nasze komendy\n",
    "fi\n",
    "```\n",
    "Schemat `if-then-else` (czyli co skrypt ma zrobić gdy warunek nie będzie spełniony)\n",
    "```bash\n",
    "if warunek; then\n",
    "    nasze komendy\n",
    "else\n",
    "    inne komendy\n",
    "fi\n",
    "```"
   ]
  },
  {
   "cell_type": "markdown",
   "metadata": {},
   "source": [
    "__[UWAGA] Jeśli chcemy podać kilka warunków w jednej konstrukcji `if`, możemy je dodawać poprzez komendę `elif`__"
   ]
  },
  {
   "cell_type": "markdown",
   "metadata": {},
   "source": [
    "Schemat z `elif` (tych warunków możemy dodać tyle ile chcemy)\n",
    "```bash\n",
    "if warunek; then\n",
    "    nasze komendy\n",
    "elif warunek; then\n",
    "    inne komendy\n",
    "elif; then\n",
    "    jeszcze inne komendy\n",
    "else\n",
    "    komendy, w każdym innym przypadku\n",
    "fi\n",
    "```\n",
    "\n",
    "Przykład:"
   ]
  },
  {
   "cell_type": "markdown",
   "metadata": {},
   "source": [
    "Po podaniu liczby z linii komend skrypt ma sprawdzić, czy dana liczba jest większa/mniejsza/równa 10. Oczywiście nie zostały tu obsłużone błędy jak np. podanie litery lub innego znaku zamiast liczby. Takie porównywanie działa tylko na liczbach całkowitych. Dla liczb rzeczywistych można użyć kalkulatora `bc`.\n",
    "\n",
    "Zawartość `ifnumber.bash`:\n",
    "```bash\n",
    "#!/bin/bash\n",
    "if (( $1 == 10 )); then\n",
    "    echo \"Gratulacje, Twoja liczba jest równa dokładnie 10\"\n",
    "elif (( $1 > 10 )); then\n",
    "    echo \"Twoja liczba jest większa od 10\"\n",
    "else\n",
    "    echo \"Twoja liczba jest mniejsza niż 10\"\n",
    "fi\n",
    "```"
   ]
  },
  {
   "cell_type": "code",
   "execution_count": 2,
   "metadata": {},
   "outputs": [
    {
     "name": "stdout",
     "output_type": "stream",
     "text": [
      "Twoja liczba jest większa od 10\n"
     ]
    }
   ],
   "source": [
    "./ifnumber.bash 15"
   ]
  },
  {
   "cell_type": "code",
   "execution_count": 3,
   "metadata": {},
   "outputs": [
    {
     "name": "stdout",
     "output_type": "stream",
     "text": [
      "Twoja liczba jest mniejsza niż 10\n"
     ]
    }
   ],
   "source": [
    "./ifnumber.bash 4"
   ]
  },
  {
   "cell_type": "code",
   "execution_count": 4,
   "metadata": {},
   "outputs": [
    {
     "name": "stdout",
     "output_type": "stream",
     "text": [
      "Gratulacje, Twoja liczba jest równa dokładnie 10\n"
     ]
    }
   ],
   "source": [
    "./ifnumber.bash 10"
   ]
  },
  {
   "cell_type": "code",
   "execution_count": 7,
   "metadata": {},
   "outputs": [
    {
     "name": "stdout",
     "output_type": "stream",
     "text": [
      "Twoja liczba jest mniejsza niż 10\n"
     ]
    }
   ],
   "source": [
    "./ifnumber.bash t    # litera `t` została zamieniona na liczbę"
   ]
  },
  {
   "cell_type": "markdown",
   "metadata": {},
   "source": [
    "## 7.2 Instrukcja warunkowa - jaki warunek?"
   ]
  },
  {
   "cell_type": "markdown",
   "metadata": {},
   "source": [
    "Próbując zdefiniować warunek w `bash`-u trzeba wiedzieć, że istnieją różne sposoby jego formułowania. Można podzielić je na 3 typy w zależności od konstrukcji, a każdy z nich ma również swoje podtypy:\n",
    " - za pomocą pojedynczych nawiasów kwadratowych `[ warunek ]`\n",
    "  - działające na plikach\n",
    "  - działające na ciągach znaków\n",
    "  - działające na liczbach\n",
    " - za pomocą podwójnych nawiasów kwadratowych  `[[ warunek ]]` - rozszerza/zmienia możliwości warunku w pojednyczych nawiasach kwadratowych\n",
    "  - działające na plikach, ale np. plik `*.bash` rozpozna dosłownie jako `*.bash` a nie wszystkie pliki z roszerzeniem `.bash`\n",
    "  - działające na ciągach znaków, ale np. umożliwia stosowanie wyrażeń regularnych\n",
    "  - działające na liczbach, ale np. dopuszcza stosowanie operatorów logicznych do łączenia warunków, np. `&&`\n",
    " - za pomocą podwójnych nawiasów zwykłych `(( warunek ))`\n",
    " \n",
    " Jest tego dużo i omówię tylko kilka przykładów, natomiast dobre opracowanie znajduje się na stronie do której link podaję poniżej.<br>\n",
    " https://linuxacademy.com/blog/linux/conditions-in-bash-scripting-if-statements/\n"
   ]
  },
  {
   "cell_type": "markdown",
   "metadata": {},
   "source": [
    "__1) Przykład z warunkiem na ciągu znaków. Sprawdzam, czy podany e-mail z linii komend ma właściwą konstrukcję. Znak `=~` służy do porównania z wyrażeniem regularnym:__\n",
    "\n",
    "Zawartość `ifemail.bash`:\n",
    "```bash\n",
    "#!/bin/bash\n",
    "pattern=\"^[A-Za-z0-9._%+-]+@[A-Za-z0-9.-]+\\.[A-Za-z]{2,4}$\"\n",
    "if [[ \"$1\" =~ $pattern ]]; then\n",
    "    echo Adres \"$1\" jest prawidłowy.\n",
    "fi\n",
    "```"
   ]
  },
  {
   "cell_type": "code",
   "execution_count": 17,
   "metadata": {},
   "outputs": [
    {
     "name": "stdout",
     "output_type": "stream",
     "text": [
      "Adres imie.nazwisko@serwer.com jest prawidłowy.\n"
     ]
    }
   ],
   "source": [
    "./ifemail.bash imie.nazwisko@serwer.com "
   ]
  },
  {
   "cell_type": "markdown",
   "metadata": {},
   "source": [
    "__2) Przykład z warunkiem na pliku. Sprawdzam, czy istnieje plik `witaj.bash`:__\n",
    "\n",
    "Zawartość `ifexists.bash`:\n",
    "```bash\n",
    "#!/bin/bash\n",
    "if [[ -e witaj.bash ]]; then\n",
    "    echo \"Plik witaj.bash istnieje.\"\n",
    "else\n",
    "    echo \"Plik witaj.bash nie istnieje.\"\n",
    "fi\n",
    "```"
   ]
  },
  {
   "cell_type": "code",
   "execution_count": 18,
   "metadata": {},
   "outputs": [
    {
     "name": "stdout",
     "output_type": "stream",
     "text": [
      "Plik witaj.bash istnieje.\n"
     ]
    }
   ],
   "source": [
    "./ifexists.bash"
   ]
  },
  {
   "cell_type": "markdown",
   "metadata": {},
   "source": [
    "__3) Przykład z warunkiem na liczbach (nawiasy kwadratowe). Sprawdzam, to samo co wcześniej (plik `ifnumber.bash`):__\n",
    "\n",
    "Zawartość `ifnumber2.bash`:\n",
    "```bash\n",
    "#!/bin/bash\n",
    "if [[ $1 -eq 10 ]]; then\n",
    "\techo \"Gratulacje, Twoja liczba jest równa dokładnie 10\"\n",
    "elif [[ $1 -gt 10 ]]; then\n",
    "\techo \"Twoja liczba jest większa od 10\"\n",
    "else\n",
    "\techo \"Twoja liczba jest mniejsza niż 10\"\n",
    "fi\n",
    "\n",
    "```"
   ]
  },
  {
   "cell_type": "markdown",
   "metadata": {},
   "source": [
    "Jak widać w powyższym przykładzie, porównywanie liczb można robić na dwa sposoby. Wszystkie możliwe warunki są wymienione na podanej wcześniej stronie."
   ]
  },
  {
   "cell_type": "markdown",
   "metadata": {},
   "source": [
    "## __[UWAGA] Komenda `awk` również posiada instrukcje warunkowe, może się to okazać bardzo przydatne.__\n",
    "### Składnia:\n",
    "```bash\n",
    "awk '{ if ( warunek ) {działanie} else {działanie} }'\n",
    "```"
   ]
  },
  {
   "cell_type": "markdown",
   "metadata": {},
   "source": [
    "## 7.3 Pętla `for`"
   ]
  },
  {
   "cell_type": "markdown",
   "metadata": {},
   "source": [
    "Pętla `for` umożliwia wielokrotne wykonanie danej komendy (tzw. iterowanie) z góry określoną liczbę razy. Za każdym razem, kiedy uruchamiać się będzie nowe powtórzenie pętli, możemy wykonać tę samą czynność z inną zmienną. Składnie pętli `for` jest następująca:\n",
    "\n",
    "```bash\n",
    "for ZMIENNA in WARTOŚCI_JAKIE_MA_PRZYJĄĆ_ZMIENNA\n",
    "do\n",
    "    KOMENDY\n",
    "done\n",
    "```\n",
    "\n",
    "Wartości mogą być zdefiniowane przez liczby, pliki lub też wynik działania komendy. Poniżej 3 przykłady."
   ]
  },
  {
   "cell_type": "markdown",
   "metadata": {},
   "source": [
    "__1) Przykład pętli `for` po zakresie liczb:__\n",
    "\n",
    "Zawartość `for_num.bash`:\n",
    "```bash\n",
    "#!/bin/bash\n",
    "for moja_zmienna in {1..10}\n",
    "do\n",
    "    echo $moja_zmienna\n",
    "done\n",
    "```"
   ]
  },
  {
   "cell_type": "code",
   "execution_count": 20,
   "metadata": {},
   "outputs": [
    {
     "name": "stdout",
     "output_type": "stream",
     "text": [
      "1\n",
      "2\n",
      "3\n",
      "4\n",
      "5\n",
      "6\n",
      "7\n",
      "8\n",
      "9\n",
      "10\n"
     ]
    }
   ],
   "source": [
    "./for_num.bash    # wartość zmiennej `moja_zmienna` przyjmuje wartości od 1 do 10 i za każdym razem jest wypisywana"
   ]
  },
  {
   "cell_type": "markdown",
   "metadata": {},
   "source": [
    "__2) Przykład pętli `for` po plikach:__"
   ]
  },
  {
   "cell_type": "code",
   "execution_count": 22,
   "metadata": {},
   "outputs": [
    {
     "name": "stdout",
     "output_type": "stream",
     "text": [
      "TIC102090493-s2-121s_lc3_fppt.dat  TIC12974182-s2-121s_lc3_fppt.dat\n"
     ]
    }
   ],
   "source": [
    "ls *TIC*fppt*"
   ]
  },
  {
   "cell_type": "markdown",
   "metadata": {},
   "source": [
    "Zawartość `for_file.bash`:\n",
    "```bash\n",
    "#!/bin/bash\n",
    "for moja_zmienna in TIC*fppt*\n",
    "do\n",
    "    echo -n \"Ostania linia pliku $moja_zmienna to: \"\n",
    "    tail -n 1 $moja_zmienna\n",
    "done\n",
    "```"
   ]
  },
  {
   "cell_type": "code",
   "execution_count": 23,
   "metadata": {},
   "outputs": [
    {
     "name": "stdout",
     "output_type": "stream",
     "text": [
      "Ostania linia pliku TIC102090493-s2-121s_lc3_fppt.dat to:   1381.5176043     -0.5467978      0.6999715\n",
      "Ostania linia pliku TIC12974182-s2-121s_lc3_fppt.dat to:   1366.1706170      0.2035082      0.1973666\n"
     ]
    }
   ],
   "source": [
    "./for_file.bash"
   ]
  },
  {
   "cell_type": "markdown",
   "metadata": {},
   "source": [
    "__3) Przykład pętli `for` w wyniku działania komendy:__\n",
    "\n",
    "Zawartość `for_command.bash`:\n",
    "```bash\n",
    "#!/bin/bash\n",
    "for moja_zmienna in $(ls *.dat)\n",
    "do\n",
    "    echo \"$moja_zmienna: Ilość linii w pliku to $(cat $moja_zmienna | wc -l)\"\n",
    "done\n",
    "```"
   ]
  },
  {
   "cell_type": "code",
   "execution_count": 25,
   "metadata": {},
   "outputs": [
    {
     "name": "stdout",
     "output_type": "stream",
     "text": [
      "equations.dat: Ilość linii w pliku to 10000\n",
      "TIC102090493-s2-121s_lc3_fppt.dat: Ilość linii w pliku to 18317\n",
      "TIC12974182-comma.dat: Ilość linii w pliku to 8532\n",
      "TIC12974182-s2-121s_lc3_fppt.dat: Ilość linii w pliku to 8532\n"
     ]
    }
   ],
   "source": [
    "./for_command.bash"
   ]
  },
  {
   "cell_type": "markdown",
   "metadata": {},
   "source": [
    "## 7.4 Przerywanie `break` i kontynuacja `continue` pętli"
   ]
  },
  {
   "cell_type": "markdown",
   "metadata": {},
   "source": [
    "__Można wymusić przerwanie pętli, gdy np. spełniony zostanie jakiś warunek. Używa się do tego komendy `break`.__"
   ]
  },
  {
   "cell_type": "markdown",
   "metadata": {},
   "source": [
    "Zawartość `for_command2.bash`:<br>\n",
    "Tutaj pętla wykona się trzy razy i gdy osiągnięty zostanie warunek (liczba linii mniejsza niż 9000) zostanie przerwana.\n",
    "```bash\n",
    "#!/bin/bash\n",
    "for moja_zmienna in $(ls *.dat)\n",
    "do\n",
    "    nlines=$(cat $moja_zmienna | wc -l)\n",
    "    if [[ $nlines -lt 9000 ]]; then\n",
    "        break\n",
    "    fi\n",
    "    echo \"$moja_zmienna: Ilość linii w pliku to $nlines\"\n",
    "done\n",
    "```"
   ]
  },
  {
   "cell_type": "code",
   "execution_count": 26,
   "metadata": {},
   "outputs": [
    {
     "name": "stdout",
     "output_type": "stream",
     "text": [
      "equations.dat: Ilość linii w pliku to 10000\n",
      "TIC102090493-s2-121s_lc3_fppt.dat: Ilość linii w pliku to 18317\n"
     ]
    }
   ],
   "source": [
    "./for_command2.bash"
   ]
  },
  {
   "cell_type": "markdown",
   "metadata": {},
   "source": [
    "__Alternatywnie można pominąć pętlę, gdy spełniony zostanie określony warunek. Używa się do tego komendy `continue`.__"
   ]
  },
  {
   "cell_type": "markdown",
   "metadata": {},
   "source": [
    "Zawartość `for_command2.bash`:<br>\n",
    "Tutaj pętla wykona się cztery razy, ale pierwsze dwa wykonania zostaną pominięte (osiągnięty zostanie warunek -liczba linii większa od 9000).\n",
    "```bash\n",
    "#!/bin/bash\n",
    "for moja_zmienna in $(ls *.dat)\n",
    "do\n",
    "    nlines=$(cat $moja_zmienna | wc -l)\n",
    "    if [[ $nlines -gt 9000 ]]; then\n",
    "        continue\n",
    "    fi\n",
    "    echo \"$moja_zmienna: Ilość linii w pliku to $nlines\"\n",
    "done\n",
    "```"
   ]
  },
  {
   "cell_type": "code",
   "execution_count": 30,
   "metadata": {},
   "outputs": [
    {
     "name": "stdout",
     "output_type": "stream",
     "text": [
      "TIC12974182-comma.dat: Ilość linii w pliku to 8532\n",
      "TIC12974182-s2-121s_lc3_fppt.dat: Ilość linii w pliku to 8532\n"
     ]
    }
   ],
   "source": [
    "./for_command3.bash"
   ]
  },
  {
   "cell_type": "code",
   "execution_count": null,
   "metadata": {},
   "outputs": [],
   "source": []
  }
 ],
 "metadata": {
  "kernelspec": {
   "display_name": "Bash",
   "language": "bash",
   "name": "bash"
  },
  "language_info": {
   "codemirror_mode": "shell",
   "file_extension": ".sh",
   "mimetype": "text/x-sh",
   "name": "bash"
  }
 },
 "nbformat": 4,
 "nbformat_minor": 4
}
