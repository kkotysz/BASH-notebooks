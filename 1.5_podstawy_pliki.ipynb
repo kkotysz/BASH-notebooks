{
 "cells": [
  {
   "cell_type": "markdown",
   "metadata": {},
   "source": [
    "# 1.5. BASH - podstawy pracy z plikami"
   ]
  },
  {
   "cell_type": "markdown",
   "metadata": {},
   "source": [
    "## aktualna ścieżka - pwd"
   ]
  },
  {
   "cell_type": "code",
   "execution_count": 88,
   "metadata": {},
   "outputs": [
    {
     "name": "stdout",
     "output_type": "stream",
     "text": [
      "/Users/krzkot/git-repos/BASH-notebooks/pliki\n"
     ]
    }
   ],
   "source": [
    "pwd"
   ]
  },
  {
   "cell_type": "markdown",
   "metadata": {},
   "source": [
    "## Ścieżki względne i bezwzględne"
   ]
  },
  {
   "cell_type": "markdown",
   "metadata": {},
   "source": [
    "Pracując plikami/folderami możemy się do nich odnosić za pomocą nazwy tylko w przypadku gdy znajdujemy się w ich lokalizacji. W przeciwnym przypadku trzeba podać do nich ścieżkę **względną** lub **bezwzględną**.\n",
    " + ścieżka bezwzględna to taka, która zawiera lokalizację pliku/folderu zaczynając od tzw. korzenia (ang. root) `/`\n",
    " + ścieżka względna to taka, która zawiera lokalizację pliku zaczynając od specjanego znaku:\n",
    "   + `.` -> oznacza obecne miejsce\n",
    "   + `../` -> wskazanie lokalizacji o ścieżkę wyżej\n",
    "   + `~/` -> wskzanie folderu domowego (typowo `/home/<nazwa_uzytkownika>/`\n",
    "   \n",
    "Przykłady ich użycia pojawią się w omówieniu komend poniżej."
   ]
  },
  {
   "cell_type": "markdown",
   "metadata": {},
   "source": [
    "## Tworzenie folderu - mkdir"
   ]
  },
  {
   "cell_type": "code",
   "execution_count": 89,
   "metadata": {
    "scrolled": true
   },
   "outputs": [],
   "source": [
    "mkdir nowyfolder"
   ]
  },
  {
   "cell_type": "code",
   "execution_count": 90,
   "metadata": {},
   "outputs": [
    {
     "name": "stdout",
     "output_type": "stream",
     "text": [
      "total 16\n",
      "-rw-r--r--  1 krzkot  staff  11 Mar  9 16:06 drugiplik\n",
      "-rw-r--r--  1 krzkot  staff  11 Mar  9 16:06 jakisplik\n",
      "drwxr-xr-x  2 krzkot  staff  64 Mar  9 16:08 \u001b[1m\u001b[36mnowyfolder\u001b[39;49m\u001b[0m\n"
     ]
    }
   ],
   "source": [
    "ls -l"
   ]
  },
  {
   "cell_type": "markdown",
   "metadata": {},
   "source": [
    "Widać, że pojawił się nowy folder o nazwie `nowyfolder`. Stwórzmy w tym miejscu plik, używając komendy `echo` i operacji przekierowania `>`."
   ]
  },
  {
   "cell_type": "code",
   "execution_count": 91,
   "metadata": {},
   "outputs": [
    {
     "name": "stdout",
     "output_type": "stream",
     "text": [
      "total 16\n",
      "-rw-r--r--  1 krzkot  staff  11 Mar  9 16:06 drugiplik\n",
      "-rw-r--r--  1 krzkot  staff  11 Mar  9 16:08 jakisplik\n",
      "drwxr-xr-x  2 krzkot  staff  64 Mar  9 16:08 \u001b[1m\u001b[36mnowyfolder\u001b[39;49m\u001b[0m\n"
     ]
    }
   ],
   "source": [
    "echo \"jakistekst\" > jakisplik; ls -l    # dwie komendy w jednej linii"
   ]
  },
  {
   "cell_type": "markdown",
   "metadata": {},
   "source": [
    "**[PORADA]** Można łączyć ze sobą komendy w jednej linii za pomocą średnika `;`, zostaną wtedy wykonane po sobie."
   ]
  },
  {
   "cell_type": "markdown",
   "metadata": {},
   "source": [
    "## Kopiowanie pliku - cp"
   ]
  },
  {
   "cell_type": "code",
   "execution_count": 92,
   "metadata": {},
   "outputs": [
    {
     "name": "stdout",
     "output_type": "stream",
     "text": [
      "drugiplik  jakisplik  \u001b[1m\u001b[36mnowyfolder\u001b[39;49m\u001b[0m\n"
     ]
    }
   ],
   "source": [
    "cp jakisplik drugiplik; ls"
   ]
  },
  {
   "cell_type": "code",
   "execution_count": 93,
   "metadata": {},
   "outputs": [],
   "source": [
    "cd nowyfolder # zmiana obecnej ścieżki (otwarcie folderu nowyfolder)"
   ]
  },
  {
   "cell_type": "code",
   "execution_count": 94,
   "metadata": {},
   "outputs": [
    {
     "name": "stdout",
     "output_type": "stream",
     "text": [
      "/Users/krzkot/git-repos/BASH-notebooks/pliki/nowyfolder\n"
     ]
    }
   ],
   "source": [
    "pwd"
   ]
  },
  {
   "cell_type": "code",
   "execution_count": 95,
   "metadata": {},
   "outputs": [],
   "source": [
    "cp ../jakisplik .   # kopiowanie pliku używając ścieżki względnej"
   ]
  },
  {
   "cell_type": "markdown",
   "metadata": {},
   "source": [
    "Właśnie został skopiowany plik `jakisplik` z poziomu wyżej (`../` do obecnego miejsca `.`)"
   ]
  },
  {
   "cell_type": "code",
   "execution_count": 96,
   "metadata": {},
   "outputs": [
    {
     "name": "stdout",
     "output_type": "stream",
     "text": [
      "total 8\n",
      "-rw-r--r--  1 krzkot  staff  11 Mar  9 16:08 jakisplik\n"
     ]
    }
   ],
   "source": [
    "ls -l"
   ]
  },
  {
   "cell_type": "markdown",
   "metadata": {},
   "source": [
    "Można również podejrzeć zawartość ścieżki wyżej poprzez:"
   ]
  },
  {
   "cell_type": "code",
   "execution_count": 97,
   "metadata": {},
   "outputs": [
    {
     "name": "stdout",
     "output_type": "stream",
     "text": [
      "total 16\n",
      "-rw-r--r--  1 krzkot  staff  11 Mar  9 16:08 drugiplik\n",
      "-rw-r--r--  1 krzkot  staff  11 Mar  9 16:08 jakisplik\n",
      "drwxr-xr-x  3 krzkot  staff  96 Mar  9 16:08 \u001b[1m\u001b[36mnowyfolder\u001b[39;49m\u001b[0m\n"
     ]
    }
   ],
   "source": [
    "ls -l ../"
   ]
  },
  {
   "cell_type": "markdown",
   "metadata": {},
   "source": [
    "## przeniesienie pliku/zmiana nazwy - mv"
   ]
  },
  {
   "cell_type": "code",
   "execution_count": 98,
   "metadata": {},
   "outputs": [
    {
     "name": "stdout",
     "output_type": "stream",
     "text": [
      "/Users/krzkot/git-repos/BASH-notebooks/pliki/nowyfolder\n",
      "total 8\n",
      "-rw-r--r--  1 krzkot  staff  11 Mar  9 16:08 jakisplik\n"
     ]
    }
   ],
   "source": [
    "pwd; ls -l"
   ]
  },
  {
   "cell_type": "code",
   "execution_count": 106,
   "metadata": {},
   "outputs": [],
   "source": [
    "mv jakisplik tensamplikoinnejnazwie # zmiana nazwy pliku"
   ]
  },
  {
   "cell_type": "code",
   "execution_count": 107,
   "metadata": {},
   "outputs": [
    {
     "name": "stdout",
     "output_type": "stream",
     "text": [
      "total 8\n",
      "-rw-r--r--  1 krzkot  staff  11 Mar  9 16:08 tensamplikoinnejnazwie\n"
     ]
    }
   ],
   "source": [
    "ls -l"
   ]
  },
  {
   "cell_type": "markdown",
   "metadata": {},
   "source": [
    "Komenda `mv` również pozwala przenosić pliki pomięrzy lokalizacjami."
   ]
  },
  {
   "cell_type": "code",
   "execution_count": 108,
   "metadata": {},
   "outputs": [
    {
     "name": "stdout",
     "output_type": "stream",
     "text": [
      "total 16\n",
      "-rw-r--r--  1 krzkot  staff  11 Mar  9 16:08 drugiplik\n",
      "-rw-r--r--  1 krzkot  staff  11 Mar  9 16:08 jakisplik\n",
      "drwxr-xr-x  3 krzkot  staff  96 Mar  9 16:10 \u001b[1m\u001b[36mnowyfolder\u001b[39;49m\u001b[0m\n"
     ]
    }
   ],
   "source": [
    "ls -l ../"
   ]
  },
  {
   "cell_type": "code",
   "execution_count": 112,
   "metadata": {},
   "outputs": [],
   "source": [
    "mv ../drugiplik . # przeniesienie pliku drugiplik z poziomu wyżej do obecnej lokalizacji"
   ]
  },
  {
   "cell_type": "code",
   "execution_count": 113,
   "metadata": {
    "scrolled": true
   },
   "outputs": [
    {
     "name": "stdout",
     "output_type": "stream",
     "text": [
      "total 16\n",
      "-rw-r--r--  1 krzkot  staff  11 Mar  9 16:08 drugiplik\n",
      "-rw-r--r--  1 krzkot  staff  11 Mar  9 16:08 tensamplikoinnejnazwie\n"
     ]
    }
   ],
   "source": [
    "ls -l"
   ]
  },
  {
   "cell_type": "code",
   "execution_count": 114,
   "metadata": {},
   "outputs": [
    {
     "name": "stdout",
     "output_type": "stream",
     "text": [
      "total 8\n",
      "-rw-r--r--  1 krzkot  staff   11 Mar  9 16:08 jakisplik\n",
      "drwxr-xr-x  4 krzkot  staff  128 Mar  9 16:11 \u001b[1m\u001b[36mnowyfolder\u001b[39;49m\u001b[0m\n"
     ]
    }
   ],
   "source": [
    "ls -l ../"
   ]
  },
  {
   "cell_type": "markdown",
   "metadata": {},
   "source": [
    "## Usuwanie pliku/folderu - rm"
   ]
  },
  {
   "cell_type": "code",
   "execution_count": 115,
   "metadata": {},
   "outputs": [
    {
     "name": "stdout",
     "output_type": "stream",
     "text": [
      "/Users/krzkot/git-repos/BASH-notebooks/pliki/nowyfolder\n"
     ]
    }
   ],
   "source": [
    "pwd"
   ]
  },
  {
   "cell_type": "code",
   "execution_count": 116,
   "metadata": {},
   "outputs": [
    {
     "name": "stdout",
     "output_type": "stream",
     "text": [
      "total 16\n",
      "-rw-r--r--  1 krzkot  staff  11 Mar  9 16:08 drugiplik\n",
      "-rw-r--r--  1 krzkot  staff  11 Mar  9 16:08 tensamplikoinnejnazwie\n"
     ]
    }
   ],
   "source": [
    "ls -l"
   ]
  },
  {
   "cell_type": "code",
   "execution_count": 119,
   "metadata": {},
   "outputs": [],
   "source": [
    "rm /Users/krzkot/git-repos/BASH-notebooks/pliki/nowyfolder/tensamplikoinnejnazwie"
   ]
  },
  {
   "cell_type": "markdown",
   "metadata": {},
   "source": [
    "Powyższa komnenda usuwa plik używając ścieżki bezwzględnej."
   ]
  },
  {
   "cell_type": "code",
   "execution_count": 120,
   "metadata": {},
   "outputs": [
    {
     "name": "stdout",
     "output_type": "stream",
     "text": [
      "total 8\n",
      "-rw-r--r--  1 krzkot  staff  11 Mar  9 16:08 drugiplik\n"
     ]
    }
   ],
   "source": [
    "ls -l"
   ]
  },
  {
   "cell_type": "markdown",
   "metadata": {},
   "source": [
    "Komenda `rm` posiada wiele opcji. Jedną z nich jest `-r` - służy do usunięcia folderu i wszystkich innych folderów i plików w nim będących."
   ]
  },
  {
   "cell_type": "markdown",
   "metadata": {},
   "source": [
    "Przejdźmy o poziom wyżej"
   ]
  },
  {
   "cell_type": "code",
   "execution_count": 121,
   "metadata": {},
   "outputs": [
    {
     "name": "stdout",
     "output_type": "stream",
     "text": [
      "/Users/krzkot/git-repos/BASH-notebooks/pliki/nowyfolder\n"
     ]
    }
   ],
   "source": [
    "pwd"
   ]
  },
  {
   "cell_type": "code",
   "execution_count": 122,
   "metadata": {},
   "outputs": [
    {
     "name": "stdout",
     "output_type": "stream",
     "text": [
      "/Users/krzkot/git-repos/BASH-notebooks/pliki\n",
      "total 8\n",
      "-rw-r--r--  1 krzkot  staff  11 Mar  9 16:08 jakisplik\n",
      "drwxr-xr-x  3 krzkot  staff  96 Mar  9 16:12 \u001b[1m\u001b[36mnowyfolder\u001b[39;49m\u001b[0m\n"
     ]
    }
   ],
   "source": [
    "cd ../; pwd; ls -l"
   ]
  },
  {
   "cell_type": "code",
   "execution_count": 123,
   "metadata": {
    "scrolled": true
   },
   "outputs": [
    {
     "name": "stdout",
     "output_type": "stream",
     "text": [
      "total 8\n",
      "-rw-r--r--  1 krzkot  staff  11 Mar  9 16:08 jakisplik\n"
     ]
    }
   ],
   "source": [
    "rm -r nowyfolder; ls -l"
   ]
  },
  {
   "cell_type": "markdown",
   "metadata": {},
   "source": [
    "Folder `nowyfolder` został usunięty."
   ]
  }
 ],
 "metadata": {
  "kernelspec": {
   "display_name": "Bash",
   "language": "bash",
   "name": "bash"
  },
  "language_info": {
   "codemirror_mode": "shell",
   "file_extension": ".sh",
   "mimetype": "text/x-sh",
   "name": "bash"
  }
 },
 "nbformat": 4,
 "nbformat_minor": 4
}
