{
 "cells": [
  {
   "cell_type": "markdown",
   "metadata": {},
   "source": [
    "# 5. Język interpertowany AWK - część 1"
   ]
  },
  {
   "cell_type": "markdown",
   "metadata": {},
   "source": [
    "Kolejnym, bardzo potężnym narzędziem do przetwarzania plików tekstowych w systemach UNIX-owych jest program awk. Może być traktowany jako samodzielny skryptowy język programowania. Może być używany zarówno jako samodzielna komenda w terminalu, a także używane w skryptach oraz sam w sobie może się składać z serii poleceń tworzących jeden skrypt awk. Zawiera bardzo wiele pożytecznych struktur danych, m.in. są to: tablice asocjacyjne (czyli takie, które indeksuje sie nie za pomocą liczb, ale słów), zmienne znakowe (string) oraz wyrażenia regularne. Tutaj skupimy się na wykorzystaniu języka `awk` w postaci jednoliniowych komend z użyciem wcześniej wymienionych struktur."
   ]
  },
  {
   "cell_type": "markdown",
   "metadata": {},
   "source": [
    "## 5.1 Struktura `awk` i użycie postawowych komend."
   ]
  },
  {
   "cell_type": "markdown",
   "metadata": {},
   "source": [
    "Składnia wywołania:\n",
    "```bash\n",
    "awk '<warunek> { <polecenie> }' <plik_tekstowy>\n",
    "```"
   ]
  },
  {
   "cell_type": "markdown",
   "metadata": {},
   "source": [
    "Po komendzie `awk`, polecenia które program będzie wykonywał należy \"opakować\" cudzysłowem `''`, a na trzeba podać nazwę pliku do przetworzenia. Komendę `awk` można również użyć w potoku `|`. \n",
    "\n",
    "W `awk` wbudowana jest komenda `print` służąca do wypisywania zawartości pliku. Każda linia jest rozdzielana na poszczególne pola ze względu na domyślny separator (spacje, tabulator).\n",
    "\n",
    "Przykłady:"
   ]
  },
  {
   "cell_type": "markdown",
   "metadata": {},
   "source": [
    ">Wypisuje tylko pierwszą kolumnę z pliku, jeśli wartość jest większa od 999"
   ]
  },
  {
   "cell_type": "code",
   "execution_count": 24,
   "metadata": {},
   "outputs": [
    {
     "name": "stdout",
     "output_type": "stream",
     "text": [
      "999.29\n",
      "999.33\n",
      "999.39\n",
      "999.14\n",
      "999.61\n",
      "999.96\n",
      "999.71\n",
      "999.25\n",
      "999.72\n"
     ]
    }
   ],
   "source": [
    "awk '$1 > 999 {print $1}' equations.dat "
   ]
  },
  {
   "cell_type": "markdown",
   "metadata": {},
   "source": [
    "> Bez podania polecenia, warunek zadziała na całą linię (zostanie ona wypisana)"
   ]
  },
  {
   "cell_type": "code",
   "execution_count": 25,
   "metadata": {},
   "outputs": [
    {
     "name": "stdout",
     "output_type": "stream",
     "text": [
      "999.29 - 518.28\n",
      "999.33 / 231.7\n",
      "999.39 + 819.7\n",
      "999.14 / 889.47\n",
      "999.61 - 463.58\n",
      "999.96 + 734.22\n",
      "999.71 / 183.59\n",
      "999.25 - 915.72\n",
      "999.72 - 986.44\n"
     ]
    }
   ],
   "source": [
    "awk '$1 > 999' equations.dat "
   ]
  },
  {
   "cell_type": "markdown",
   "metadata": {},
   "source": [
    "> Analogicznie, bez podania warunku, polecenie zadziała na wszystkie linie w pliku. Dla czytelności, wyświetlę tylko 10 ostatnich linii pliku `equations.dat`. Dodatkowo połączymy efekt działania komendy `tail` z `awk` za pomocą potoku (pipe) `|`."
   ]
  },
  {
   "cell_type": "code",
   "execution_count": 27,
   "metadata": {},
   "outputs": [
    {
     "name": "stdout",
     "output_type": "stream",
     "text": [
      "+\n",
      "/\n",
      "+\n",
      "/\n",
      "/\n",
      "-\n",
      "/\n",
      "-\n",
      "+\n",
      "+\n"
     ]
    }
   ],
   "source": [
    "tail -n 10 equations.dat | awk '{print $2}'"
   ]
  },
  {
   "cell_type": "markdown",
   "metadata": {},
   "source": [
    "## 5.2 Wbudowane zmienne i opreacje matematyczne."
   ]
  },
  {
   "cell_type": "markdown",
   "metadata": {},
   "source": [
    "W `awk` można również używać wbudowanych zmiennych, są to m. in.:\n",
    "- umożliwiające dostęp do poszczególnych pól: `$1`, `$2`, `$3`\n",
    "- `$0`: odnosi się do całej linii\n",
    "- `NR`: odnosi się do numeru linii w pliku\n",
    "- `NF`: odnosi się do ilości pól w linii, do ostatniego pola można się odnieść poprzez `$NF`\n",
    "- `FILENAME`: zawiera nazwę obecnie przetwarzanego pliku\n",
    "- `FS`: zmienna zawierająca obecny separator pola, można tę zmienną nadpisać aby zmienić separator\n",
    "- `RS`: zmienna zawierająca obecny seperator rekordu, domyślnie jest to znak nowej linii\n",
    "- `OFS`: zmienna zawierająca separator używany przy wypisywaniu pól, domyślnie jest to \"spacja\"\n",
    "- `ORS`: zmienna zawierająca separator używany przy wypisywaniu rekordów, domyślnie jest to \"znak nowej linii\"\n",
    "\n",
    "Inne operacje:\n",
    "- `BEGIN` : nie jest to zmienna, ale warunek który powoduje wykonanie polecenia na początku czytania pliku (dzięki temu można się odnieść do pierwszej linii)\n",
    "- `END` : nie jest to zmienna, ale warunek który powoduje wykonanie polecenia na końcu czytania pliku (dzięki temu można się odnieść do ostatniej linii) \n",
    "\n",
    "Dodatkowo można też wykonywać operacje matematyczne na zmiennych (oczywiście jeśli są to liczby), za pomocą:<br>`+ : dodawanie`, `- : odejmowanie`, `* : mnożenie`, `/ : dzielenie`, `% : modulo`, `^ : potęgowanie`.<br>Wyniki działań można również przypisywać do zmiennych zdefiniowanych przez użytkownika. Poniżej przykłady:"
   ]
  },
  {
   "cell_type": "markdown",
   "metadata": {},
   "source": [
    "> W tym przykładzie podzielone zostały liczby z drugiej linii pliku `equations.dat`"
   ]
  },
  {
   "cell_type": "code",
   "execution_count": 45,
   "metadata": {},
   "outputs": [
    {
     "name": "stdout",
     "output_type": "stream",
     "text": [
      "liczby: 782.65 848.9 | wynik dzielenia:  0.921958\n"
     ]
    }
   ],
   "source": [
    "awk 'NR==2 {print \"liczby: \"$1,$3,\"| wynik dzielenia: \",$1/$3}' equations.dat"
   ]
  },
  {
   "cell_type": "code",
   "execution_count": 62,
   "metadata": {},
   "outputs": [
    {
     "name": "stdout",
     "output_type": "stream",
     "text": [
      "liczby: 651.11 573.97 | wynik potęgowania:  423944\n"
     ]
    }
   ],
   "source": [
    "awk 'NR==85 {print \"liczby: \"$1,$3,\"| wynik potęgowania: \",$1^2}' equations.dat"
   ]
  },
  {
   "cell_type": "markdown",
   "metadata": {},
   "source": [
    "> Za pomocą `awk` można też w łatwy sposób napisać skrypt liczący bazę czasową z pierwszego notebook-a."
   ]
  },
  {
   "cell_type": "code",
   "execution_count": 65,
   "metadata": {},
   "outputs": [
    {
     "name": "stdout",
     "output_type": "stream",
     "text": [
      "# TBJD-2450000      FLUX           FLUX_ERR\n",
      "  1354.1131991     -3.5355597      0.6838813\n",
      "  1354.1145881     -3.0284873      0.6841874\n",
      "  1354.1173659      0.7362481      0.6849412\n",
      "  1354.1187548      1.0039511      0.6853946\n",
      "  1354.1201437      2.0536179      0.6856015\n",
      "  1354.1215327      2.9236379      0.6860147\n",
      "  1354.1229216      3.1528239      0.6861270\n",
      "  1354.1243105      1.7814821      0.6857486\n",
      "  1354.1256994      2.6458713      0.6859725\n"
     ]
    }
   ],
   "source": [
    "head TIC102090493-s2-121s_lc3_fppt.dat"
   ]
  },
  {
   "cell_type": "code",
   "execution_count": 77,
   "metadata": {},
   "outputs": [],
   "source": [
    "start=$(awk 'NR==2{print $1}' TIC102090493-s2-121s_lc3_fppt.dat)  # zapisuję pierwsze pole z drugiej linii"
   ]
  },
  {
   "cell_type": "code",
   "execution_count": 78,
   "metadata": {},
   "outputs": [],
   "source": [
    "end=$(awk 'END{print $1}' TIC102090493-s2-121s_lc3_fppt.dat)    # zapisuję pierwsze pole z ostatniej linii"
   ]
  },
  {
   "cell_type": "code",
   "execution_count": 81,
   "metadata": {},
   "outputs": [
    {
     "name": "stdout",
     "output_type": "stream",
     "text": [
      "27.4044052\n"
     ]
    }
   ],
   "source": [
    "echo $end-$start | bc -l         # wyliczenie bazy czasowej"
   ]
  },
  {
   "cell_type": "markdown",
   "metadata": {},
   "source": [
    "> Przykład jak zmienić separator pól: użyta zostanie __kropka__ `.` Chcę, aby na samym początku ustawiony został separator. Gwarantuje mi to `BEGIN {FS=\".\"}`. Muszę następnie oddzielić średnikiem to polecenie od kolejnych. Potem wypisuję pierwsze pole, dla linii mniejszych od 10 i (drugi warunek dodaję za pomocą `&&`) większe od 1."
   ]
  },
  {
   "cell_type": "code",
   "execution_count": 120,
   "metadata": {},
   "outputs": [
    {
     "name": "stdout",
     "output_type": "stream",
     "text": [
      "  1354\n",
      "  1354\n",
      "  1354\n",
      "  1354\n",
      "  1354\n",
      "  1354\n",
      "  1354\n",
      "  1354\n"
     ]
    }
   ],
   "source": [
    "awk 'BEGIN{FS=\".\"}; NR<10 && NR>1{print $1}' TIC102090493-s2-121s_lc3_fppt.dat"
   ]
  },
  {
   "cell_type": "markdown",
   "metadata": {},
   "source": [
    "## 5.3 Wyrażenia regularne z `awk`"
   ]
  },
  {
   "cell_type": "markdown",
   "metadata": {},
   "source": [
    "`awk` również używa wyrażeń regularnych (por. tabelka z notebook-a nr 4)"
   ]
  },
  {
   "cell_type": "code",
   "execution_count": 121,
   "metadata": {},
   "outputs": [
    {
     "name": "stdout",
     "output_type": "stream",
     "text": [
      "724.96 * 1.37\n",
      "782.65 - 848.9\n",
      "805.51 + 981.97\n",
      "296.5 / 132.77\n",
      "477.15 / 217.23\n",
      "149.96 - 418.28\n",
      "707.83 / 241.16\n",
      "750.53 - 329.8\n",
      "401.87 / 319.88\n",
      "717.33 - 189.74\n"
     ]
    }
   ],
   "source": [
    "head equations.dat"
   ]
  },
  {
   "cell_type": "code",
   "execution_count": 137,
   "metadata": {},
   "outputs": [
    {
     "name": "stdout",
     "output_type": "stream",
     "text": [
      "782.65 - 848.9\n",
      "805.51 + 981.97\n",
      "149.96 - 418.28\n",
      "750.53 - 329.8\n",
      "717.33 - 189.74\n",
      "443.56 - 666.54\n",
      "214.57 + 286.47\n",
      "464.9 + 656.97\n",
      "703.0 - 794.15\n"
     ]
    }
   ],
   "source": [
    "awk '/[+-]/' equations.dat | awk 'NR<10'   # wypisze 10 pierwszych linii, które zawierają znaki + lub -"
   ]
  },
  {
   "cell_type": "markdown",
   "metadata": {},
   "source": [
    "> Wypisze pierwszy element linii, które zawierają frazę która zaczyna wiersz od A lub a, po kótrej nastepuje dowolny znak i kończy się dowolnym znakiem z wyłączeniem spacji."
   ]
  },
  {
   "cell_type": "code",
   "execution_count": 179,
   "metadata": {},
   "outputs": [
    {
     "name": "stdout",
     "output_type": "stream",
     "text": [
      "And\n",
      "And\n",
      "And\n",
      "And\n",
      "And\n",
      "All\n",
      "And\n",
      "And\n",
      "And\n",
      "And\n",
      "Across\n",
      "And\n",
      "And\n",
      "And\n",
      "All\n"
     ]
    }
   ],
   "source": [
    "awk '/^[Aa].[^ ]/ {print $1}' bd_dr.txt"
   ]
  },
  {
   "cell_type": "markdown",
   "metadata": {},
   "source": [
    "<br>c.d.n."
   ]
  },
  {
   "cell_type": "code",
   "execution_count": null,
   "metadata": {},
   "outputs": [],
   "source": []
  }
 ],
 "metadata": {
  "kernelspec": {
   "display_name": "Bash",
   "language": "bash",
   "name": "bash"
  },
  "language_info": {
   "codemirror_mode": "shell",
   "file_extension": ".sh",
   "mimetype": "text/x-sh",
   "name": "bash"
  }
 },
 "nbformat": 4,
 "nbformat_minor": 2
}
