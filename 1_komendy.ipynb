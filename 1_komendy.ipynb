{
 "cells": [
  {
   "cell_type": "markdown",
   "metadata": {},
   "source": [
    "# 1. BASH - podstawowe komendy"
   ]
  },
  {
   "cell_type": "markdown",
   "metadata": {},
   "source": [
    "### man - wyświetlenie manuala dla danej komendy"
   ]
  },
  {
   "cell_type": "markdown",
   "metadata": {},
   "source": [
    "Możemy sprawdzić działanie dowolnej komendy oraz dowiedzieć się jakie opcje możemy z nią wywołać."
   ]
  },
  {
   "cell_type": "code",
   "execution_count": 4,
   "metadata": {},
   "outputs": [
    {
     "name": "stdout",
     "output_type": "stream",
     "text": [
      "CP(1)                            User Commands                           CP(1)\n",
      "\n",
      "NAME\n",
      "       cp - copy files and directories\n",
      "\n",
      "SYNOPSIS\n",
      "       cp [OPTION]... [-T] SOURCE DEST\n",
      "       cp [OPTION]... SOURCE... DIRECTORY\n",
      "       cp [OPTION]... -t DIRECTORY SOURCE...\n",
      "\n",
      "DESCRIPTION\n",
      "       Copy SOURCE to DEST, or multiple SOURCE(s) to DIRECTORY.\n",
      "\n",
      "       Mandatory  arguments  to  long  options are mandatory for short options\n",
      "       too.\n",
      "\n",
      "       -a, --archive\n",
      "              same as -dR --preserve=all\n",
      "\n",
      "       --attributes-only\n",
      "              don't copy the file data, just the attributes\n",
      "\n",
      "       --backup[=CONTROL]\n",
      "              make a backup of each existing destination file\n",
      "\n",
      "       -b     like --backup but does not accept an argument\n",
      "\n",
      "       --copy-contents\n",
      "              copy contents of special files when recursive\n",
      "\n"
     ]
    }
   ],
   "source": [
    "man cp | head -n 30    # komendą `head -n 30` wyświetlam 30 pierwszych linii manuala "
   ]
  },
  {
   "cell_type": "markdown",
   "metadata": {},
   "source": [
    "Skróconą wersję pomocy dla danej komendy można wywołać poprzez uruchomienie komendy z opcją --help. Dla przykładu, chcemy się dowiedzieć jak działa komenda <b>ls</b>."
   ]
  },
  {
   "cell_type": "code",
   "execution_count": 3,
   "metadata": {},
   "outputs": [
    {
     "name": "stdout",
     "output_type": "stream",
     "text": [
      "Składnia: ls [OPCJA]... [PLIK]...\n",
      "Wypisanie informacji o PLIKACH (domyślnie w katalogu bieżącym). Sortowane\n",
      "alfabetyczne, jeżeli nie jest podana żadna z opcji -cftuvSUX ani --sort.\n",
      "\n",
      "Argumenty obowiązkowe dla opcji długich obowiązują również dla krótkich.\n",
      "  -a, --all                  bez ukrywania plików zaczynających się od .\n",
      "  -A, --almost-all           bez pokazywania . ani ..\n",
      "      --author               z -l: wypisanie autora każdego pliku\n",
      "  -b, --escape               wypisanie znaków niegraficznych ósemkowo (w stylu\n",
      "                               języka C, np. \\012)\n",
      "      --block-size=ROZMIAR   skala rozmiarów; np. „--block-size=M” powoduje\n",
      "                               wypisanie rozmiarów w jednostkach po 1048576\n",
      "                               bajtów;\n",
      "                               zobacz infomacje o formacie ROZMIARÓW poniżej.\n",
      "  -B, --ignore-backups       bez pokazania plików kończących się na ~\n",
      "  -c                         z -lt: sortowanie wg i wypisanie ctime (czasu\n",
      "                               ostatniej modyfikacji danych o pliku);\n",
      "                               z -l: wypisanie ctime i sortowanie wg nazw;\n",
      "                               w przeciwnym przypadku: sortowanie wg ctime,\n",
      "                               najnowsze pliki na początku\n",
      "  -C                         wypisanie plików w kolumnach\n",
      "      --color[=GDY]          kolorowanie informacji. GDY może być „always\n",
      "                               (zawsze, domyślnie), „auto” (automatycznie)\n",
      "                               albo „never” (nigdy); więcej informacji poniżej\n",
      "  -d, --directory            pokazanie katalogów zamiast ich zawartości\n",
      "  -D, --dired                dane wyjściowe dla trybu dired Emacsa\n",
      "  -f                         bez sortowania, włączenie -aU, wyłączenie -lst\n",
      "  -F, --classify             dopisanie znaków wskazujących typ każdego\n",
      "                               elementu (jednego z */=>@|)\n",
      "      --file-type            podobnie, ale oprócz „*”\n"
     ]
    }
   ],
   "source": [
    "ls --help | head -n 30"
   ]
  },
  {
   "cell_type": "markdown",
   "metadata": {},
   "source": [
    "## 1.1 Manipulacja plikami"
   ]
  },
  {
   "cell_type": "markdown",
   "metadata": {},
   "source": [
    "Na początek warto zapamiętać, że cokolwiek robimy w terminalu, wynik działania komendy domyślnie będzie wyświetlany na ekranie. W BASH-u isnieją odpowiednie operatory przekierowania, żeby to zmienić. Są to:\n",
    "\\> >> <\n",
    "\n",
    "<b>komenda1 > PLIK1</b> : wynik działania operacji komenda1 zostanie wpisany do pliku o nazwie PLIK1 (ponowne zastosowanie, spowoduje napisanie pliku)<br>\n",
    "<b>komenda2 >> PLIK2</b> : wynik działania operacji komenda2 zostanie dopisany na koniec pliku o nazwie PLIK2 <br>\n",
    "<b>komenda3 < PLIK3 </b> : zawartość pliku o nazwie PLIK3 zostanie przekierowana do wejścia operacji komenda3.<br>\n",
    "\n",
    "Przykłady zastosowania przekerowań będą pokazywane poniżej na konkretnych poleceniach."
   ]
  },
  {
   "cell_type": "markdown",
   "metadata": {},
   "source": [
    "### ls - wyświetlenie zawratości aktualnego katalogu"
   ]
  },
  {
   "cell_type": "code",
   "execution_count": 27,
   "metadata": {
    "scrolled": true
   },
   "outputs": [
    {
     "name": "stdout",
     "output_type": "stream",
     "text": [
      "astro.dat  helio.dat  SO_komendy.ipynb  stars.dat\n"
     ]
    }
   ],
   "source": [
    "ls"
   ]
  },
  {
   "cell_type": "markdown",
   "metadata": {},
   "source": [
    "#### przydatne opcje:\n",
    "-l: wyświetla w postaci listy <br>\n",
    "-t : sortuje według czasu modyfikacji pliku <br>\n",
    "-r : odwraca sposób sortowania <br>\n",
    "-h : pokazuje rozmiary plików w czytelnej formie <br>"
   ]
  },
  {
   "cell_type": "code",
   "execution_count": 28,
   "metadata": {},
   "outputs": [
    {
     "name": "stdout",
     "output_type": "stream",
     "text": [
      "razem 16K\n",
      "-rw-r--r-- 1 krzkot krzkot   0 mar  5 09:46 astro.dat\n",
      "-rw-r--r-- 1 krzkot krzkot   0 mar  5 09:46 helio.dat\n",
      "-rw-r--r-- 1 krzkot krzkot 14K mar  5 09:47 SO_komendy.ipynb\n",
      "-rw-r--r-- 1 krzkot krzkot   0 mar  5 09:47 stars.dat\n"
     ]
    }
   ],
   "source": [
    "ls -lrth"
   ]
  },
  {
   "cell_type": "markdown",
   "metadata": {},
   "source": [
    "Wynik działania komendy <b>ls</b> można przekierować do pliku"
   ]
  },
  {
   "cell_type": "code",
   "execution_count": 29,
   "metadata": {},
   "outputs": [],
   "source": [
    "ls -lrth > file_list.txt"
   ]
  },
  {
   "cell_type": "code",
   "execution_count": 33,
   "metadata": {},
   "outputs": [
    {
     "name": "stdout",
     "output_type": "stream",
     "text": [
      "razem 20K\n",
      "-rw-r--r-- 1 krzkot krzkot   0 mar  5 09:46 astro.dat\n",
      "-rw-r--r-- 1 krzkot krzkot   0 mar  5 09:46 helio.dat\n",
      "-rw-r--r-- 1 krzkot krzkot   0 mar  5 09:47 stars.dat\n",
      "-rw-r--r-- 1 krzkot krzkot 291 mar  5 09:48 file_list.txt\n",
      "-rw-r--r-- 1 krzkot krzkot 14K mar  5 09:49 SO_komendy.ipynb\n"
     ]
    }
   ],
   "source": [
    "ls -lrth"
   ]
  },
  {
   "cell_type": "markdown",
   "metadata": {},
   "source": [
    "Widać, że pojawił się plik o nazwie file_list.txt. Teraz można wyświetlić zawartość tego pliku."
   ]
  },
  {
   "cell_type": "markdown",
   "metadata": {},
   "source": [
    "### cat - wyświetlenie zawratości pliku"
   ]
  },
  {
   "cell_type": "code",
   "execution_count": 32,
   "metadata": {},
   "outputs": [
    {
     "name": "stdout",
     "output_type": "stream",
     "text": [
      "razem 16K\n",
      "-rw-r--r-- 1 krzkot krzkot   0 mar  5 09:46 astro.dat\n",
      "-rw-r--r-- 1 krzkot krzkot   0 mar  5 09:46 helio.dat\n",
      "-rw-r--r-- 1 krzkot krzkot 14K mar  5 09:47 SO_komendy.ipynb\n",
      "-rw-r--r-- 1 krzkot krzkot   0 mar  5 09:47 stars.dat\n",
      "-rw-r--r-- 1 krzkot krzkot   0 mar  5 09:48 file_list.txt\n"
     ]
    }
   ],
   "source": [
    "cat file_list.txt"
   ]
  },
  {
   "cell_type": "markdown",
   "metadata": {},
   "source": [
    "Plik zawiera wynik działania komendy ls -lrth. Na liście istnieje również file_list.txt, do którego dopiero skierowany został wynik działania ls. Widać, że rozmiar tego pliku jest równy 0, co daje informację o tym jak działa przekierowanie do pliku. Najpierw jest tworzony plik, potem dopiero jest wykonywana komenda i jej wynik jest wpisywany do nowo stworzonego pliku. Pliki możemy również tworzyć sami."
   ]
  },
  {
   "cell_type": "markdown",
   "metadata": {},
   "source": [
    "### touch - tworzenie pliku"
   ]
  },
  {
   "cell_type": "code",
   "execution_count": 36,
   "metadata": {},
   "outputs": [],
   "source": [
    "touch telescope_names.txt"
   ]
  },
  {
   "cell_type": "code",
   "execution_count": 38,
   "metadata": {},
   "outputs": [
    {
     "name": "stdout",
     "output_type": "stream",
     "text": [
      "astro.dat      helio.dat         stars.dat\n",
      "file_list.txt  SO_komendy.ipynb  telescope_names.txt\n"
     ]
    }
   ],
   "source": [
    "ls"
   ]
  },
  {
   "cell_type": "markdown",
   "metadata": {},
   "source": [
    "Stworzony został pusty plik o nazwie telescope_names.txt"
   ]
  },
  {
   "cell_type": "markdown",
   "metadata": {},
   "source": [
    "### echo - wyświetlanie napisu/zmiennej w terminalu"
   ]
  },
  {
   "cell_type": "code",
   "execution_count": 40,
   "metadata": {},
   "outputs": [
    {
     "name": "stdout",
     "output_type": "stream",
     "text": [
      "BLT (Białków Large Telescope)\n"
     ]
    }
   ],
   "source": [
    "echo \"BLT (Białków Large Telescope)\""
   ]
  },
  {
   "cell_type": "markdown",
   "metadata": {},
   "source": [
    "Można również przypisać daną wartość do zmiennej i ją wyświetlić. Do zmiennej należy się odnieść poprzez znak \"$\"."
   ]
  },
  {
   "cell_type": "code",
   "execution_count": 44,
   "metadata": {},
   "outputs": [],
   "source": [
    "blt=\"BLT (Białków Large Telescope)\""
   ]
  },
  {
   "cell_type": "code",
   "execution_count": 45,
   "metadata": {},
   "outputs": [
    {
     "name": "stdout",
     "output_type": "stream",
     "text": [
      "BLT (Białków Large Telescope)\n"
     ]
    }
   ],
   "source": [
    "echo $blt"
   ]
  },
  {
   "cell_type": "markdown",
   "metadata": {},
   "source": [
    "Taki napis można przekierować do pliku. Tym razem za pomocą operatora >> wynik działania komendy echo zostanie dopisany na koniec pliku telescope_names.txt, który na razie jest pusty. Sprawdźmy to:"
   ]
  },
  {
   "cell_type": "code",
   "execution_count": 48,
   "metadata": {},
   "outputs": [],
   "source": [
    "cat telescope_names.txt"
   ]
  },
  {
   "cell_type": "code",
   "execution_count": 49,
   "metadata": {},
   "outputs": [
    {
     "name": "stdout",
     "output_type": "stream",
     "text": [
      "-rw-r--r-- 1 krzkot krzkot 0 mar  5 09:50 telescope_names.txt\n"
     ]
    }
   ],
   "source": [
    "ls -lrth telescope_names.txt"
   ]
  },
  {
   "cell_type": "markdown",
   "metadata": {},
   "source": [
    "Działanie komendy <b>cat</b> rzeczywiście nic nie zwróciło, a rozmiar pliku jest równy 0. Teraz dopiszemy naszą zmienną do pliku."
   ]
  },
  {
   "cell_type": "code",
   "execution_count": 51,
   "metadata": {},
   "outputs": [],
   "source": [
    "echo $blt >> telescope_names.txt"
   ]
  },
  {
   "cell_type": "code",
   "execution_count": 52,
   "metadata": {},
   "outputs": [
    {
     "name": "stdout",
     "output_type": "stream",
     "text": [
      "BLT (Białków Large Telescope)\n"
     ]
    }
   ],
   "source": [
    "cat telescope_names.txt"
   ]
  },
  {
   "cell_type": "markdown",
   "metadata": {},
   "source": [
    "Teraz stworzymy kolejną zmienną i dopiszemy na koniec naszego pliku."
   ]
  },
  {
   "cell_type": "code",
   "execution_count": 53,
   "metadata": {},
   "outputs": [],
   "source": [
    "vlt=\"VLT (Very Large Telescope)\""
   ]
  },
  {
   "cell_type": "code",
   "execution_count": 54,
   "metadata": {},
   "outputs": [],
   "source": [
    "echo $vlt >> telescope_names.txt"
   ]
  },
  {
   "cell_type": "code",
   "execution_count": 55,
   "metadata": {},
   "outputs": [
    {
     "name": "stdout",
     "output_type": "stream",
     "text": [
      "BLT (Białków Large Telescope)\n",
      "VLT (Very Large Telescope)\n"
     ]
    }
   ],
   "source": [
    "cat telescope_names.txt"
   ]
  },
  {
   "cell_type": "markdown",
   "metadata": {},
   "source": [
    "W przypadku plików z wieloma liniami, ich wyświetlanie w całości może być kłopotliwe. Dlatego można wyświetlić tylko część początkową lub końcową tego pliku.<br>\n",
    "Plik o nazwie <b>TIC102090493-s2-121s_lc3_fppt.dat</b> zawiera dane z pomiarami jasności gwiazdy przez satelitę TESS. Spróbujmy najpierw zliczyć ilość linii w tym pliku."
   ]
  },
  {
   "cell_type": "markdown",
   "metadata": {},
   "source": [
    "### wc - zliczenie linii/wyrazów/znaków w pliku"
   ]
  },
  {
   "cell_type": "code",
   "execution_count": 62,
   "metadata": {},
   "outputs": [
    {
     "name": "stdout",
     "output_type": "stream",
     "text": [
      " 18317  54952 824264 TIC102090493-s2-121s_lc3_fppt.dat\n"
     ]
    }
   ],
   "source": [
    "wc TIC102090493-s2-121s_lc3_fppt.dat"
   ]
  },
  {
   "cell_type": "markdown",
   "metadata": {},
   "source": [
    "Wynik polecenia pokazuje kolejno: ilość wierszy, ilość słów, ilość bajtów, nazwę pliku. Wyświetlenie całości pliku zajmie za dużo miejsca w terminalu, spróbujmy wyświetlić tylko kilka pierwszych linii tego pliku, żeby sprawdzić jaką ma składnię."
   ]
  },
  {
   "cell_type": "markdown",
   "metadata": {},
   "source": [
    "### head/tail - wyświetlenie początku/końca pliku"
   ]
  },
  {
   "cell_type": "code",
   "execution_count": 63,
   "metadata": {},
   "outputs": [
    {
     "name": "stdout",
     "output_type": "stream",
     "text": [
      "# TBJD-2450000      FLUX           FLUX_ERR\n",
      "  1354.1131991     -3.5355597      0.6838813\n",
      "  1354.1145881     -3.0284873      0.6841874\n",
      "  1354.1173659      0.7362481      0.6849412\n",
      "  1354.1187548      1.0039511      0.6853946\n",
      "  1354.1201437      2.0536179      0.6856015\n",
      "  1354.1215327      2.9236379      0.6860147\n",
      "  1354.1229216      3.1528239      0.6861270\n",
      "  1354.1243105      1.7814821      0.6857486\n",
      "  1354.1256994      2.6458713      0.6859725\n"
     ]
    }
   ],
   "source": [
    "head TIC102090493-s2-121s_lc3_fppt.dat"
   ]
  },
  {
   "cell_type": "markdown",
   "metadata": {},
   "source": [
    "Polecenie <b>head</b> domyślnie wyświetla 10 pierwszych linii z pliku. Liczbę tę, można zmodyfikować poprzez opcję -n."
   ]
  },
  {
   "cell_type": "code",
   "execution_count": 64,
   "metadata": {
    "scrolled": true
   },
   "outputs": [
    {
     "name": "stdout",
     "output_type": "stream",
     "text": [
      "# TBJD-2450000      FLUX           FLUX_ERR\n",
      "  1354.1131991     -3.5355597      0.6838813\n",
      "  1354.1145881     -3.0284873      0.6841874\n",
      "  1354.1173659      0.7362481      0.6849412\n"
     ]
    }
   ],
   "source": [
    "head -n 4 TIC102090493-s2-121s_lc3_fppt.dat"
   ]
  },
  {
   "cell_type": "markdown",
   "metadata": {},
   "source": [
    "### cut - wycięcie kawałka każdej linii z pliku"
   ]
  },
  {
   "cell_type": "markdown",
   "metadata": {},
   "source": [
    "Komenda cut musi być wykonana z parametrem, bez podania wystąpi błąd. Ogólna składnia wygląda następująco: cut OPCJA PLIK"
   ]
  },
  {
   "cell_type": "code",
   "execution_count": 2,
   "metadata": {},
   "outputs": [
    {
     "name": "stdout",
     "output_type": "stream",
     "text": [
      "BLT (Białków Large Telescope)\n",
      "VLT (Very Large Telescope)\n"
     ]
    }
   ],
   "source": [
    "cat telescope_names.txt"
   ]
  },
  {
   "cell_type": "code",
   "execution_count": 20,
   "metadata": {},
   "outputs": [
    {
     "name": "stdout",
     "output_type": "stream",
     "text": [
      "BLT\n",
      "VLT\n"
     ]
    }
   ],
   "source": [
    "cut -d \" \"  -f 1 telescope_names.txt"
   ]
  },
  {
   "cell_type": "markdown",
   "metadata": {},
   "source": [
    "Opcja <b>-d</b> daje możliwość wskazania separatora, według którego można rozdzielić dane w pliku. Opcja <b>-f</b> wskazuje, które pole chcemy wyciąć i wypisać na ekran."
   ]
  }
 ],
 "metadata": {
  "kernelspec": {
   "display_name": "Bash",
   "language": "bash",
   "name": "bash"
  },
  "language_info": {
   "codemirror_mode": "shell",
   "file_extension": ".sh",
   "mimetype": "text/x-sh",
   "name": "bash"
  }
 },
 "nbformat": 4,
 "nbformat_minor": 4
}
