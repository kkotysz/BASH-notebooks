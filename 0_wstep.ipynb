{
 "cells": [
  {
   "cell_type": "markdown",
   "metadata": {},
   "source": [
    "# 0. BASH - Wstęp"
   ]
  },
  {
   "cell_type": "markdown",
   "metadata": {},
   "source": [
    "### `bash` jest powłoką systemu operacyjnego opartego na [UNIX](https://upload.wikimedia.org/wikipedia/commons/7/77/Unix_history-simple.svg) - [Linux](https://upload.wikimedia.org/wikipedia/commons/8/8c/Linux_Distribution_Timeline_Dec._2020.svg). Pełni rolę pośrednika między użytkownikiem, a samym systemem. Umożliwia sprawną pracę z plikami i innymi aplikacjami. Występuje wiele powłok systemowych np. `zsh - Z shell`, `tcsh - The TENEX C shell`, `sh - The Bourne shell` i jego ulepszona wersja `bash - The Bourne Again shell ` . Dla Windowsa również występują powłoki: `cmd.exe` oraz `Windows PowerShell`."
   ]
  },
  {
   "cell_type": "markdown",
   "metadata": {},
   "source": [
    "## 0.1 [Środowiska graficzne](https://en.wikipedia.org/wiki/Comparison_of_X_Window_System_desktop_environments)"
   ]
  },
  {
   "cell_type": "markdown",
   "metadata": {},
   "source": [
    "Różne dystrybucje Linuxa są instalowane z wbudowanymi środowiskami graficznymi, które różnią się od siebie wyglądem i funkcjonalnością. Dla przykładu, domyślnie z systemem Ubuntu instalowane jest środowisko `GNOME`:"
   ]
  },
  {
   "cell_type": "markdown",
   "metadata": {},
   "source": [
    "![SegmentLocal](gnome-ubuntu.png \"segment\")\n",
    "By OS: Canonical Foundation, Ubuntu communityScreenshot: PantheraLeo1359531 - Screenshot via Oracle VM VirtualBox 6.1, CC BY 3.0, https://commons.wikimedia.org/w/index.php?curid=98315961"
   ]
  },
  {
   "cell_type": "markdown",
   "metadata": {},
   "source": [
    "## 0.2 Linia komend"
   ]
  },
  {
   "cell_type": "markdown",
   "metadata": {},
   "source": [
    "Aby uzyskać dostęp do powłoki `bash` (która jest domyślnie instalowana w większości dystrybucji Linuxa), należy uruchomić Terminal. Pokaże się następujący ekran (oczywiście u każdego będzie się trochę różnił):"
   ]
  },
  {
   "cell_type": "markdown",
   "metadata": {},
   "source": [
    "![SegmentLocal](bash.png \"segment\")"
   ]
  },
  {
   "cell_type": "markdown",
   "metadata": {},
   "source": [
    "Wyświetli się tzw. znak zachęty (może być rożny dla różnych powłok), który składa się z kliku elementów:\n",
    " - <b>nazwa użytkownika</b>: `krzkot`\n",
    " - <b>nazwa komputera</b>: `debian`\n",
    " - <b>akutalna ścieżka</b>: `~` - oznacza nasz katalog domowy\n",
    " - <b>zakończenie znaku zachęty</b>: `$`\n",
    " \n",
    "Po tym można zacząć wpisywać komendy. \n",
    "Ciąg znaków `(base)` należy w tym wypadku zignorować.\n",
    "\n",
    "Można zobaczyć, co znajduje się w naszym katalogu domowym używająć komendy `ls` i podając ścieżkę do naszego katalogu domowego (chyba że już w nim jesteśmy)."
   ]
  },
  {
   "cell_type": "code",
   "execution_count": 8,
   "metadata": {},
   "outputs": [
    {
     "name": "stdout",
     "output_type": "stream",
     "text": [
      "\u001b[0m\u001b[01;34manaconda3\u001b[0m  \u001b[01;34mDownloads\u001b[0m  \u001b[01;34mMusic\u001b[0m      \u001b[01;34mseaborn-data\u001b[0m  \u001b[01;34mvscode_workspaces\u001b[0m\n",
      "\u001b[01;34mbin\u001b[0m        \u001b[01;34mDropbox\u001b[0m    \u001b[01;34mnotebooks\u001b[0m  \u001b[01;34mSTUDIA\u001b[0m        watchdir.sh\n",
      "\u001b[01;34mDesktop\u001b[0m    \u001b[01;34mgit-repos\u001b[0m  \u001b[01;34mPictures\u001b[0m   \u001b[01;34mTemplates\u001b[0m     \u001b[01;34mWEBSITE\u001b[0m\n",
      "\u001b[01;34mDocuments\u001b[0m  \u001b[01;34mltunify\u001b[0m    \u001b[01;34mPublic\u001b[0m     \u001b[01;34mVideos\u001b[0m\n"
     ]
    }
   ],
   "source": [
    "ls ~"
   ]
  },
  {
   "cell_type": "markdown",
   "metadata": {},
   "source": [
    "## 0.3 Struktura plików i katalogów"
   ]
  },
  {
   "cell_type": "markdown",
   "metadata": {},
   "source": [
    "Wcześniej tylda (~) użyta została do wyświetlenia zwartości katalogu domowego. Jest to uniwersalny znak używany do określenia lokalizacji tej ścieżki. Można podejrzeć co się znajduje pod tym znakiem:"
   ]
  },
  {
   "cell_type": "code",
   "execution_count": 7,
   "metadata": {},
   "outputs": [
    {
     "name": "stdout",
     "output_type": "stream",
     "text": [
      "/home/krzkot\n"
     ]
    }
   ],
   "source": [
    "echo ~"
   ]
  },
  {
   "cell_type": "markdown",
   "metadata": {},
   "source": [
    "Pokazuje się ścieżka bezwględna naszego katalogu domowego, równoznaczne jest wpisanie komendy `ls ~` oraz `ls /home/krzkot`"
   ]
  },
  {
   "cell_type": "code",
   "execution_count": 9,
   "metadata": {},
   "outputs": [
    {
     "name": "stdout",
     "output_type": "stream",
     "text": [
      "\u001b[0m\u001b[01;34manaconda3\u001b[0m  \u001b[01;34mDownloads\u001b[0m  \u001b[01;34mMusic\u001b[0m      \u001b[01;34mseaborn-data\u001b[0m  \u001b[01;34mvscode_workspaces\u001b[0m\n",
      "\u001b[01;34mbin\u001b[0m        \u001b[01;34mDropbox\u001b[0m    \u001b[01;34mnotebooks\u001b[0m  \u001b[01;34mSTUDIA\u001b[0m        watchdir.sh\n",
      "\u001b[01;34mDesktop\u001b[0m    \u001b[01;34mgit-repos\u001b[0m  \u001b[01;34mPictures\u001b[0m   \u001b[01;34mTemplates\u001b[0m     \u001b[01;34mWEBSITE\u001b[0m\n",
      "\u001b[01;34mDocuments\u001b[0m  \u001b[01;34mltunify\u001b[0m    \u001b[01;34mPublic\u001b[0m     \u001b[01;34mVideos\u001b[0m\n"
     ]
    }
   ],
   "source": [
    "ls /home/krzkot"
   ]
  },
  {
   "cell_type": "markdown",
   "metadata": {},
   "source": [
    "Powyższa komenda zaczyna się od znaku `/`, który określa główny katalog systemowy (tzw. `root`) na naszym komputerze. Można podejrzeć co się w nim znajduje:"
   ]
  },
  {
   "cell_type": "code",
   "execution_count": 14,
   "metadata": {},
   "outputs": [
    {
     "name": "stdout",
     "output_type": "stream",
     "text": [
      "\u001b[0m\u001b[01;36mbin\u001b[0m   \u001b[01;34mhome\u001b[0m            \u001b[01;36mlib32\u001b[0m       \u001b[01;34mmedia\u001b[0m  \u001b[01;34mroot\u001b[0m  \u001b[01;34msys\u001b[0m  \u001b[01;36mvmlinuz\u001b[0m\n",
      "\u001b[01;34mboot\u001b[0m  \u001b[01;36minitrd.img\u001b[0m      \u001b[01;36mlib64\u001b[0m       \u001b[01;34mmnt\u001b[0m    \u001b[01;34mrun\u001b[0m   \u001b[30;42mtmp\u001b[0m  \u001b[01;36mvmlinuz.old\u001b[0m\n",
      "\u001b[01;34mdev\u001b[0m   \u001b[01;36minitrd.img.old\u001b[0m  \u001b[01;36mlibx32\u001b[0m      \u001b[01;34mopt\u001b[0m    \u001b[01;36msbin\u001b[0m  \u001b[01;34musr\u001b[0m\n",
      "\u001b[01;34metc\u001b[0m   \u001b[01;36mlib\u001b[0m             \u001b[01;34mlost+found\u001b[0m  \u001b[01;34mproc\u001b[0m   \u001b[01;34msrv\u001b[0m   \u001b[01;34mvar\u001b[0m\n"
     ]
    }
   ],
   "source": [
    "ls /"
   ]
  },
  {
   "cell_type": "markdown",
   "metadata": {},
   "source": [
    "Znajdują się w nim różne katalogi, najważniejsze z nich to:\n",
    " - <b>bin</b> : liki wykonywalne (programy), które dostępne są dla wszystkich użytkowników\n",
    " - <b>etc</b> : pliki konfiguracyjne\n",
    " - <b>home</b> : katalogi domowe użytkowników\n",
    " - <b>media</b> : ścieżki dostępu do urządzeń przenośnych (punt montowania)\n",
    " - <b>mnt</b> : tymczasowy punkt montowania\n",
    " - <b>usr</b> : dodatkowe pliki wykonywalne (programy), które dostępne są dla wszystkich użytkowników\n",
    " - <b>var</b> : modyfikowane pliki np. logi, bazy danych"
   ]
  },
  {
   "cell_type": "markdown",
   "metadata": {},
   "source": [
    "## 0.4 .bashrc"
   ]
  },
  {
   "cell_type": "markdown",
   "metadata": {},
   "source": [
    "Niektóre z plików mogą być ukryte, do ich wyświetlenia służy opcja -a (<b>a</b>ll). Nazwa takich plików zawsze zaczyna się od `.`"
   ]
  },
  {
   "cell_type": "code",
   "execution_count": 15,
   "metadata": {},
   "outputs": [
    {
     "name": "stdout",
     "output_type": "stream",
     "text": [
      "\u001b[0m\u001b[01;34m.\u001b[0m              \u001b[01;34m.gnome\u001b[0m             .python_history-09688.tmp\n",
      "\u001b[01;34m..\u001b[0m             \u001b[01;34m.gnupg\u001b[0m             .python_history-16859.tmp\n",
      "\u001b[01;34manaconda3\u001b[0m      .gnuplot_history   \u001b[01;34m.qt\u001b[0m\n",
      "\u001b[01;34m.astropy\u001b[0m       .gnuplot-wxt       \u001b[01;34m.screenlayout\u001b[0m\n",
      ".bash_aliases  .ICEauthority      \u001b[01;34mseaborn-data\u001b[0m\n",
      ".bash_history  \u001b[01;34m.icons\u001b[0m             \u001b[01;34m.ssh\u001b[0m\n",
      ".bash_logout   \u001b[01;34m.ipython\u001b[0m           \u001b[01;34m.stellarium\u001b[0m\n",
      ".bashrc        \u001b[01;34m.java\u001b[0m              \u001b[01;34mSTUDIA\u001b[0m\n",
      "\u001b[01;34mbin\u001b[0m            \u001b[01;34m.jupyter\u001b[0m           \u001b[01;34mTemplates\u001b[0m\n",
      "\u001b[01;34m.cache\u001b[0m         \u001b[01;34m.lightkurve-cache\u001b[0m  \u001b[01;34m.themes\u001b[0m\n",
      "\u001b[01;34m.conda\u001b[0m         \u001b[01;34m.local\u001b[0m             \u001b[01;34m.thunderbird\u001b[0m\n",
      "\u001b[01;34m.config\u001b[0m        \u001b[01;34mltunify\u001b[0m            \u001b[01;34mVideos\u001b[0m\n",
      "\u001b[01;34m.designer\u001b[0m      \u001b[01;34m.mozilla\u001b[0m           \u001b[01;34m.vnc\u001b[0m\n",
      "\u001b[01;34mDesktop\u001b[0m        \u001b[01;34mMusic\u001b[0m              \u001b[01;34m.vscode\u001b[0m\n",
      ".dmrc          \u001b[01;34mnotebooks\u001b[0m          \u001b[01;34mvscode_workspaces\u001b[0m\n",
      "\u001b[01;34mDocuments\u001b[0m      \u001b[01;34m.npm\u001b[0m               watchdir.sh\n",
      "\u001b[01;34m.dotnet\u001b[0m        \u001b[01;34m.nx\u001b[0m                \u001b[01;34mWEBSITE\u001b[0m\n",
      "\u001b[01;34mDownloads\u001b[0m      \u001b[01;34mPictures\u001b[0m           .wget-hsts\n",
      "\u001b[01;34m.dropbox\u001b[0m       \u001b[01;34m.pki\u001b[0m               .Xauthority\n",
      "\u001b[01;34mDropbox\u001b[0m        .profile           .xsession-errors\n",
      "\u001b[01;34m.dropbox-dist\u001b[0m  \u001b[01;34mPublic\u001b[0m             .xsession-errors.old\n",
      ".gitconfig     \u001b[01;34m.pylint.d\u001b[0m          \u001b[01;34m.yarn\u001b[0m\n",
      "\u001b[01;34mgit-repos\u001b[0m      .python_history\n"
     ]
    }
   ],
   "source": [
    "ls -a ~/"
   ]
  },
  {
   "cell_type": "markdown",
   "metadata": {},
   "source": [
    "Wśród różnych plików można zauważyć grupę, która zaczyna się od `.bash`. Można wyświetlić tylko te pliki, dodatkowo używając opcji -l (<b>list</b>). W tym przypadku użyjemy znaku `*` aby dopasował jakikolwiek ciąg znaków po podanym przez nas wzorcu:"
   ]
  },
  {
   "cell_type": "code",
   "execution_count": 16,
   "metadata": {},
   "outputs": [
    {
     "name": "stdout",
     "output_type": "stream",
     "text": [
      "-rw-r--r-- 1 krzkot krzkot  1006 Aug 26  2020 /home/krzkot/.bash_aliases\n",
      "-rw------- 1 krzkot krzkot 30191 Mar  9 10:55 /home/krzkot/.bash_history\n",
      "-rw-r--r-- 1 krzkot krzkot   220 Aug 24  2020 /home/krzkot/.bash_logout\n",
      "-rw-r--r-- 1 krzkot krzkot  4310 Nov 26 11:19 /home/krzkot/.bashrc\n"
     ]
    }
   ],
   "source": [
    "ls -la ~/.bash*"
   ]
  },
  {
   "cell_type": "markdown",
   "metadata": {},
   "source": [
    "Są to pliki, które można użyć do konfiguracji naszej powłoki `bash`. \n",
    "   \n",
    "    ~/.bash_aliases - umieszczane są w nim aliasy poleceń (nie jest wymagany i może go nie być)\n",
    "    ~/.bash_history - zawiera historię wpisywanych poleceń\n",
    "    ~/.bash_logout - wykona polecenia w nim zawarte podczas wyjścia z powłoki\n",
    "    ~/.bashrc - główny plik konfiguracyjny\n",
    "\n",
    "W ogólności może być więcej takich plików, np:\n",
    "\n",
    "    ~/.bash_profile - wykona nasze polecenia po otwarcia powłoki\n",
    "    ~./bash_login - również wykona nasze polecenia po otwarciu powłoki, ale w drugiej kolejności\n",
    "    \n",
    "\n"
   ]
  },
  {
   "cell_type": "markdown",
   "metadata": {},
   "source": [
    "## 0.5 aliasy"
   ]
  },
  {
   "cell_type": "markdown",
   "metadata": {},
   "source": [
    "Czasami wpisywanie długich komend lub komendy z wieloma opcjami może być uciążliwe. Dla szybszej pracy można ustawić dla nich tzw. aliasy, czyli krótszą, szybszą do wpisania formę. Np. dla komendy `ls -lrth`, która wylistuje zawartość katalogu (-<b>l</b>ist), posortuje względem czasu (-<b>t</b>ime), w odwrotnej kolejności (-<b>r</b>eversed oraz wypisze rozmiary plików w przyjemnej formie (-<b>h</b>uman readable), można użyć aliasu (w tym przykładzie `lo`)."
   ]
  },
  {
   "cell_type": "code",
   "execution_count": 21,
   "metadata": {},
   "outputs": [
    {
     "name": "stdout",
     "output_type": "stream",
     "text": [
      "bash: lo: command not found\n"
     ]
    },
    {
     "ename": "",
     "evalue": "127",
     "output_type": "error",
     "traceback": []
    }
   ],
   "source": [
    "lo    # alias jeszcze nie ustawiony, więc wystąpi błąd"
   ]
  },
  {
   "cell_type": "code",
   "execution_count": 24,
   "metadata": {},
   "outputs": [],
   "source": [
    "alias 'lo=ls -lrth'"
   ]
  },
  {
   "cell_type": "code",
   "execution_count": 26,
   "metadata": {},
   "outputs": [
    {
     "name": "stdout",
     "output_type": "stream",
     "text": [
      "total 76K\n",
      "drwxr-xr-x 12 krzkot krzkot 4.0K Mar 28  2019 \u001b[0m\u001b[01;34mSTUDIA\u001b[0m\n",
      "drwxr-xr-x  2 krzkot krzkot 4.0K Aug 24  2020 \u001b[01;34mVideos\u001b[0m\n",
      "drwxr-xr-x  2 krzkot krzkot 4.0K Aug 24  2020 \u001b[01;34mTemplates\u001b[0m\n",
      "drwxr-xr-x  2 krzkot krzkot 4.0K Aug 24  2020 \u001b[01;34mPublic\u001b[0m\n",
      "drwxr-xr-x  2 krzkot krzkot 4.0K Aug 24  2020 \u001b[01;34mMusic\u001b[0m\n",
      "drwxr-xr-x  4 krzkot krzkot 4.0K Aug 24  2020 \u001b[01;34mltunify\u001b[0m\n",
      "drwxr-xr-x  2 krzkot krzkot 4.0K Aug 24  2020 \u001b[01;34mbin\u001b[0m\n",
      "drwxr-xr-x  3 krzkot krzkot 4.0K Oct 12 14:58 \u001b[01;34mWEBSITE\u001b[0m\n",
      "drwxr-xr-x 25 krzkot krzkot 4.0K Oct 26 16:59 \u001b[01;34manaconda3\u001b[0m\n",
      "drwxr-xr-x  2 krzkot krzkot 4.0K Oct 26 16:59 \u001b[01;34mseaborn-data\u001b[0m\n",
      "drwxr-xr-x  6 krzkot krzkot 4.0K Oct 27 11:42 \u001b[01;34mgit-repos\u001b[0m\n",
      "-rw-r--r--  1 krzkot krzkot  359 Nov  6 13:09 watchdir.sh\n",
      "drwxr-xr-x  3 krzkot krzkot 4.0K Dec 17 17:56 \u001b[01;34mPictures\u001b[0m\n",
      "drwxr-xr-x  2 krzkot krzkot 4.0K Dec 29 09:24 \u001b[01;34mvscode_workspaces\u001b[0m\n",
      "drwxr-xr-x  3 krzkot krzkot 4.0K Jan 29 15:12 \u001b[01;34mnotebooks\u001b[0m\n",
      "drwxr-xr-x  2 krzkot krzkot 4.0K Mar  2 16:43 \u001b[01;34mDownloads\u001b[0m\n",
      "drwxr-xr-x  4 krzkot krzkot 4.0K Mar  2 16:43 \u001b[01;34mDocuments\u001b[0m\n",
      "drwx------  6 krzkot krzkot 4.0K Mar  3 19:43 \u001b[01;34mDropbox\u001b[0m\n",
      "drwxr-xr-x  3 krzkot krzkot 4.0K Mar  8 13:38 \u001b[01;34mDesktop\u001b[0m\n"
     ]
    }
   ],
   "source": [
    "lo ~/"
   ]
  },
  {
   "cell_type": "markdown",
   "metadata": {},
   "source": [
    "Takie ustawienie aliasu nie jest jednak permanentne. Aby alias zawsze był widoczny, należy go wpisać do pliku `.bashrc` lub `.bash_aliases`."
   ]
  },
  {
   "cell_type": "code",
   "execution_count": null,
   "metadata": {},
   "outputs": [],
   "source": []
  }
 ],
 "metadata": {
  "kernelspec": {
   "display_name": "Bash",
   "language": "bash",
   "name": "bash"
  },
  "language_info": {
   "codemirror_mode": "shell",
   "file_extension": ".sh",
   "mimetype": "text/x-sh",
   "name": "bash"
  }
 },
 "nbformat": 4,
 "nbformat_minor": 4
}
