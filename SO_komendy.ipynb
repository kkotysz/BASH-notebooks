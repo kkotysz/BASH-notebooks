{
 "cells": [
  {
   "cell_type": "markdown",
   "metadata": {},
   "source": [
    "# 1. BASH - podstawowe komendy"
   ]
  },
  {
   "cell_type": "markdown",
   "metadata": {},
   "source": [
    "### man - wyświetlenie manuala dla danej komendy"
   ]
  },
  {
   "cell_type": "markdown",
   "metadata": {},
   "source": [
    "Możemy sprawdzić działanie dowolnej komendy oraz dowiedzieć się jakie opcje możemy z nią wywołać."
   ]
  },
  {
   "cell_type": "code",
   "execution_count": 3,
   "metadata": {},
   "outputs": [
    {
     "name": "stdout",
     "output_type": "stream",
     "text": [
      "CP(1)                            User Commands                           CP(1)\n",
      "\n",
      "NAME\n",
      "       cp - copy files and directories\n",
      "\n",
      "SYNOPSIS\n",
      "       cp [OPTION]... [-T] SOURCE DEST\n",
      "       cp [OPTION]... SOURCE... DIRECTORY\n",
      "       cp [OPTION]... -t DIRECTORY SOURCE...\n",
      "\n",
      "DESCRIPTION\n",
      "       Copy SOURCE to DEST, or multiple SOURCE(s) to DIRECTORY.\n",
      "\n",
      "       Mandatory  arguments  to  long  options are mandatory for short options\n",
      "       too.\n",
      "\n",
      "       -a, --archive\n",
      "              same as -dR --preserve=all\n",
      "\n",
      "       --attributes-only\n",
      "              don't copy the file data, just the attributes\n",
      "\n",
      "       --backup[=CONTROL]\n",
      "              make a backup of each existing destination file\n",
      "\n",
      "       -b     like --backup but does not accept an argument\n",
      "\n",
      "       --copy-contents\n",
      "              copy contents of special files when recursive\n",
      "\n",
      "       -d     same as --no-dereference --preserve=links\n",
      "\n",
      "       -f, --force\n",
      "              if an existing destination file cannot be opened, remove it  and\n",
      "              try  again  (this  option  is ignored when the -n option is also\n",
      "              used)\n",
      "\n",
      "       -i, --interactive\n",
      "              prompt before overwrite (overrides a previous -n option)\n",
      "\n",
      "       -H     follow command-line symbolic links in SOURCE\n",
      "\n",
      "       -l, --link\n",
      "              hard link files instead of copying\n",
      "\n",
      "       -L, --dereference\n",
      "              always follow symbolic links in SOURCE\n",
      "\n",
      "       -n, --no-clobber\n",
      "              do not overwrite an  existing  file  (overrides  a  previous  -i\n",
      "              option)\n",
      "\n",
      "       -P, --no-dereference\n",
      "              never follow symbolic links in SOURCE\n",
      "\n",
      "       -p     same as --preserve=mode,ownership,timestamps\n",
      "\n",
      "       --preserve[=ATTR_LIST]\n",
      "              preserve the specified attributes (default: mode,ownership,time‐\n",
      "              stamps), if  possible  additional  attributes:  context,  links,\n",
      "              xattr, all\n",
      "\n",
      "       --no-preserve=ATTR_LIST\n",
      "              don't preserve the specified attributes\n",
      "\n",
      "       --parents\n",
      "              use full source file name under DIRECTORY\n",
      "\n",
      "       -R, -r, --recursive\n",
      "              copy directories recursively\n",
      "\n",
      "       --reflink[=WHEN]\n",
      "              control clone/CoW copies. See below\n",
      "\n",
      "       --remove-destination\n",
      "              remove  each existing destination file before attempting to open\n",
      "              it (contrast with --force)\n",
      "\n",
      "       --sparse=WHEN\n",
      "              control creation of sparse files. See below\n",
      "\n",
      "       --strip-trailing-slashes\n",
      "              remove any trailing slashes from each SOURCE argument\n",
      "\n",
      "       -s, --symbolic-link\n",
      "              make symbolic links instead of copying\n",
      "\n",
      "       -S, --suffix=SUFFIX\n",
      "              override the usual backup suffix\n",
      "\n",
      "       -t, --target-directory=DIRECTORY\n",
      "              copy all SOURCE arguments into DIRECTORY\n",
      "\n",
      "       -T, --no-target-directory\n",
      "              treat DEST as a normal file\n",
      "\n",
      "       -u, --update\n",
      "              copy only when the SOURCE file is  newer  than  the  destination\n",
      "              file or when the destination file is missing\n",
      "\n",
      "       -v, --verbose\n",
      "              explain what is being done\n",
      "\n",
      "       -x, --one-file-system\n",
      "              stay on this file system\n",
      "\n",
      "       -Z     set SELinux security context of destination file to default type\n",
      "\n",
      "       --context[=CTX]\n",
      "              like  -Z,  or  if CTX is specified then set the SELinux or SMACK\n",
      "              security context to CTX\n",
      "\n",
      "       --help display this help and exit\n",
      "\n",
      "       --version\n",
      "              output version information and exit\n",
      "\n",
      "       By default, sparse SOURCE files are detected by a crude  heuristic  and\n",
      "       the corresponding DEST file is made sparse as well.  That is the behav‐\n",
      "       ior selected by --sparse=auto.  Specify  --sparse=always  to  create  a\n",
      "       sparse  DEST  file  whenever  the  SOURCE  file  contains a long enough\n",
      "       sequence of zero bytes.  Use  --sparse=never  to  inhibit  creation  of\n",
      "       sparse files.\n",
      "\n",
      "       When --reflink[=always] is specified, perform a lightweight copy, where\n",
      "       the data blocks are copied only when modified.  If this is not possible\n",
      "       the copy fails, or if --reflink=auto is specified, fall back to a stan‐\n",
      "       dard copy.\n",
      "\n",
      "       The  backup  suffix  is  '~',  unless  set  with   --suffix   or   SIM‐\n",
      "       PLE_BACKUP_SUFFIX.   The version control method may be selected via the\n",
      "       --backup option or through the  VERSION_CONTROL  environment  variable.\n",
      "       Here are the values:\n",
      "\n",
      "       none, off\n",
      "              never make backups (even if --backup is given)\n",
      "\n",
      "       numbered, t\n",
      "              make numbered backups\n",
      "\n",
      "       existing, nil\n",
      "              numbered if numbered backups exist, simple otherwise\n",
      "\n",
      "       simple, never\n",
      "              always make simple backups\n",
      "\n",
      "       As  a  special  case,  cp  makes  a backup of SOURCE when the force and\n",
      "       backup options are given and SOURCE and DEST are the same name  for  an\n",
      "       existing, regular file.\n",
      "\n",
      "AUTHOR\n",
      "       Written by Torbjorn Granlund, David MacKenzie, and Jim Meyering.\n",
      "\n",
      "REPORTING BUGS\n",
      "       GNU coreutils online help: <http://www.gnu.org/software/coreutils/>\n",
      "       Report cp translation bugs to <http://translationproject.org/team/>\n",
      "\n",
      "COPYRIGHT\n",
      "       Copyright  ©  2017  Free Software Foundation, Inc.  License GPLv3+: GNU\n",
      "       GPL version 3 or later <http://gnu.org/licenses/gpl.html>.\n",
      "       This is free software: you are free  to  change  and  redistribute  it.\n",
      "       There is NO WARRANTY, to the extent permitted by law.\n",
      "\n",
      "SEE ALSO\n",
      "       Full documentation at: <http://www.gnu.org/software/coreutils/cp>\n",
      "       or available locally via: info '(coreutils) cp invocation'\n",
      "\n",
      "GNU coreutils 8.28               January 2018                            CP(1)\n"
     ]
    }
   ],
   "source": [
    "man cp"
   ]
  },
  {
   "cell_type": "markdown",
   "metadata": {},
   "source": [
    "Skróconą wersję pomocy dla danej komendy można wywołać poprzez uruchomienie komendy z opcją --help. Dla przykładu, chcemy się dowiedzieć jak działa komenda <b>ls</b>."
   ]
  },
  {
   "cell_type": "code",
   "execution_count": 50,
   "metadata": {},
   "outputs": [
    {
     "name": "stdout",
     "output_type": "stream",
     "text": [
      "Składnia: ls [OPCJA]... [PLIK]...\n",
      "Wypisanie informacji o PLIKACH (domyślnie w katalogu bieżącym). Sortowane\n",
      "alfabetyczne, jeżeli nie jest podana żadna z opcji -cftuvSUX ani --sort.\n",
      "\n",
      "Argumenty obowiązkowe dla opcji długich obowiązują również dla krótkich.\n",
      "  -a, --all                  bez ukrywania plików zaczynających się od .\n",
      "  -A, --almost-all           bez pokazywania . ani ..\n",
      "      --author               z -l: wypisanie autora każdego pliku\n",
      "  -b, --escape               wypisanie znaków niegraficznych ósemkowo (w stylu\n",
      "                               języka C, np. \\012)\n",
      "      --block-size=ROZMIAR   skala rozmiarów; np. „--block-size=M” powoduje\n",
      "                               wypisanie rozmiarów w jednostkach po 1048576\n",
      "                               bajtów;\n",
      "                               zobacz infomacje o formacie ROZMIARÓW poniżej.\n",
      "  -B, --ignore-backups       bez pokazania plików kończących się na ~\n",
      "  -c                         z -lt: sortowanie wg i wypisanie ctime (czasu\n",
      "                               ostatniej modyfikacji danych o pliku);\n",
      "                               z -l: wypisanie ctime i sortowanie wg nazw;\n",
      "                               w przeciwnym przypadku: sortowanie wg ctime,\n",
      "                               najnowsze pliki na początku\n",
      "  -C                         wypisanie plików w kolumnach\n",
      "      --color[=GDY]          kolorowanie informacji. GDY może być „always\n",
      "                               (zawsze, domyślnie), „auto” (automatycznie)\n",
      "                               albo „never” (nigdy); więcej informacji poniżej\n",
      "  -d, --directory            pokazanie katalogów zamiast ich zawartości\n",
      "  -D, --dired                dane wyjściowe dla trybu dired Emacsa\n",
      "  -f                         bez sortowania, włączenie -aU, wyłączenie -lst\n",
      "  -F, --classify             dopisanie znaków wskazujących typ każdego\n",
      "                               elementu (jednego z */=>@|)\n",
      "      --file-type            podobnie, ale oprócz „*”\n",
      "      --format=SŁOWO         across (poziomo), odpowiada opcji -x, commas\n",
      "                               (oddzielone przecinkami) -m, horizontal\n",
      "                               (poziomo) -x, long (długi, z dodatkowymi\n",
      "                               informacjami) -l, single-column (w jednej\n",
      "                               kolumnie) -1, verbose (długi, z dodatkowymi\n",
      "                               informacjami) -l, vertical (pionowy, w\n",
      "                               kolumnach) -C\n",
      "      --full-time            jak -l --time-style=full-iso\n",
      "  -g                         jak -l, ale nie pokazuje właściciela\n",
      "      --group-directories-first\n",
      "                             wypisanie wszystkich katalogów przed plikami;\n",
      "                               ta opcja może być uzupełniona opcją --sort,\n",
      "                               ale wyłącza ją użycie opcji --sort=none (-U)\n",
      "  -G, --no-group             bez pokazania informacji o grupach\n",
      "  -h, --human-readable       z opcją -l lub -s podaje rozmiary w formacie\n",
      "                               czytelnym dla ludzi (np. 1K 234M 2G)\n",
      "      --si                   podobnie, ale z użyciem potęg 1000, nie 1024\n",
      "  -H, --dereference-command-line\n",
      "                             rozwiązywanie dowiązań symbolicznych podanych\n",
      "                               jako argumenty\n",
      "      --dereference-command-line-symlink-to-dir\n",
      "                             rozwiązywanie dowiązań symbolicznych podanych\n",
      "                               jako argumenty jeżeli wskazują na katalogi\n",
      "      --hide=WZÓR            bez wypisywania nazw pasujących do WZORU\n",
      "                               (wyłączane przez -a albo -A)\n",
      "      --hyperlink[=WHEN]     hyperlink file names; WHEN can be 'always'\n",
      "                               (default if omitted), 'auto', or 'never'\n",
      "      --indicator-style=SŁOWO  dodanie wskaźników typów plików w stylu SŁOWO:\n",
      "                                none (domyślnie), slash (-p), file-type\n",
      "                                (--file-type), classify (-F)\n",
      "  -i, --inode                pokazywanie numeru i-węzła każdego pliku\n",
      "  -I, --ignore=WZÓR          bez pokazywania plików pasujących do shellowego WZORU\n",
      "  -k, --kibibytes            zużycie dysku w blokach o rozmiarze 1024 bajtów\n",
      "  -l                         użycie długiego formatu wyjściowego\n",
      "  -L, --dereference          pokazanie informacji o pliku wskazywanym przez\n",
      "                               dowiązanie symboliczne zamiast informacji o\n",
      "                               samym dowiązaniu\n",
      "  -m                         pisanie do pełnej szerokości, oddzielanie przecinkami\n",
      "  -n, --numeric-uid-gid      jak -l, ale pokazanie UID i GID liczbowo\n",
      "  -N, --literal              wypisanie surowej nazwy bez bez specjalnego\n",
      "                               traktowania np. znaków sterujących\n",
      "  -o                         jak -l, ale bez informacji o grupie\n",
      "  -p, --indicator-style=slash  dodanie / do nazw katalogów\n",
      "  -q, --hide-control-chars   pisanie ? zamiast znaków sterujących\n",
      "      --show-control-chars   pokazanie znaków niedrukowalnych (domyślnie, chyba\n",
      "                             że program nazywa się „ls” i pisze na terminalu)\n",
      "  -Q, --quote-name           ujęcie nazw w cudzysłowy\n",
      "      --quoting-style=SŁOWO  zabezpieczenie znaków specjalnych w stylu SŁOWO:\n",
      "                               literal, locale, shell, shell-always,\n",
      "                               shell-escape, shell-escape-always, c, escape\n",
      "  -r, --reverse              odwrotny porządek sortowania\n",
      "  -R, --recursive            rekursywne listowanie katalogów\n",
      "  -s, --size                 wypisanie liczby bloków zajętych przez każdy plik\n",
      "  -S                         sortowanie według rozmiaru, największe najpierw\n",
      "      --sort=SŁOWO           sortowanie wg SŁOWA zamiast wg nazw: none (-U,\n",
      "                               wcale), size (-S, rozmiaru), time (-t, czasu),\n",
      "                               version (-v, wersji), extension (-X,\n",
      "                               rozszerzenia)\n",
      "      --time=SŁOWO           z opcją -l - zamiast domyślnego czasu modyfikacji\n",
      "                               pokazanie czasu określonego SŁOWEM domyślnie:\n",
      "                               czas odczytu - atime, access, use (-u),\n",
      "                               czas zmiany informacji o pliku - ctime,\n",
      "                               status (-c); także użycie podanego czasu do\n",
      "                               sortowania gdy podano --sort=time (najnowsze\n",
      "                               najpierw)\n",
      "      --time-style=STYL      z opcją -l: pokazanie czasu przy użyciu STYLU:\n",
      "                               full-iso, long-iso, iso, locale albo +FORMAT;\n",
      "                               FORMAT jest interpretowany jak w „date”; jeżeli\n",
      "                               FORMAT to FORMAT1<znak nowej linii>FORMAT2,\n",
      "                               FORMAT1 dotyczy dawniejszych plików, FORMAT2\n",
      "                               nowszych; jeżeli STYL zaczyna się od „posix-”,\n",
      "                               STYL jest używany tylko dla locale nie POSIX\n",
      "  -t                         sortowanie wg czasu modyfikacji, najnowsze\n",
      "                                na początku\n",
      "  -T, --tabsize=KOLUMNA      TAB co tyle KOLUMN zamiast co 8\n",
      "  -u                         z -lt: sortowanie wg czasu i wypisanie czasu\n",
      "                               ostatniego dostępu; z -l: wypisanie czasu\n",
      "                               dostępu i sortowanie wg nazw; w przeciwnym\n",
      "                               przypadku: sortowanie wg czasu dostępu,\n",
      "                               najnowsze najpierw\n",
      "  -U                         bez sortowania, wypisanie kolejności jak w\n",
      "                               katalogu\n",
      "  -v                         sortowanie wg liczb (numerów wersji) zawartych\n",
      "                               w nazwach plików\n",
      "  -w, --width=KOLUMNY        przyjęcie takiej szerokości ekranu zamiast\n",
      "                             wartości bieżącej; 0 oznacza brak ograniczenia\n",
      "  -x                         wypisanie nazw w kolejnych liniach, nie kolumnach\n",
      "  -X                         sortowanie alfabetyczne wg rozszerzeń\n",
      "  -Z, --context              wypisanie kontekstu bezpieczeństwa pliku/plików\n",
      "  -1                         wypisywanie po jednym pliku w linii; używając\n",
      "                               opcji -q albo -b można uniknąć dosłownego\n",
      "                               wypisania znaku nowej linii w nazwie\n"
     ]
    },
    {
     "name": "stdout",
     "output_type": "stream",
     "text": [
      "      --help     wyświetlenie tego opisu i zakończenie\n",
      "      --version  wyświetlenie informacji o wersji i zakończenie\n",
      "\n",
      "Argument ROZMIAR jest liczbą całkowitą z dodaną opcjonalnie jednostką\n",
      "(przykład: 10K to 10*1024). Jednostki to K, M, G, T, P, E, Z, Y (potęgi 1024)\n",
      "albo KB, MB, ... (potęgi 1000).\n",
      "\n",
      "Używanie kolorów do wyróżnienia typów plików jest wyłączone domyślnie\n",
      "albo jeżeli użyta jest opcja --color=never. Przy --color-auto polecenie\n",
      "ls wysyła kody kolorów tylko jeżeli jest połączone z terminalem. Zmienna\n",
      "środowiskowa LS_COLORS może zmienić te ustawienia. Można ją ustawić\n",
      "przy pomocy polecenia dircolors.\n",
      "\n",
      "Kod wyjściowy:\n",
      " 0  jeżeli bez błędów,\n",
      " 1  przy drobnych problemach (np. brak dostępu do podkatalogu),\n",
      " 2  przy poważnych problemach (np. brak dostępu do podanego argumentu).\n",
      "\n",
      "Pomoc do GNU coreutils w sieci: http://www.gnu.org/software/coreutils/\n",
      "O błędach tłumaczenia ls poinformuj przez http://translationproject.org/team/\n",
      "Pełna dokumentacja w: http://www.gnu.org/software/coreutils/ls\n",
      "albo dostępna lokalnie przez: info '(coreutils) ls invocation'\n"
     ]
    }
   ],
   "source": [
    "ls --help"
   ]
  },
  {
   "cell_type": "markdown",
   "metadata": {},
   "source": [
    "## 1.1 Manipulacja plikami"
   ]
  },
  {
   "cell_type": "markdown",
   "metadata": {},
   "source": [
    "Na początek warto zapamiętać, że cokolwiek robimy w terminalu, wynik działania komendy domyślnie będzie wyświetlany na ekranie. W BASH-u isnieją odpowiednie operatory przekierowania, żeby to zmienić. Są to:\n",
    "\\> >> <\n",
    "\n",
    "<b>komenda1 > PLIK1</b> : wynik działania operacji komenda1 zostanie wpisany do pliku o nazwie PLIK1 (ponowne zastosowanie, spowoduje napisanie pliku)<br>\n",
    "<b>komenda2 >> PLIK1</b> : wynik działania operacji komenda2 zostanie dopisany na koniec pliku o nazwie PLIK2 <br>\n",
    "<b>komenda3 \\< PLIK3 </b> : zawartość pliku o nazwie PLIK3 zostanie przekierowana do wejścia operacji komenda3.<br>\n",
    "\n",
    "Przykłady zastosowania przekerowań będą pokazywane poniżej na konkretnych poleceniach."
   ]
  },
  {
   "cell_type": "markdown",
   "metadata": {},
   "source": [
    "### ls - wyświetlenie zawratości aktualnego katalogu"
   ]
  },
  {
   "cell_type": "code",
   "execution_count": 27,
   "metadata": {
    "scrolled": true
   },
   "outputs": [
    {
     "name": "stdout",
     "output_type": "stream",
     "text": [
      "astro.dat  helio.dat  SO_komendy.ipynb  stars.dat\n"
     ]
    }
   ],
   "source": [
    "ls"
   ]
  },
  {
   "cell_type": "markdown",
   "metadata": {},
   "source": [
    "#### przydatne opcje:\n",
    "-l: wyświetla w postaci listy <br>\n",
    "-t : sortuje według czasu modyfikacji pliku <br>\n",
    "-r : odwraca sposób sortowania <br>\n",
    "-h : pokazuje rozmiary plików w czytelnej formie <br>"
   ]
  },
  {
   "cell_type": "code",
   "execution_count": 28,
   "metadata": {},
   "outputs": [
    {
     "name": "stdout",
     "output_type": "stream",
     "text": [
      "razem 16K\n",
      "-rw-r--r-- 1 krzkot krzkot   0 mar  5 09:46 astro.dat\n",
      "-rw-r--r-- 1 krzkot krzkot   0 mar  5 09:46 helio.dat\n",
      "-rw-r--r-- 1 krzkot krzkot 14K mar  5 09:47 SO_komendy.ipynb\n",
      "-rw-r--r-- 1 krzkot krzkot   0 mar  5 09:47 stars.dat\n"
     ]
    }
   ],
   "source": [
    "ls -lrth"
   ]
  },
  {
   "cell_type": "markdown",
   "metadata": {},
   "source": [
    "Wynik działania komendy <b>ls</b> można przekierować do pliku"
   ]
  },
  {
   "cell_type": "code",
   "execution_count": 29,
   "metadata": {},
   "outputs": [],
   "source": [
    "ls -lrth > file_list.txt"
   ]
  },
  {
   "cell_type": "code",
   "execution_count": 33,
   "metadata": {},
   "outputs": [
    {
     "name": "stdout",
     "output_type": "stream",
     "text": [
      "razem 20K\n",
      "-rw-r--r-- 1 krzkot krzkot   0 mar  5 09:46 astro.dat\n",
      "-rw-r--r-- 1 krzkot krzkot   0 mar  5 09:46 helio.dat\n",
      "-rw-r--r-- 1 krzkot krzkot   0 mar  5 09:47 stars.dat\n",
      "-rw-r--r-- 1 krzkot krzkot 291 mar  5 09:48 file_list.txt\n",
      "-rw-r--r-- 1 krzkot krzkot 14K mar  5 09:49 SO_komendy.ipynb\n"
     ]
    }
   ],
   "source": [
    "ls -lrth"
   ]
  },
  {
   "cell_type": "markdown",
   "metadata": {},
   "source": [
    "Widać, że pojawił się plik o nazwie file_list.txt. Teraz można wyświetlić zawartość tego pliku."
   ]
  },
  {
   "cell_type": "markdown",
   "metadata": {},
   "source": [
    "### cat - wyświetlenie zawratości pliku"
   ]
  },
  {
   "cell_type": "code",
   "execution_count": 32,
   "metadata": {},
   "outputs": [
    {
     "name": "stdout",
     "output_type": "stream",
     "text": [
      "razem 16K\n",
      "-rw-r--r-- 1 krzkot krzkot   0 mar  5 09:46 astro.dat\n",
      "-rw-r--r-- 1 krzkot krzkot   0 mar  5 09:46 helio.dat\n",
      "-rw-r--r-- 1 krzkot krzkot 14K mar  5 09:47 SO_komendy.ipynb\n",
      "-rw-r--r-- 1 krzkot krzkot   0 mar  5 09:47 stars.dat\n",
      "-rw-r--r-- 1 krzkot krzkot   0 mar  5 09:48 file_list.txt\n"
     ]
    }
   ],
   "source": [
    "cat file_list.txt"
   ]
  },
  {
   "cell_type": "markdown",
   "metadata": {},
   "source": [
    "Plik zawiera wynik działania komendy ls -lrth. Na liście istnieje również file_list.txt, do którego dopiero skierowany został wynik działania ls. Widać, że rozmiar tego pliku jest równy 0, co daje informację o tym jak działa przekierowanie do pliku. Najpierw jest tworzony plik, potem dopiero jest wykonywana komenda i jej wynik jest wpisywany do nowo stworzonego pliku. Pliki możemy również tworzyć sami."
   ]
  },
  {
   "cell_type": "markdown",
   "metadata": {},
   "source": [
    "### touch - tworzenie pliku"
   ]
  },
  {
   "cell_type": "code",
   "execution_count": 36,
   "metadata": {},
   "outputs": [],
   "source": [
    "touch telescope_names.txt"
   ]
  },
  {
   "cell_type": "code",
   "execution_count": 38,
   "metadata": {},
   "outputs": [
    {
     "name": "stdout",
     "output_type": "stream",
     "text": [
      "astro.dat      helio.dat         stars.dat\n",
      "file_list.txt  SO_komendy.ipynb  telescope_names.txt\n"
     ]
    }
   ],
   "source": [
    "ls"
   ]
  },
  {
   "cell_type": "markdown",
   "metadata": {},
   "source": [
    "Stworzony został pusty plik o nazwie telescope_names.txt"
   ]
  },
  {
   "cell_type": "markdown",
   "metadata": {},
   "source": [
    "### echo - wyświetlanie napisu/zmiennej w terminalu"
   ]
  },
  {
   "cell_type": "code",
   "execution_count": 40,
   "metadata": {},
   "outputs": [
    {
     "name": "stdout",
     "output_type": "stream",
     "text": [
      "BLT (Białków Large Telescope)\n"
     ]
    }
   ],
   "source": [
    "echo \"BLT (Białków Large Telescope)\""
   ]
  },
  {
   "cell_type": "markdown",
   "metadata": {},
   "source": [
    "Można również przypisać daną wartość do zmiennej i ją wyświetlić. Do zmiennej należy się odnieść poprzez znak \"$\"."
   ]
  },
  {
   "cell_type": "code",
   "execution_count": 44,
   "metadata": {},
   "outputs": [],
   "source": [
    "blt=\"BLT (Białków Large Telescope)\""
   ]
  },
  {
   "cell_type": "code",
   "execution_count": 45,
   "metadata": {},
   "outputs": [
    {
     "name": "stdout",
     "output_type": "stream",
     "text": [
      "BLT (Białków Large Telescope)\n"
     ]
    }
   ],
   "source": [
    "echo $blt"
   ]
  },
  {
   "cell_type": "markdown",
   "metadata": {},
   "source": [
    "Taki napis można przekierować do pliku. Tym razem za pomocą operatora >> wynik działania komendy echo zostanie dopisany na koniec pliku telescope_names.txt, który na razie jest pusty. Sprawdźmy to:"
   ]
  },
  {
   "cell_type": "code",
   "execution_count": 48,
   "metadata": {},
   "outputs": [],
   "source": [
    "cat telescope_names.txt"
   ]
  },
  {
   "cell_type": "code",
   "execution_count": 49,
   "metadata": {},
   "outputs": [
    {
     "name": "stdout",
     "output_type": "stream",
     "text": [
      "-rw-r--r-- 1 krzkot krzkot 0 mar  5 09:50 telescope_names.txt\n"
     ]
    }
   ],
   "source": [
    "ls -lrth telescope_names.txt"
   ]
  },
  {
   "cell_type": "markdown",
   "metadata": {},
   "source": [
    "Działanie komendy <b>cat</b> rzeczywiście nic nie zwróciło, a rozmiar pliku jest równy 0. Teraz dopiszemy naszą zmienną do pliku."
   ]
  },
  {
   "cell_type": "code",
   "execution_count": 51,
   "metadata": {},
   "outputs": [],
   "source": [
    "echo $blt >> telescope_names.txt"
   ]
  },
  {
   "cell_type": "code",
   "execution_count": 52,
   "metadata": {},
   "outputs": [
    {
     "name": "stdout",
     "output_type": "stream",
     "text": [
      "BLT (Białków Large Telescope)\n"
     ]
    }
   ],
   "source": [
    "cat telescope_names.txt"
   ]
  },
  {
   "cell_type": "markdown",
   "metadata": {},
   "source": [
    "Teraz stworzymy kolejną zmienną i dopiszemy na koniec naszego pliku."
   ]
  },
  {
   "cell_type": "code",
   "execution_count": 53,
   "metadata": {},
   "outputs": [],
   "source": [
    "vlt=\"VLT (Very Large Telescope)\""
   ]
  },
  {
   "cell_type": "code",
   "execution_count": 54,
   "metadata": {},
   "outputs": [],
   "source": [
    "echo $vlt >> telescope_names.txt"
   ]
  },
  {
   "cell_type": "code",
   "execution_count": 55,
   "metadata": {},
   "outputs": [
    {
     "name": "stdout",
     "output_type": "stream",
     "text": [
      "BLT (Białków Large Telescope)\n",
      "VLT (Very Large Telescope)\n"
     ]
    }
   ],
   "source": [
    "cat telescope_names.txt"
   ]
  },
  {
   "cell_type": "markdown",
   "metadata": {},
   "source": [
    "W przypadku plików z wieloma liniami, ich wyświetlanie w całości może być kłopotliwe. Dlatego można wyświetlić tylko część początkową lub końcową tego pliku.<br>\n",
    "Plik o nazwie <b>TIC102090493-s2-121s_lc3_fppt.dat</b> zawiera dane z pomiarami jasności gwiazdy przez satelitę TESS. Spróbujmy najpierw zliczyć ilość linii w tym pliku."
   ]
  },
  {
   "cell_type": "markdown",
   "metadata": {},
   "source": [
    "### wc - zliczenie linii/wyrazów/znaków w pliku"
   ]
  },
  {
   "cell_type": "code",
   "execution_count": 62,
   "metadata": {},
   "outputs": [
    {
     "name": "stdout",
     "output_type": "stream",
     "text": [
      " 18317  54952 824264 TIC102090493-s2-121s_lc3_fppt.dat\n"
     ]
    }
   ],
   "source": [
    "wc TIC102090493-s2-121s_lc3_fppt.dat"
   ]
  },
  {
   "cell_type": "markdown",
   "metadata": {},
   "source": [
    "Wynik polecenia pokazuje kolejno: ilość wierszy, ilość słów, ilość bajtów, nazwę pliku. Wyświetlenie całości pliku zajmie za dużo miejsca w terminalu, spróbujmy wyświetlić tylko kilka pierwszych linii tego pliku, żeby sprawdzić jaką ma składnię."
   ]
  },
  {
   "cell_type": "markdown",
   "metadata": {},
   "source": [
    "### head/tail - wyświetlenie początku/końca pliku"
   ]
  },
  {
   "cell_type": "code",
   "execution_count": 63,
   "metadata": {},
   "outputs": [
    {
     "name": "stdout",
     "output_type": "stream",
     "text": [
      "# TBJD-2450000      FLUX           FLUX_ERR\n",
      "  1354.1131991     -3.5355597      0.6838813\n",
      "  1354.1145881     -3.0284873      0.6841874\n",
      "  1354.1173659      0.7362481      0.6849412\n",
      "  1354.1187548      1.0039511      0.6853946\n",
      "  1354.1201437      2.0536179      0.6856015\n",
      "  1354.1215327      2.9236379      0.6860147\n",
      "  1354.1229216      3.1528239      0.6861270\n",
      "  1354.1243105      1.7814821      0.6857486\n",
      "  1354.1256994      2.6458713      0.6859725\n"
     ]
    }
   ],
   "source": [
    "head TIC102090493-s2-121s_lc3_fppt.dat"
   ]
  },
  {
   "cell_type": "markdown",
   "metadata": {},
   "source": [
    "Polecenie <b>head</b> domyślnie wyświetla 10 pierwszych linii z pliku. Liczbę tę, można zmodyfikować poprzez opcję -n."
   ]
  },
  {
   "cell_type": "code",
   "execution_count": 64,
   "metadata": {
    "scrolled": true
   },
   "outputs": [
    {
     "name": "stdout",
     "output_type": "stream",
     "text": [
      "# TBJD-2450000      FLUX           FLUX_ERR\n",
      "  1354.1131991     -3.5355597      0.6838813\n",
      "  1354.1145881     -3.0284873      0.6841874\n",
      "  1354.1173659      0.7362481      0.6849412\n"
     ]
    }
   ],
   "source": [
    "head -n 4 TIC102090493-s2-121s_lc3_fppt.dat"
   ]
  },
  {
   "cell_type": "markdown",
   "metadata": {},
   "source": [
    "### cut - wycięcie kawałka każdej linii z pliku"
   ]
  },
  {
   "cell_type": "markdown",
   "metadata": {},
   "source": [
    "Komenda cut musi być wykonana z parametrem, bez podania wystąpi błąd. Ogólna składnia wygląda następująco: cut OPCJA PLIK"
   ]
  },
  {
   "cell_type": "code",
   "execution_count": 2,
   "metadata": {},
   "outputs": [
    {
     "name": "stdout",
     "output_type": "stream",
     "text": [
      "BLT (Białków Large Telescope)\n",
      "VLT (Very Large Telescope)\n"
     ]
    }
   ],
   "source": [
    "cat telescope_names.txt"
   ]
  },
  {
   "cell_type": "code",
   "execution_count": 20,
   "metadata": {},
   "outputs": [
    {
     "name": "stdout",
     "output_type": "stream",
     "text": [
      "BLT\n",
      "VLT\n"
     ]
    }
   ],
   "source": [
    "cut -d \" \"  -f 1 telescope_names.txt"
   ]
  },
  {
   "cell_type": "markdown",
   "metadata": {},
   "source": [
    "Opcja <b>-d</b> daje możliwość wskazania separatora, według którego można rozdzielić dane w pliku. Opcja <b>-f</b> wskazuje, które pole chcemy wyciąć i wypisać na ekran."
   ]
  },
  {
   "cell_type": "code",
   "execution_count": null,
   "metadata": {},
   "outputs": [],
   "source": []
  }
 ],
 "metadata": {
  "kernelspec": {
   "display_name": "Bash",
   "language": "bash",
   "name": "bash"
  },
  "language_info": {
   "codemirror_mode": "shell",
   "file_extension": ".sh",
   "mimetype": "text/x-sh",
   "name": "bash"
  }
 },
 "nbformat": 4,
 "nbformat_minor": 2
}
