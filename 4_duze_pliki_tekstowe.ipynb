{
 "cells": [
  {
   "cell_type": "markdown",
   "metadata": {},
   "source": [
    "# 4. Praca z dużymi plikami tekstowymi: komendy sed i grep. Uprawnienia pliku i interaktywność."
   ]
  },
  {
   "cell_type": "markdown",
   "metadata": {},
   "source": [
    "Bardzo często podczas pracy z plikami zawierającymi duże ilości danych (wielokolumnowe i wielowierszowe pliki) jest potrzeba przefiltrowania takiego pliku, wyszukania w nim pewnej frazy lub zamiany pewnych wartości na inne. W tej części zaprezentowane zostaną spospoby jak takie czynności wykonać w `bash`-u. Jednak na początek, warto poznać inną komendę dzięki której można nadać danemu plikowi __uprawnienia__. Wiąże się to z innym sposobem uruchamiania skryptów."
   ]
  },
  {
   "cell_type": "markdown",
   "metadata": {},
   "source": [
    "## 4.1 Uprawnienia plików - `chmod`"
   ]
  },
  {
   "cell_type": "markdown",
   "metadata": {},
   "source": [
    "Komenda `chmod` służy do zmiany/nadania uprawnień dostępu do pliku w systemach UNIX (do tej rodizny należy Linux). Sposób użycia:"
   ]
  },
  {
   "cell_type": "markdown",
   "metadata": {},
   "source": [
    "``` bash\n",
    "chmod [opcje] <uprawnienia> <plik>\n",
    "```\n",
    "Na początek sprawdźmy jakie uprawnienia mają nasze pliki:"
   ]
  },
  {
   "cell_type": "code",
   "execution_count": 2,
   "metadata": {},
   "outputs": [
    {
     "name": "stdout",
     "output_type": "stream",
     "text": [
      "razem 1264\n",
      "-rw-r--r-- 1 krzkot krzkot  32737 mar  9 17:04 1_komendy.ipynb\n",
      "-rw-r--r-- 1 krzkot krzkot  16164 mar 17 21:31 2_pierwszy_skrypt.ipynb\n",
      "-rw-r--r-- 1 krzkot krzkot  18413 mar 26 13:55 3_powloka_i_zmienne.ipynb\n",
      "-rw-r--r-- 1 krzkot krzkot   3482 mar 26 15:04 4_duze_pliki_tekstowe.ipynb\n",
      "-rw-rw-r-- 1 krzkot krzkot    210 mar 17 20:36 baza.bash\n",
      "drwxr-xr-x 3 krzkot krzkot   4096 mar 19 16:14 \u001b[0m\u001b[01;34mexercises\u001b[0m\n",
      "-rw-r--r-- 1 krzkot krzkot 824264 mar  5 10:36 TIC102090493-s2-121s_lc3_fppt.dat\n",
      "-rw-r--r-- 1 krzkot krzkot 383940 mar 17 20:39 TIC12974182-s2-121s_lc3_fppt.dat\n"
     ]
    }
   ],
   "source": [
    "ls -l"
   ]
  },
  {
   "cell_type": "markdown",
   "metadata": {},
   "source": [
    "Uprawniania naszych plików wypisane są w pierwszej kolumnie, oznaczone przez litery `rwx`. Oznaczają one po kolei:\n",
    "- `r` -> oznacza, że plik można odczytać (__r__ead)\n",
    "- `w` -> oznacza, że do pliku można wpisać (__w__rite) jakąś wartość\n",
    "- `x` -> oznacza, że plik można uruchomić (e __x__ecute) (jak np. skrypt)\n",
    "\n",
    "Żeby zrozumieć ten zapis typu: `-rw-r--r--`, trzeba wiedzieć, że w systemie Linux (w Windowsie też) każdy plik lub folder może mieć swojego właściciela (na jednym komputerze może być wiele użytkowników). Dodatkowo użytkownicy mogą być zebrani w grupy i danej grupie użytkowników można nadać uprawnienia naraz. \n",
    "\n",
    "Po wykonaniu komendy `ls -l` zobaczymy jakie uprawnienia mają właściciel, grupa oraz inni użytkownicy. Dla przykładu weźmy `-rw-r--r--`:\n",
    " - pierwsze 4 znaki odnoszą się do właściciela pliku, czyli tutaj będzie mógł odczytać i zapisać do pliku\n",
    " - kolejne 3 znaki odnoszą się do grupy, czyli tutaj będzie mógł tylko odczytać plik\n",
    " - ostatnie 3 znaki odnoszą się do innych użytkowników, czyli tutaj będzie mógł tylko odczytać plik\n",
    " - litera `d` na początku oznacza, że jest to folder (__d__irectory)"
   ]
  },
  {
   "cell_type": "markdown",
   "metadata": {},
   "source": [
    "\n",
    "Aby zmienić uprawnienia należy użyć komendy `chmod` i wyspecyfikować jakie uprawnienia chcemy __dodać/odebrać/zmienić__, za pomocą odpowienio __+/-/=__ i komu - __użytkownik/grupa/inni__, za pomocą __u/g/o__. Dla przykładu, stworzę pusty plik i nadam mu uprawnienia odczytu, zapisu i uruchamiania dla wszystkich użytkowników (u oraz o). Domyślnie utworzy się z uprawnieniami `rw-r--r-- `."
   ]
  },
  {
   "cell_type": "code",
   "execution_count": 28,
   "metadata": {},
   "outputs": [
    {
     "name": "stdout",
     "output_type": "stream",
     "text": [
      "-rw-r--r-- 1 krzkot krzkot 0 mar 26 16:34 pustyplik\n"
     ]
    }
   ],
   "source": [
    "touch pustyplik; ls -l pustyplik"
   ]
  },
  {
   "cell_type": "code",
   "execution_count": 29,
   "metadata": {},
   "outputs": [
    {
     "name": "stdout",
     "output_type": "stream",
     "text": [
      "-r--r--r-- 1 krzkot krzkot 0 mar 26 16:34 pustyplik\n"
     ]
    }
   ],
   "source": [
    "chmod ou-w pustyplik; ls -l pustyplik            # usuwam uprawnienia w dla użytkowników"
   ]
  },
  {
   "cell_type": "code",
   "execution_count": 31,
   "metadata": {},
   "outputs": [
    {
     "name": "stdout",
     "output_type": "stream",
     "text": [
      "bash: pustyplik: Brak dostępu\n"
     ]
    },
    {
     "ename": "",
     "evalue": "1",
     "output_type": "error",
     "traceback": []
    }
   ],
   "source": [
    "echo \"text\" > pustyplik                          # przy próbie wpisania czegoś do pliku występuje błąd"
   ]
  },
  {
   "cell_type": "code",
   "execution_count": 33,
   "metadata": {},
   "outputs": [
    {
     "name": "stdout",
     "output_type": "stream",
     "text": [
      "-rwxr--rwx 1 krzkot krzkot 0 mar 26 16:34 \u001b[0m\u001b[01;32mpustyplik\u001b[0m\n"
     ]
    }
   ],
   "source": [
    "chmod uo=rwx  pustyplik; ls -l pustyplik         # nadaję uprawnienia rwx dla użytkowników"
   ]
  },
  {
   "cell_type": "markdown",
   "metadata": {},
   "source": [
    "I w końcu dodanie uprawnień:"
   ]
  },
  {
   "cell_type": "code",
   "execution_count": 34,
   "metadata": {},
   "outputs": [
    {
     "name": "stdout",
     "output_type": "stream",
     "text": [
      "-rwxr-xrwx 1 krzkot krzkot 0 mar 26 16:34 \u001b[0m\u001b[01;32mpustyplik\u001b[0m\n"
     ]
    }
   ],
   "source": [
    "chmod g+x pustyplik; ls -l pustyplik             # nadaje uprawnienia x dla grupy"
   ]
  },
  {
   "cell_type": "markdown",
   "metadata": {},
   "source": [
    "## 4.2 Inny sposób uruchamiania skryptu. "
   ]
  },
  {
   "cell_type": "markdown",
   "metadata": {},
   "source": [
    "Można naszemu skryptowi nadać uprawnienia wykonywania (u+x), aby uruchomić go za pomocą:\n",
    "`./nazwa_skryptu.bash`<br><br>\n",
    "__[UWAGA]__ Aby ten sposób działał, skrypt musi się rozpoczynać od preambuły `#!/bin/bash`"
   ]
  },
  {
   "cell_type": "code",
   "execution_count": 19,
   "metadata": {},
   "outputs": [
    {
     "name": "stdout",
     "output_type": "stream",
     "text": [
      "-rw-rw-r-- 1 krzkot krzkot 210 mar 17 20:36 baza.bash\n"
     ]
    }
   ],
   "source": [
    "ls -l baza.bash"
   ]
  },
  {
   "cell_type": "code",
   "execution_count": 21,
   "metadata": {},
   "outputs": [
    {
     "name": "stdout",
     "output_type": "stream",
     "text": [
      "-rwxrw-r-- 1 krzkot krzkot 210 mar 17 20:36 \u001b[0m\u001b[01;32mbaza.bash\u001b[0m\n"
     ]
    }
   ],
   "source": [
    " chmod u+x baza.bash; ls -l baza.bash"
   ]
  },
  {
   "cell_type": "code",
   "execution_count": 24,
   "metadata": {},
   "outputs": [
    {
     "name": "stdout",
     "output_type": "stream",
     "text": [
      "27.4044052\n"
     ]
    }
   ],
   "source": [
    "./baza.bash TIC102090493-s2-121s_lc3_fppt.dat    # uruchamiam skrypt, po nadaniu uprawnień wykonywania"
   ]
  },
  {
   "cell_type": "markdown",
   "metadata": {},
   "source": [
    "## 4.3 Praca z plikiem tekstowym: `sed` (stream editor)"
   ]
  },
  {
   "cell_type": "markdown",
   "metadata": {},
   "source": [
    "Komenda `sed` jest bardzo użyteczną komendą dzięki, której można w rózny sposób manipulować plikiem. Tak naprawdę jest to dość zaawansowany program, który sam w sobie może być językiem programowania. Służy on do przetwarzania tekstów. Operacje zazwyczaj dobrze jest \"opakować\" apostrofami 'operacje' - wtedy rozpoznawane są w całości jako ciąg znaków. Warto użyć cudzysłowia w przypadku łączenia ze zmiennymi - będą miały podstawioną wartość.\n",
    "Uruchomienie:\n",
    "```bash\n",
    "sed [opcje] 'operacje' plik\n",
    "```\n",
    "Najprostsze wykonanie z użyciem pliku `equations.dat`:"
   ]
  },
  {
   "cell_type": "code",
   "execution_count": 47,
   "metadata": {
    "scrolled": true
   },
   "outputs": [
    {
     "name": "stdout",
     "output_type": "stream",
     "text": [
      "477.15 / 217.23\n"
     ]
    }
   ],
   "source": [
    "sed -n '5p' equations.dat       # wyświetla 5 linię z pliku"
   ]
  },
  {
   "cell_type": "markdown",
   "metadata": {},
   "source": [
    "W ogólności `sed` ma następujące opcje:\n",
    " - -n : wypisane zostaną tylko te linie na które zadziałano za pomocą komepndy p lub s (wyjaśnienie niżej)\n",
    " - -e : następnym argumentem będzie polecenie edycyjne (w powyższym przykładzie dla formalności można było wpisać:\n",
    " \n",
    " `sed -ne '5p' equations.dat`\n",
    " - -f : następnym argumentem jest plik z poleceniami dla `sed`-a"
   ]
  },
  {
   "cell_type": "markdown",
   "metadata": {},
   "source": [
    "W poleceniach możemy używać następujących komend:\n",
    "- p : (print) wypisanie\n",
    "- s : (substitute) zamiana\n",
    "- d : (delete) usunięcie\n",
    "- g : (global) zadziałanie na całej linii, nie tylko na pierwszym wystąpieniu (w połączeniu z s)\n",
    "\n",
    "Kilka przykładów:"
   ]
  },
  {
   "cell_type": "code",
   "execution_count": 51,
   "metadata": {},
   "outputs": [
    {
     "name": "stdout",
     "output_type": "stream",
     "text": [
      "805.51 + 981.97\n",
      "296.5 / 132.77\n",
      "477.15 / 217.23\n",
      "149.96 - 418.28\n",
      "707.83 / 241.16\n"
     ]
    }
   ],
   "source": [
    "sed -ne '3,7p' equations.dat    # wypisanie linii od 3 do 7"
   ]
  },
  {
   "cell_type": "code",
   "execution_count": 58,
   "metadata": {},
   "outputs": [
    {
     "name": "stdout",
     "output_type": "stream",
     "text": [
      "320.97 - 672.71\n",
      "162.48 + 907.06\n",
      "260.32 + 804.84\n"
     ]
    }
   ],
   "source": [
    "sed -e '1,9997d' equations.dat   # nie wypisze linii od 1 do 9997"
   ]
  },
  {
   "cell_type": "markdown",
   "metadata": {},
   "source": [
    "Za pomocą `sed`-a można wyszukiwać wzorce w pliku i wypisywać je lub zamieniać. Wzorce (tzw. __wyrażenia regularne__) definiuje się za pomocą następujących znaków:\n",
    "\n",
    "| Znak  |     Znaczenie     | | |* * * * * *| | | Wyrażenie  |     Znaczenie     |\n",
    "| :---: | :---------------: |-|-|-|-|-| :---: | :---------------: |\n",
    "|   ^   | Początek wiersza  | | |* * * * * *| | | /./  | Wiersz zawierający co najmniej jeden znak\n",
    "|   $   |   Koniec wiersza  | | |* * * * * *| | | /../ | Wiersz zawierający co najmniej dwa znaki\n",
    "|   .   |    Dowolny znak   | | |* * * * * *| | | /[abc]/ | Wiersz zawierający a, b lub c\n",
    "|   *   |0 lub więcej powtórzeń poprzedniego znaku| | |* * * * * *| | | /^#/ | Wiersz zaczynający się od #/\n",
    "|  [ ]  | Znak pomiędzy “[“ oraz “]” | | |* * * * * *| | | }^/ | Wiersz kończący się “}”\n",
    "\n",
    "Jeśli potrzebne jest wyszukanie znaku, który jest __zastrzeżony__ w powyższej tabeli, należy przed takim znakiem umieścić backslash `\\`. Komendy można również łączyć za pomocą potoku:"
   ]
  },
  {
   "cell_type": "code",
   "execution_count": 75,
   "metadata": {},
   "outputs": [
    {
     "name": "stdout",
     "output_type": "stream",
     "text": [
      "724kropka96 / 1kropka37\n",
      "782kropka65 - 848kropka9\n",
      "805kropka51 + 981kropka97\n",
      "296kropka5 / 132kropka77\n",
      "477kropka15 / 217kropka23\n",
      "149kropka96 - 418kropka28\n",
      "707kropka83 / 241kropka16\n",
      "750kropka53 - 329kropka8\n",
      "401kropka87 / 319kropka88\n",
      "717kropka33 - 189kropka74\n"
     ]
    }
   ],
   "source": [
    "head equations.dat | sed -e 's/\\./kropka/g'  # zamieni znak '.' na wyraz 'kropka' w całym strumieniu"
   ]
  },
  {
   "cell_type": "markdown",
   "metadata": {},
   "source": [
    "Poniższa komenda zamieni wyrażenie które zawiera słowo `kropka` oraz 3 znaki przed i 2 znaki po nim na słowo `pierwsza liczba`"
   ]
  },
  {
   "cell_type": "code",
   "execution_count": 87,
   "metadata": {},
   "outputs": [
    {
     "name": "stdout",
     "output_type": "stream",
     "text": [
      "pierwsza_liczba  / 1kropka37\n",
      "pierwsza_liczba  - 848kropka9\n",
      "pierwsza_liczba  + 981kropka97\n",
      "pierwsza_liczba / 132kropka77\n",
      "pierwsza_liczba  / 217kropka23\n",
      "pierwsza_liczba  - 418kropka28\n",
      "pierwsza_liczba  / 241kropka16\n",
      "pierwsza_liczba  - 329kropka8\n",
      "pierwsza_liczba  / 319kropka88\n",
      "pierwsza_liczba  - 189kropka74\n"
     ]
    }
   ],
   "source": [
    "head equations.dat | sed -e 's/\\./kropka/g' | sed -e 's/...kropka../pierwsza_liczba /'"
   ]
  },
  {
   "cell_type": "markdown",
   "metadata": {},
   "source": [
    "Poniższe, zamieni wyrażenie `liczba` na `cyfra` tylko dla 5 pierwszych linii"
   ]
  },
  {
   "cell_type": "code",
   "execution_count": 91,
   "metadata": {},
   "outputs": [],
   "source": [
    "head equations.dat | sed -e 's/\\./kropka/g' | sed -e 's/...kropka../pierwsza_liczba /' > zmiana.dat"
   ]
  },
  {
   "cell_type": "code",
   "execution_count": 92,
   "metadata": {},
   "outputs": [
    {
     "name": "stdout",
     "output_type": "stream",
     "text": [
      "pierwsza_liczba  / 1kropka37\n",
      "pierwsza_liczba  - 848kropka9\n",
      "pierwsza_liczba  + 981kropka97\n",
      "pierwsza_liczba / 132kropka77\n",
      "pierwsza_liczba  / 217kropka23\n",
      "pierwsza_liczba  - 418kropka28\n",
      "pierwsza_liczba  / 241kropka16\n",
      "pierwsza_liczba  - 329kropka8\n",
      "pierwsza_liczba  / 319kropka88\n",
      "pierwsza_liczba  - 189kropka74\n"
     ]
    }
   ],
   "source": [
    "cat zmiana.dat"
   ]
  },
  {
   "cell_type": "code",
   "execution_count": 94,
   "metadata": {},
   "outputs": [
    {
     "name": "stdout",
     "output_type": "stream",
     "text": [
      "pierwsza_cyfra  / 1kropka37\n",
      "pierwsza_cyfra  - 848kropka9\n",
      "pierwsza_cyfra  + 981kropka97\n",
      "pierwsza_cyfra / 132kropka77\n",
      "pierwsza_cyfra  / 217kropka23\n",
      "pierwsza_liczba  - 418kropka28\n",
      "pierwsza_liczba  / 241kropka16\n",
      "pierwsza_liczba  - 329kropka8\n",
      "pierwsza_liczba  / 319kropka88\n",
      "pierwsza_liczba  - 189kropka74\n"
     ]
    }
   ],
   "source": [
    "sed -e '1,5s/liczba/cyfra/' zmiana.dat      # Ta komenda zmieni słowo liczba na cyfra dla pierwszych 5 linii"
   ]
  },
  {
   "cell_type": "markdown",
   "metadata": {},
   "source": [
    "## 4.4 Praca z plikiem tekstowym: `grep`"
   ]
  },
  {
   "cell_type": "markdown",
   "metadata": {},
   "source": [
    "`grep` pozwala na wyszukiwanie danej frazy/wzorca w pliku. Wzorzec dobrze jest \"opakować\" apotstrofami `'wzorzec'` - wtedy rozpoznawany jest w całości jako ciąg znaków. W przypadku cudzysłowia następujący wzorzec: `\"$wyraz\"` zostanie rozpoznany jako wartość zmiennej `wyraz`.<br>\n",
    "\n",
    "__[UWAGA]__ `grep` jest czuły na wielkość liter<br>\n",
    "\n",
    "Składnia jest następująca:\n",
    "```bash\n",
    "grep [-opcje] wzorzec [plik/ścieżka]\n",
    "```"
   ]
  },
  {
   "cell_type": "markdown",
   "metadata": {},
   "source": [
    "Użyteczne opcje do użycia w komendzie `grep`:\n",
    "- -i ignoruje wielkość liter\n",
    "- -r wyszukuje również w sub katalogach ścieżki\n",
    "- -l pokazuje nazwy plików, w których znajduje się pasujący wzorzec\n",
    "- -n pokazuje linię, w której występuje szukany wzorzec\n",
    "- -v pokazuje linie, które nie zawierają wzorca\n",
    "- -e informuje, że następny argument, jest wzorcem\n",
    "\n",
    "Przykłady:"
   ]
  },
  {
   "cell_type": "code",
   "execution_count": 123,
   "metadata": {},
   "outputs": [
    {
     "name": "stdout",
     "output_type": "stream",
     "text": [
      "\u001b[32m\u001b[K19\u001b[m\u001b[K\u001b[36m\u001b[K:\u001b[m\u001b[K\u001b[01;31m\u001b[K264\u001b[m\u001b[K.97 - 821.85\n",
      "\u001b[32m\u001b[K521\u001b[m\u001b[K\u001b[36m\u001b[K:\u001b[m\u001b[K\u001b[01;31m\u001b[K264\u001b[m\u001b[K.25 + 296.13\n",
      "\u001b[32m\u001b[K1697\u001b[m\u001b[K\u001b[36m\u001b[K:\u001b[m\u001b[K735.52 + \u001b[01;31m\u001b[K264\u001b[m\u001b[K.59\n",
      "\u001b[32m\u001b[K1951\u001b[m\u001b[K\u001b[36m\u001b[K:\u001b[m\u001b[K\u001b[01;31m\u001b[K264\u001b[m\u001b[K.76 + 414.02\n",
      "\u001b[32m\u001b[K2496\u001b[m\u001b[K\u001b[36m\u001b[K:\u001b[m\u001b[K209.06 - \u001b[01;31m\u001b[K264\u001b[m\u001b[K.16\n",
      "\u001b[32m\u001b[K3051\u001b[m\u001b[K\u001b[36m\u001b[K:\u001b[m\u001b[K\u001b[01;31m\u001b[K264\u001b[m\u001b[K.78 - 409.38\n",
      "\u001b[32m\u001b[K3432\u001b[m\u001b[K\u001b[36m\u001b[K:\u001b[m\u001b[K\u001b[01;31m\u001b[K264\u001b[m\u001b[K.78 - 356.58\n",
      "\u001b[32m\u001b[K3472\u001b[m\u001b[K\u001b[36m\u001b[K:\u001b[m\u001b[K531.44 / \u001b[01;31m\u001b[K264\u001b[m\u001b[K.18\n",
      "\u001b[32m\u001b[K3852\u001b[m\u001b[K\u001b[36m\u001b[K:\u001b[m\u001b[K21.11 + \u001b[01;31m\u001b[K264\u001b[m\u001b[K.36\n",
      "\u001b[32m\u001b[K4462\u001b[m\u001b[K\u001b[36m\u001b[K:\u001b[m\u001b[K358.78 - \u001b[01;31m\u001b[K264\u001b[m\u001b[K.2\n",
      "\u001b[32m\u001b[K4971\u001b[m\u001b[K\u001b[36m\u001b[K:\u001b[m\u001b[K362.49 - \u001b[01;31m\u001b[K264\u001b[m\u001b[K.34\n",
      "\u001b[32m\u001b[K5341\u001b[m\u001b[K\u001b[36m\u001b[K:\u001b[m\u001b[K407.73 - \u001b[01;31m\u001b[K264\u001b[m\u001b[K.95\n",
      "\u001b[32m\u001b[K5597\u001b[m\u001b[K\u001b[36m\u001b[K:\u001b[m\u001b[K495.27 - \u001b[01;31m\u001b[K264\u001b[m\u001b[K.44\n",
      "\u001b[32m\u001b[K5745\u001b[m\u001b[K\u001b[36m\u001b[K:\u001b[m\u001b[K\u001b[01;31m\u001b[K264\u001b[m\u001b[K.09 - 806.29\n",
      "\u001b[32m\u001b[K6270\u001b[m\u001b[K\u001b[36m\u001b[K:\u001b[m\u001b[K\u001b[01;31m\u001b[K264\u001b[m\u001b[K.45 / 540.79\n",
      "\u001b[32m\u001b[K8370\u001b[m\u001b[K\u001b[36m\u001b[K:\u001b[m\u001b[K\u001b[01;31m\u001b[K264\u001b[m\u001b[K.15 / 984.58\n",
      "\u001b[32m\u001b[K8895\u001b[m\u001b[K\u001b[36m\u001b[K:\u001b[m\u001b[K754.05 + \u001b[01;31m\u001b[K264\u001b[m\u001b[K.56\n"
     ]
    }
   ],
   "source": [
    "grep -n '264' equations.dat    # Wyszukuje ciąg znaków: 264 w pliku i pokazuje w której linii się znajduje"
   ]
  },
  {
   "cell_type": "markdown",
   "metadata": {},
   "source": [
    "Można również stosować __wyrażenia regularne__ podobnie jak w komendzie `sed`:"
   ]
  },
  {
   "cell_type": "code",
   "execution_count": 121,
   "metadata": {},
   "outputs": [
    {
     "name": "stdout",
     "output_type": "stream",
     "text": [
      "86.96 - 77.89\n",
      "989.66 + 699.96\n",
      "879.79 + 776.89\n"
     ]
    }
   ],
   "source": [
    "grep -v '[0-5]' equations.dat    # wypisuje te linie które nie zawierają cyfr od 0 do 5"
   ]
  },
  {
   "cell_type": "markdown",
   "metadata": {},
   "source": [
    "## 4.5 Interaktywność: `read`"
   ]
  },
  {
   "cell_type": "markdown",
   "metadata": {},
   "source": [
    "W `bash`-u można również pisać skrypty, które będą w pewnym stopniu interaktywne. Służy do tego komenda `read`. W takim skrypcie należy umieścić linię:\n",
    "```bash\n",
    "read jakaszmienna\n",
    "```\n",
    "Gdzie `jakaszmienna` to downolna nazwa zmiennej, do której wpisane będzie to co użytkownik wpisze. Po wpisaniu należy wcisnąć klaiwsz `enter`.<br>\n",
    "\n",
    "__Przykład__<br>\n",
    "Stworzę skrypt o nazwie witaj.bash o takiej zawartości:\n",
    "```bash\n",
    "#!bin/bash\n",
    "echo \"Podaj swoje imię: \"\n",
    "read imie\n",
    "echo \"Witaj, \"$imie\n",
    "```"
   ]
  },
  {
   "cell_type": "code",
   "execution_count": 134,
   "metadata": {},
   "outputs": [
    {
     "name": "stdout",
     "output_type": "stream",
     "text": [
      "-rwxr--r-- 1 krzkot krzkot 77 mar 27 16:04 \u001b[0m\u001b[01;32mwitaj.bash\u001b[0m\n"
     ]
    }
   ],
   "source": [
    "chmod u+x witaj.bash; ls -l witaj.bash"
   ]
  },
  {
   "cell_type": "markdown",
   "metadata": {},
   "source": [
    "Uruchomienie go w terminalu da nastepujący efekt (komenda exit na końcu jest nie związana ze skryptem, wynika ona z nagrywania gif-a):"
   ]
  },
  {
   "cell_type": "markdown",
   "metadata": {},
   "source": [
    "![SegmentLocal](witaj.gif \"segment\")"
   ]
  },
  {
   "cell_type": "code",
   "execution_count": null,
   "metadata": {},
   "outputs": [],
   "source": []
  }
 ],
 "metadata": {
  "kernelspec": {
   "display_name": "Bash",
   "language": "bash",
   "name": "bash"
  },
  "language_info": {
   "codemirror_mode": "shell",
   "file_extension": ".sh",
   "mimetype": "text/x-sh",
   "name": "bash"
  }
 },
 "nbformat": 4,
 "nbformat_minor": 4
}
