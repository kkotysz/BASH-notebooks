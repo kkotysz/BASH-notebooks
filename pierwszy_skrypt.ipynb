{
 "cells": [
  {
   "cell_type": "markdown",
   "metadata": {},
   "source": [
    "# 2.  Pierwszy skrypt w bash-u: wykorzystanie zmiennych, potoków (pipe) oraz operatorów przekierowania"
   ]
  },
  {
   "cell_type": "markdown",
   "metadata": {},
   "source": [
    "Pisanie skryptów w powłoce bash jest bardzo ważnym elementem przyspieszającym i ułatwiającym pracę z terminalem. Zamiast ręcznie wykonywać serię poleceń, wpisująć każde z osobna, można wpisać je wszystkie do jednego pliku, który będzie potem czytany przez komputer i wykonywane będą zawarte w nim polecenia. Najpierw jednak trzeba poznać podstawowe elementy występujące w bashu."
   ]
  },
  {
   "cell_type": "markdown",
   "metadata": {},
   "source": [
    "### 2.1 Operatory przekierowania"
   ]
  },
  {
   "cell_type": "markdown",
   "metadata": {},
   "source": [
    "Na początek warto zapamiętać, że cokolwiek robimy w terminalu, wynik działania komendy domyślnie będzie wyświetlany na ekranie. W BASH-u isnieją odpowiednie operatory przekierowania, żeby to zmienić. Są to:\n",
    "\\> >> <\n",
    "\n",
    "<b>komenda1 > PLIK1</b> : wynik działania operacji komenda1 zostanie wpisany do pliku o nazwie PLIK1 (ponowne zastosowanie, spowoduje napisanie pliku)<br>\n",
    "<b>komenda2 >> PLIK1</b> : wynik działania operacji komenda2 zostanie dopisany na koniec pliku o nazwie PLIK2 <br>\n",
    "<b>komenda3 \\< PLIK3 </b> : zawartość pliku o nazwie PLIK3 zostanie przekierowana do wejścia operacji komenda3.<br>\n",
    "\n"
   ]
  },
  {
   "cell_type": "code",
   "execution_count": 1,
   "metadata": {},
   "outputs": [
    {
     "name": "stdout",
     "output_type": "stream",
     "text": [
      "Astronomia\n"
     ]
    }
   ],
   "source": [
    "echo \"Astronomia\""
   ]
  },
  {
   "cell_type": "code",
   "execution_count": 2,
   "metadata": {},
   "outputs": [],
   "source": [
    "echo \"Astronomia\" > astro.dat"
   ]
  },
  {
   "cell_type": "code",
   "execution_count": 3,
   "metadata": {},
   "outputs": [
    {
     "name": "stdout",
     "output_type": "stream",
     "text": [
      "Astronomia\n"
     ]
    }
   ],
   "source": [
    "cat astro.dat"
   ]
  },
  {
   "cell_type": "markdown",
   "metadata": {},
   "source": [
    "Teraz napis 'Astronomia' jest przechowywany w pliku o nazwie astro.dat"
   ]
  },
  {
   "cell_type": "markdown",
   "metadata": {},
   "source": [
    "### 2.2 Zmienne"
   ]
  },
  {
   "cell_type": "markdown",
   "metadata": {},
   "source": [
    "W bash-u istnieje również pojęcie zmiennej, do której można przypisać dowolny ciąg znaków, wartość liczbową lub logiczną. Przypisanie wartości odbywa się poprzez operator '='. Składnia: nazwazmiennej=wartość"
   ]
  },
  {
   "cell_type": "code",
   "execution_count": 4,
   "metadata": {},
   "outputs": [],
   "source": [
    "mojazmienna='dowolnynapis'"
   ]
  },
  {
   "cell_type": "code",
   "execution_count": 6,
   "metadata": {},
   "outputs": [],
   "source": [
    "kolejnazmienna=12"
   ]
  },
  {
   "cell_type": "markdown",
   "metadata": {},
   "source": [
    "Aby wyświetlić wartość zmiennej, należy odnieść się do niej poprzez operator '$'. Wyświetlanie odbywa się przez komendę echo."
   ]
  },
  {
   "cell_type": "code",
   "execution_count": 5,
   "metadata": {},
   "outputs": [
    {
     "name": "stdout",
     "output_type": "stream",
     "text": [
      "dowolnynapis\n"
     ]
    }
   ],
   "source": [
    "echo $mojazmienna"
   ]
  },
  {
   "cell_type": "code",
   "execution_count": 7,
   "metadata": {},
   "outputs": [
    {
     "name": "stdout",
     "output_type": "stream",
     "text": [
      "12\n"
     ]
    }
   ],
   "source": [
    "echo $kolejnazmienna"
   ]
  },
  {
   "cell_type": "markdown",
   "metadata": {},
   "source": [
    "### 2.3 Potoki (pipe)"
   ]
  },
  {
   "cell_type": "markdown",
   "metadata": {},
   "source": [
    "W powłoce bash występuje także pojęcie potoku (w języku angielskim określane jako \"pipe\") i wykorzystuje się je za pomocą symbolu '|'. Ta operacja powoduje przekierowanie wyjścia jednej komendy na wejście drugiej. Zapisujemy to w ten sposób: komenda1 | komenda2. W poniższym przykładzie przekierujemy wyjście z komendy <b>ls</b> do komendy <b>wc</b>."
   ]
  },
  {
   "cell_type": "code",
   "execution_count": 15,
   "metadata": {},
   "outputs": [
    {
     "name": "stdout",
     "output_type": "stream",
     "text": [
      "razem 864K\n",
      "-rw-r--r-- 1 krzkot krzkot    0 mar  5 09:46 helio.dat\n",
      "-rw-r--r-- 1 krzkot krzkot    0 mar  5 09:47 stars.dat\n",
      "-rw-r--r-- 1 krzkot krzkot  291 mar  5 09:48 file_list.txt\n",
      "-rw-r--r-- 1 krzkot krzkot   59 mar  5 10:01 telescope_names.txt\n",
      "-rw-r--r-- 1 krzkot krzkot 805K mar  5 10:36 TIC102090493-s2-121s_lc3_fppt.dat\n",
      "-rw-r--r-- 1 krzkot krzkot  33K mar  6 15:22 SO_komendy.ipynb\n",
      "-rw-r--r-- 1 krzkot krzkot   11 mar  6 15:27 astro.dat\n",
      "-rw-r--r-- 1 krzkot krzkot 5,3K mar  6 15:49 pierwszy_skrypt.ipynb\n"
     ]
    }
   ],
   "source": [
    "ls -lrth"
   ]
  },
  {
   "cell_type": "code",
   "execution_count": 16,
   "metadata": {},
   "outputs": [
    {
     "name": "stdout",
     "output_type": "stream",
     "text": [
      "      9      74     508\n"
     ]
    }
   ],
   "source": [
    "ls -lrth | wc"
   ]
  },
  {
   "cell_type": "markdown",
   "metadata": {},
   "source": [
    "Wynik działania <b>ls -lrth</b> zwrócił 9 linii. Jak widać, przekierowanie wyniku działania ls zadziałało i komenda wc poprawnie zwraca liczbę wierszy, wyrazów oraz bitów."
   ]
  },
  {
   "cell_type": "markdown",
   "metadata": {},
   "source": [
    "#### Kalkulator bc"
   ]
  },
  {
   "cell_type": "markdown",
   "metadata": {},
   "source": [
    "Bardzo wygodnym narzędziem w bash-u jest kalkulator, którym można wyliczać proste wyrażenia. Służy do tego komenda <b>bc</b>. Należy przekierować nasze wyrażenie wyświetlone poprzez komendę echo do kalkulatora bc."
   ]
  },
  {
   "cell_type": "code",
   "execution_count": 33,
   "metadata": {},
   "outputs": [
    {
     "name": "stdout",
     "output_type": "stream",
     "text": [
      "4\n"
     ]
    }
   ],
   "source": [
    "echo \"9-5\" | bc"
   ]
  },
  {
   "cell_type": "markdown",
   "metadata": {},
   "source": [
    "Podobnie można przekazać wyrażenie przez zmienne. Do zmiennych a i b przypiszemy dwie wartości i pomnożymy je."
   ]
  },
  {
   "cell_type": "code",
   "execution_count": 29,
   "metadata": {},
   "outputs": [],
   "source": [
    "a=42"
   ]
  },
  {
   "cell_type": "code",
   "execution_count": 34,
   "metadata": {},
   "outputs": [],
   "source": [
    "b=24"
   ]
  },
  {
   "cell_type": "code",
   "execution_count": 35,
   "metadata": {},
   "outputs": [
    {
     "name": "stdout",
     "output_type": "stream",
     "text": [
      "1008\n"
     ]
    }
   ],
   "source": [
    "echo $a*$b | bc"
   ]
  },
  {
   "cell_type": "markdown",
   "metadata": {},
   "source": [
    "### 2.4 Skrypt"
   ]
  },
  {
   "cell_type": "markdown",
   "metadata": {},
   "source": [
    "Celem tego bardzo prostego skryptu będzie wyliczenie bazy czasowej (długości obserwacji) z pliku z fotometrią gwiazdy <b>HD 7454</b>. Dane pochodzą z satelity TESS. Struktura pliku jest następująca:"
   ]
  },
  {
   "cell_type": "code",
   "execution_count": 36,
   "metadata": {},
   "outputs": [
    {
     "name": "stdout",
     "output_type": "stream",
     "text": [
      "# TBJD-2450000      FLUX           FLUX_ERR\n",
      "  1354.1131991     -3.5355597      0.6838813\n",
      "  1354.1145881     -3.0284873      0.6841874\n",
      "  1354.1173659      0.7362481      0.6849412\n",
      "  1354.1187548      1.0039511      0.6853946\n",
      "  1354.1201437      2.0536179      0.6856015\n",
      "  1354.1215327      2.9236379      0.6860147\n",
      "  1354.1229216      3.1528239      0.6861270\n",
      "  1354.1243105      1.7814821      0.6857486\n",
      "  1354.1256994      2.6458713      0.6859725\n"
     ]
    }
   ],
   "source": [
    "head TIC102090493-s2-121s_lc3_fppt.dat"
   ]
  },
  {
   "cell_type": "markdown",
   "metadata": {},
   "source": [
    "Pierwsza linia to nagłówek, następne to kolejno w 3 kolumnach: czas, strumień oraz błąd pomiaru strumienia."
   ]
  },
  {
   "cell_type": "markdown",
   "metadata": {},
   "source": [
    "Na początku chcemy wyświetlić tylko pierwszą linię zawierającą czas. Wyliczenie bazy czasowej będzie po prostu odjęciem wartości początkowej czasu od końcowej. Za pomocą komend <head> i <tail> wyświetlimy drugą (bo pomijamy nagłówek) linię. Otrzymaną wartość wpiszemy do zmiennej <b>start</b>."
   ]
  },
  {
   "cell_type": "code",
   "execution_count": 38,
   "metadata": {},
   "outputs": [
    {
     "name": "stdout",
     "output_type": "stream",
     "text": [
      "  1354.1131991     -3.5355597      0.6838813\n"
     ]
    }
   ],
   "source": [
    "head -n 2 TIC102090493-s2-121s_lc3_fppt.dat | tail -n 1"
   ]
  },
  {
   "cell_type": "markdown",
   "metadata": {},
   "source": [
    "Wynik działania komendy również można przypisać do zmiennej. Robi się to następująco:"
   ]
  },
  {
   "cell_type": "code",
   "execution_count": 41,
   "metadata": {},
   "outputs": [],
   "source": [
    "start=$(head -n 2 TIC102090493-s2-121s_lc3_fppt.dat | tail -n 1)"
   ]
  },
  {
   "cell_type": "code",
   "execution_count": 43,
   "metadata": {},
   "outputs": [
    {
     "name": "stdout",
     "output_type": "stream",
     "text": [
      "1354.1131991 -3.5355597 0.6838813\n"
     ]
    }
   ],
   "source": [
    "echo $start"
   ]
  },
  {
   "cell_type": "markdown",
   "metadata": {},
   "source": [
    "Do uzyskania tylko wartości z czasem, użyjemy komendy <b>cut</b>."
   ]
  },
  {
   "cell_type": "code",
   "execution_count": 46,
   "metadata": {},
   "outputs": [
    {
     "name": "stdout",
     "output_type": "stream",
     "text": [
      "1354.1131991\n"
     ]
    }
   ],
   "source": [
    "echo $start | cut -d \" \" -f 1"
   ]
  },
  {
   "cell_type": "markdown",
   "metadata": {},
   "source": [
    "Wynik działania tej komendy, również przechwycimy do zmiennej, może mieć tę samą nazwę. Nie można użyć pipe'a wcześniej podczas definiowania zmiennej <b>start</b> za pierwszym razem, gdyż sam tekst ma wiele spacji, które zostają okrojone podczas wpisywania do zmiennej. Komendą <b>cut</b> definuijemy jaki ma być separator, który oddziela kolejne kolumny i po wpisaniu do zmiennej jest on właśnie już pojedynczą spacją."
   ]
  },
  {
   "cell_type": "code",
   "execution_count": 57,
   "metadata": {},
   "outputs": [],
   "source": [
    "start=$(echo $start | cut -d \" \" -f 1)"
   ]
  },
  {
   "cell_type": "code",
   "execution_count": 58,
   "metadata": {},
   "outputs": [
    {
     "name": "stdout",
     "output_type": "stream",
     "text": [
      "1354.1131991\n"
     ]
    }
   ],
   "source": [
    "echo $start"
   ]
  },
  {
   "cell_type": "markdown",
   "metadata": {},
   "source": [
    "Teraz pozostaje tylko wpisać do zmiennej za pomocą analogicznych komend, ostatnią wartość czasu (ostatnia linia) i odjąć je od siebie za pomocą kalkulatora <b>bc</b>."
   ]
  },
  {
   "cell_type": "code",
   "execution_count": 59,
   "metadata": {},
   "outputs": [],
   "source": [
    "end=$(tail -n 1 TIC102090493-s2-121s_lc3_fppt.dat)"
   ]
  },
  {
   "cell_type": "code",
   "execution_count": 60,
   "metadata": {},
   "outputs": [
    {
     "name": "stdout",
     "output_type": "stream",
     "text": [
      "1381.5176043 -0.5467978 0.6999715\n"
     ]
    }
   ],
   "source": [
    "echo $end"
   ]
  },
  {
   "cell_type": "code",
   "execution_count": 61,
   "metadata": {},
   "outputs": [],
   "source": [
    "end=$(echo $end | cut -d \" \" -f 1)"
   ]
  },
  {
   "cell_type": "code",
   "execution_count": 62,
   "metadata": {},
   "outputs": [
    {
     "name": "stdout",
     "output_type": "stream",
     "text": [
      "1381.5176043\n"
     ]
    }
   ],
   "source": [
    "echo $end"
   ]
  },
  {
   "cell_type": "code",
   "execution_count": 66,
   "metadata": {},
   "outputs": [],
   "source": [
    "tbase=$(echo $end-$start | bc)   #odejmowanie wartości końcowej od początkowej, do uzyskania bazy czasowej"
   ]
  },
  {
   "cell_type": "code",
   "execution_count": 67,
   "metadata": {},
   "outputs": [
    {
     "name": "stdout",
     "output_type": "stream",
     "text": [
      "27.4044052\n"
     ]
    }
   ],
   "source": [
    "echo $tbase"
   ]
  },
  {
   "cell_type": "markdown",
   "metadata": {},
   "source": [
    "Baza czasowa została wyliczona. Teraz przyszedł czas na to, aby wszystkie komendy potrzebne do jej wyliczenia zebrać razem i wpisać do pliku, który będzie naszym skryptem. W tym przykładzie stworzę plik <b>baza.bash</b>, który będzie przechowywał następujące komendy:"
   ]
  },
  {
   "cell_type": "code",
   "execution_count": null,
   "metadata": {},
   "outputs": [],
   "source": [
    "start=$(head -n 2 TIC102090493-s2-121s_lc3_fppt.dat | tail -n 1)\n",
    "start=$(echo $start | cut -d \" \" -f 1)\n",
    "end=$(tail -n 1 TIC102090493-s2-121s_lc3_fppt.dat)\n",
    "end=$(echo $end | cut -d \" \" -f 1)\n",
    "tbase=$(echo $end-$start | bc)\n",
    "echo $tbase"
   ]
  },
  {
   "cell_type": "code",
   "execution_count": 73,
   "metadata": {},
   "outputs": [
    {
     "name": "stdout",
     "output_type": "stream",
     "text": [
      "astro.dat      helio.dat              stars.dat\n",
      "baza.bash      pierwszy_skrypt.ipynb  telescope_names.txt\n",
      "file_list.txt  SO_komendy.ipynb       TIC102090493-s2-121s_lc3_fppt.dat\n"
     ]
    }
   ],
   "source": [
    "ls # w mojej lokalizacji znajduje się plik baza.bash"
   ]
  },
  {
   "cell_type": "markdown",
   "metadata": {},
   "source": [
    "Zanim jednak uruchomię skrypt, muszę wskazać komputerowi że jest to rzeczywiście skrypt napisany w bash-u. Służy do tego tzw. preambuła, którą umieszcza się na początku każdego skryptu. Jest to następująca linia:"
   ]
  },
  {
   "cell_type": "code",
   "execution_count": 74,
   "metadata": {},
   "outputs": [],
   "source": [
    "#!/bin/bash"
   ]
  },
  {
   "cell_type": "markdown",
   "metadata": {},
   "source": [
    "Zatem cały skrypt wygląda w ten sposób:"
   ]
  },
  {
   "cell_type": "code",
   "execution_count": 75,
   "metadata": {},
   "outputs": [
    {
     "name": "stdout",
     "output_type": "stream",
     "text": [
      "#!/bin/bash\n",
      "start=$(head -n 2 TIC102090493-s2-121s_lc3_fppt.dat | tail -n 1)\n",
      "start=$(echo $start | cut -d \" \" -f 1)\n",
      "end=$(tail -n 1 TIC102090493-s2-121s_lc3_fppt.dat)\n",
      "end=$(echo $end | cut -d \" \" -f 1)\n",
      "tbase=$(echo $end-$start | bc)\n",
      "echo $tbase\n"
     ]
    }
   ],
   "source": [
    "cat baza.bash"
   ]
  },
  {
   "cell_type": "markdown",
   "metadata": {},
   "source": [
    "Uruchamia się go poprzez komendę:"
   ]
  },
  {
   "cell_type": "code",
   "execution_count": 76,
   "metadata": {},
   "outputs": [
    {
     "name": "stdout",
     "output_type": "stream",
     "text": [
      "27.4044052\n"
     ]
    }
   ],
   "source": [
    "bash baza.bash"
   ]
  },
  {
   "cell_type": "markdown",
   "metadata": {},
   "source": [
    "Skrypt działa i poprawnie wylicza bazę czasową z pliku."
   ]
  },
  {
   "cell_type": "code",
   "execution_count": null,
   "metadata": {},
   "outputs": [],
   "source": []
  }
 ],
 "metadata": {
  "kernelspec": {
   "display_name": "Bash",
   "language": "bash",
   "name": "bash"
  },
  "language_info": {
   "codemirror_mode": "shell",
   "file_extension": ".sh",
   "mimetype": "text/x-sh",
   "name": "bash"
  }
 },
 "nbformat": 4,
 "nbformat_minor": 2
}
