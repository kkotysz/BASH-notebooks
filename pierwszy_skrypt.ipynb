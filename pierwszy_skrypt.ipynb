{
 "cells": [
  {
   "cell_type": "markdown",
   "metadata": {},
   "source": [
    "# 2.  Pierwszy skrypt w bash-u: wykorzystanie zmiennych, potoków (pipe) oraz operatorów przekierowania"
   ]
  },
  {
   "cell_type": "markdown",
   "metadata": {},
   "source": [
    "Pisanie skryptów w powłoce bash jest bardzo ważnym elementem przyspieszającym i ułatwiającym pracę z terminalem. Zamiast ręcznie wykonywać serię poleceń, wpisująć każde z osobna, można wpisać je wszystkie do jednego pliku, który będzie potem czytany przez komputer i wykonywane będą zawarte w nim polecenia. Najpierw jednak trzeba poznać podstawowe elementy występujące w bashu."
   ]
  },
  {
   "cell_type": "markdown",
   "metadata": {},
   "source": [
    "### 2.1 Operatory przekierowania"
   ]
  },
  {
   "cell_type": "markdown",
   "metadata": {},
   "source": [
    "Na początek warto zapamiętać, że cokolwiek robimy w terminalu, wynik działania komendy domyślnie będzie wyświetlany na ekranie. W BASH-u isnieją odpowiednie operatory przekierowania, żeby to zmienić. Są to:\n",
    "\\> >> <\n",
    "\n",
    "<b>komenda1 > PLIK1</b> : wynik działania operacji komenda1 zostanie wpisany do pliku o nazwie PLIK1 (ponowne zastosowanie, spowoduje napisanie pliku)<br>\n",
    "<b>komenda2 >> PLIK1</b> : wynik działania operacji komenda2 zostanie dopisany na koniec pliku o nazwie PLIK2 <br>\n",
    "<b>komenda3 \\< PLIK3 </b> : zawartość pliku o nazwie PLIK3 zostanie przekierowana do wejścia operacji komenda3.<br>\n",
    "\n"
   ]
  },
  {
   "cell_type": "code",
   "execution_count": 1,
   "metadata": {},
   "outputs": [
    {
     "name": "stdout",
     "output_type": "stream",
     "text": [
      "Astronomia\n"
     ]
    }
   ],
   "source": [
    "echo \"Astronomia\""
   ]
  },
  {
   "cell_type": "code",
   "execution_count": 2,
   "metadata": {},
   "outputs": [],
   "source": [
    "echo \"Astronomia\" > astro.dat"
   ]
  },
  {
   "cell_type": "code",
   "execution_count": 3,
   "metadata": {},
   "outputs": [
    {
     "name": "stdout",
     "output_type": "stream",
     "text": [
      "Astronomia\n"
     ]
    }
   ],
   "source": [
    "cat astro.dat"
   ]
  },
  {
   "cell_type": "markdown",
   "metadata": {},
   "source": [
    "Teraz napis 'Astronomia' jest przechowywany w pliku o nazwie astro.dat"
   ]
  },
  {
   "cell_type": "markdown",
   "metadata": {},
   "source": [
    "### 2.2 Zmienne"
   ]
  },
  {
   "cell_type": "markdown",
   "metadata": {},
   "source": [
    "W bash-u istnieje również pojęcie zmiennej, do której można przypisać dowolny ciąg znaków, wartość liczbową lub logiczną. Przypisanie wartości odbywa się poprzez operator '='. Składnia: nazwazmiennej=wartość"
   ]
  },
  {
   "cell_type": "code",
   "execution_count": 4,
   "metadata": {},
   "outputs": [],
   "source": [
    "mojazmienna='dowolnynapis'"
   ]
  },
  {
   "cell_type": "code",
   "execution_count": 6,
   "metadata": {},
   "outputs": [],
   "source": [
    "kolejnazmienna=12"
   ]
  },
  {
   "cell_type": "markdown",
   "metadata": {},
   "source": [
    "Aby wyświetlić wartość zmiennej, należy odnieść się do niej poprzez operator '$'. Wyświetlanie odbywa się przez komendę echo."
   ]
  },
  {
   "cell_type": "code",
   "execution_count": 5,
   "metadata": {},
   "outputs": [
    {
     "name": "stdout",
     "output_type": "stream",
     "text": [
      "dowolnynapis\n"
     ]
    }
   ],
   "source": [
    "echo $mojazmienna"
   ]
  },
  {
   "cell_type": "code",
   "execution_count": 7,
   "metadata": {},
   "outputs": [
    {
     "name": "stdout",
     "output_type": "stream",
     "text": [
      "12\n"
     ]
    }
   ],
   "source": [
    "echo $kolejnazmienna"
   ]
  },
  {
   "cell_type": "markdown",
   "metadata": {},
   "source": [
    "### 2.3 Potoki (pipe)"
   ]
  },
  {
   "cell_type": "markdown",
   "metadata": {},
   "source": [
    "W powłoce bash występuje także pojęcie potoku (w języku angielskim określane jako \"pipe\") i wykorzystuje się je za pomocą symbolu '|'. Ta operacja powoduje przekierowanie wyjścia jednej komendy na wejście drugiej. Zapisujemy to w ten sposób: komenda1 | komenda2. W poniższym przykładzie przekierujemy wyjście z komendy <b>ls</b> do komendy <b>wc</b>."
   ]
  },
  {
   "cell_type": "code",
   "execution_count": 15,
   "metadata": {},
   "outputs": [
    {
     "name": "stdout",
     "output_type": "stream",
     "text": [
      "razem 864K\n",
      "-rw-r--r-- 1 krzkot krzkot    0 mar  5 09:46 helio.dat\n",
      "-rw-r--r-- 1 krzkot krzkot    0 mar  5 09:47 stars.dat\n",
      "-rw-r--r-- 1 krzkot krzkot  291 mar  5 09:48 file_list.txt\n",
      "-rw-r--r-- 1 krzkot krzkot   59 mar  5 10:01 telescope_names.txt\n",
      "-rw-r--r-- 1 krzkot krzkot 805K mar  5 10:36 TIC102090493-s2-121s_lc3_fppt.dat\n",
      "-rw-r--r-- 1 krzkot krzkot  33K mar  6 15:22 SO_komendy.ipynb\n",
      "-rw-r--r-- 1 krzkot krzkot   11 mar  6 15:27 astro.dat\n",
      "-rw-r--r-- 1 krzkot krzkot 5,3K mar  6 15:49 pierwszy_skrypt.ipynb\n"
     ]
    }
   ],
   "source": [
    "ls -lrth"
   ]
  },
  {
   "cell_type": "code",
   "execution_count": 16,
   "metadata": {},
   "outputs": [
    {
     "name": "stdout",
     "output_type": "stream",
     "text": [
      "      9      74     508\n"
     ]
    }
   ],
   "source": [
    "ls -lrth | wc"
   ]
  },
  {
   "cell_type": "markdown",
   "metadata": {},
   "source": [
    "Wynik działania <b>ls -lrth</b> zwrócił 9 linii. Jak widać, przekierowanie wyniku działania ls zadziałało i komenda wc poprawnie zwraca liczbę wierszy, wyrazów oraz bitów."
   ]
  },
  {
   "cell_type": "markdown",
   "metadata": {},
   "source": [
    "#### Kalkulator bc"
   ]
  },
  {
   "cell_type": "markdown",
   "metadata": {},
   "source": [
    "Bardzo wygodnym narzędziem w bash-u jest kalkulator, którym można wyliczać proste wyrażenia. Służy do tego komenda <b>bc</b>. Należy przekierować nasze wyrażenie wyświetlone poprzez komendę echo do kalkulatora bc."
   ]
  },
  {
   "cell_type": "code",
   "execution_count": 33,
   "metadata": {},
   "outputs": [
    {
     "name": "stdout",
     "output_type": "stream",
     "text": [
      "4\n"
     ]
    }
   ],
   "source": [
    "echo \"9-5\" | bc"
   ]
  },
  {
   "cell_type": "markdown",
   "metadata": {},
   "source": [
    "Podobnie można przekazać wyrażenie przez zmienne. Do zmiennych a i b przypiszemy dwie wartości i pomnożymy je."
   ]
  },
  {
   "cell_type": "code",
   "execution_count": 29,
   "metadata": {},
   "outputs": [],
   "source": [
    "a=42"
   ]
  },
  {
   "cell_type": "code",
   "execution_count": 34,
   "metadata": {},
   "outputs": [],
   "source": [
    "b=24"
   ]
  },
  {
   "cell_type": "code",
   "execution_count": 35,
   "metadata": {},
   "outputs": [
    {
     "name": "stdout",
     "output_type": "stream",
     "text": [
      "1008\n"
     ]
    }
   ],
   "source": [
    "echo $a*$b | bc"
   ]
  },
  {
   "cell_type": "markdown",
   "metadata": {},
   "source": [
    "### 2.4 Skrypt"
   ]
  },
  {
   "cell_type": "code",
   "execution_count": null,
   "metadata": {},
   "outputs": [],
   "source": []
  }
 ],
 "metadata": {
  "kernelspec": {
   "display_name": "Bash",
   "language": "bash",
   "name": "bash"
  },
  "language_info": {
   "codemirror_mode": "shell",
   "file_extension": ".sh",
   "mimetype": "text/x-sh",
   "name": "bash"
  }
 },
 "nbformat": 4,
 "nbformat_minor": 2
}
