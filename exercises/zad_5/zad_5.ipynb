{
 "cells": [
  {
   "cell_type": "markdown",
   "metadata": {},
   "source": [
    "![title](large.png)"
   ]
  },
  {
   "cell_type": "markdown",
   "metadata": {},
   "source": [
    "# Zadanie nr 5 - gnuplot"
   ]
  },
  {
   "cell_type": "markdown",
   "metadata": {},
   "source": [
    "### __[UWAGA]__ Pamiętajcie o komentowaniu skryptu, za pomocą znaku `#` po którym wpisujcie własnymi słowami co dana komenda robi. W ten sposób będę wiedział, że rozumiecie napisany skrypt.\n",
    " \n",
    " Zadanie polega na napisaniu skryptu w `bash`-u, który będzie wywoływał skrypt napisany w `gnuplot`-cie, który:\n",
    "   - będzie  liczył dopasowanie funkcji do danych w pliku `data.txt` \n",
    "   - zapisze dwa obrazki, każdy w trybie `multiplot`:\n",
    "       - dane z pliku `dane.txt` z dopasowaniem oraz różnicę między dopasowaniem a prawdziwą funkcją. Prawdziwa funkcja ma postać: $-0.16x^2+0.7x-9$\n",
    "       - dwa histogramy z zadania nr 4 -> wykorzystajcie wasze skrypty, żeby stworzyć sobie dane do histogramów\n",
    "       \n",
    " #### __Zadbajcie o czytelność i estetykę wykresów. Pozmieniajcie kolory, punkty, rozmiary i czcionki na wykresie.<br> Do znalezienia samemu: jak zmienić rozmiary wykresów w__ `multiplot`__-cie oraz modyfikacje znaczników (tick)__."
   ]
  },
  {
   "cell_type": "markdown",
   "metadata": {},
   "source": [
    "Przykładowe dwa obrazki powinny wyglądać tak:<br>\n",
    "### __1) Dopasowanie (przykład dla wielomianu trzeciego stopnia)__<br>\n",
    "![title](fit.png)<br>\n",
    "### __2) Histogramy__<br>\n",
    "![title](hist.png)"
   ]
  },
  {
   "cell_type": "markdown",
   "metadata": {},
   "source": [
    "Do wykonania zadania sugeruję użyć:\n",
    " - __gnuplot ;)__"
   ]
  },
  {
   "cell_type": "markdown",
   "metadata": {},
   "source": [
    "Pamiętajcie o portalu https://stackoverflow.com/ ;)<br>\n",
    "Dodatkowo polecam galerię http://gnuplot.sourceforge.net/demo/"
   ]
  },
  {
   "cell_type": "code",
   "execution_count": null,
   "metadata": {},
   "outputs": [],
   "source": []
  }
 ],
 "metadata": {
  "kernelspec": {
   "display_name": "Bash",
   "language": "bash",
   "name": "bash"
  },
  "language_info": {
   "codemirror_mode": "shell",
   "file_extension": ".sh",
   "mimetype": "text/x-sh",
   "name": "bash"
  }
 },
 "nbformat": 4,
 "nbformat_minor": 4
}
