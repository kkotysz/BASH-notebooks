{
 "cells": [
  {
   "cell_type": "markdown",
   "metadata": {},
   "source": [
    "![title](background.png)"
   ]
  },
  {
   "cell_type": "markdown",
   "metadata": {},
   "source": [
    "# Zadanie nr 3 - katalog gwiazd"
   ]
  },
  {
   "cell_type": "markdown",
   "metadata": {},
   "source": [
    "### __[UWAGA]__ Pamiętajcie o komentowaniu skryptu, za pomocą znaku `#` po którym wpisujcie własnymi słowami co dana komenda robi. W ten sposób będę wiedział, że rozumiecie napisany skrypt.\n",
    " \n",
    " Zadanie polega na napisaniu skryptu, który:\n",
    " \n",
    " - zmienia dane na oddzielone przecinkami (format CSV) i dopisuje nagłówek\n",
    " - konwertuje współrzędne do formatu dziesiętnego\n",
    " - wpisze do pliku obiekty __niezachodzące__ w zależności od podanej szerokości geograficznej (pobrana z linii komend)\n",
    " - wypisze na ekran ile takich obiektów jest\n",
    " - zliczy liczbę poszczególnych typów widmowych i wypisze te wartości\n",
    " - narysuje histogram liczebności typów widmowych w formie prostego ASCII Art"
   ]
  },
  {
   "cell_type": "markdown",
   "metadata": {},
   "source": [
    "Skrypt ma działać na pliku z katalogami gwiazd HD (Henry Draper Catalogue)i HDE (Henry Draper Extension) opublikowanych przez Annie J. Cannon oraz Edwarda C. Pickering'a $^{[1][2]}$ w pierwszej połowie XX wieku. Zawierają one łącznie 272150 gwiazd. Są one dostępne jako jeden katalog w serwisie VizieR $^{[3]}$. Sygnatura katalogu to: `III/135A`\n",
    "\n",
    "> [1] Cannon, A.J. 1925-1936, The Henry Draper Extension, Ann. Astron. Obs. Harvard College, 100<br>\n",
    "  [2] Cannon, A.J., and Pickering, E.C. 1918-1924, The Henry Draper Catalogue, Ann. Astron. Obs. Harvard College, 91-99<br>\n",
    "  [3] https://vizier.u-strasbg.fr/viz-bin/VizieR"
   ]
  },
  {
   "cell_type": "markdown",
   "metadata": {},
   "source": [
    "Po wyszukaniu wskazanego katalogu za poocą sygnatury, należy dostać się do pliku na serwerze ftp (zaznaczone czerwoną strzałką, na następnym ekranie kliknąć w przycisk FTP). Tam do pobrania będą dwa pliki: `catalog.dat.gz` - zawierający spakowany katalog oraz `ReadMe` z opisem zawartości pliku. \n",
    "![title](ftp.png)"
   ]
  },
  {
   "cell_type": "markdown",
   "metadata": {},
   "source": [
    "Do wykonania zadania należy zapoznać się ze strukturą pliku opisaną w pliku `ReadMe`. Na jego podstawie należy wypisać z pliku `catalog.dat` __sześć__ wartości: `numer HD`, `rektascensja`, `deklinacja`, `jasność wizualna`, `jasność`, `typ widmowy` do __pliku__ o wybranej nazwie (to oczywiście w skrypcie). Rektascensja i deklinacja powinny być w formacie dziesiętnym. Wypisane dane powinny być po przecinkach wraz z nagłówkiem. Taki format pliku nazywany jest __CSV__ (Comma Separated Values). Struktura powinna wyglądać nastepująco (10 pierwszych linii):"
   ]
  },
  {
   "cell_type": "markdown",
   "metadata": {},
   "source": [
    "```\n",
    "    HD,  RAd  , DECd  ,  Ptm  ,  Ptg  , SpT\n",
    "     1,  0.0  , +67.28,  7.700,  8.700, K0 \n",
    "     2,  0.0  , +57.22,  8.600,  9.000, F5 \n",
    "     3,  0.0  , +44.67,  6.510,  6.510, A0 \n",
    "     4,  0.0  , +29.77,  8.400,  8.700, F0 \n",
    "     5,  0.0  , +1.82 ,  9.000,  9.800, G5 \n",
    "     6,  0.0  , -1.07 ,  6.280,  7.280, K0 \n",
    "     7,  0.0  , -2.42 ,  9.000, 10.000, K0 \n",
    "     8,  0.0  , -4.60 , 10.000, 10.600, G0 \n",
    "     9,  0.0  , -21.18,  9.200, 10.800, K2 \n",
    "```"
   ]
  },
  {
   "cell_type": "markdown",
   "metadata": {},
   "source": [
    "Skrypt powinien działać następująco:"
   ]
  },
  {
   "cell_type": "markdown",
   "metadata": {},
   "source": [
    "![SegmentLocal](zad3.png \"segment\")\n",
    "\n",
    "Zostały stworzone pliki: `hd.dat` - zawierający katalog z 6 kolumnami oraz `circumpolar_51.1.dat` - zawierający gwiazdy niezachodzące na szerokości geograficznej $\\phi$= 51.1$^{\\circ}$ N"
   ]
  },
  {
   "cell_type": "markdown",
   "metadata": {},
   "source": [
    "### __[WSKAZÓWKA]__  Do rysowania histogramu użyjcie `awk` z funkcją `printf`, gdzie format `%liczba` będzie zawierał zmienną."
   ]
  },
  {
   "cell_type": "markdown",
   "metadata": {},
   "source": [
    "Do wykonania zadania sugeruję użyć:\n",
    " - __`awk`__: `printf`, `substr`\n",
    " - komendy: `echo`, `grep`, `sed`, `wc`, `bc` "
   ]
  },
  {
   "cell_type": "markdown",
   "metadata": {},
   "source": [
    "Pamiętajcie o komendzie `man` (manual dla komend) oraz portalu https://stackoverflow.com/ ;)"
   ]
  }
 ],
 "metadata": {
  "kernelspec": {
   "display_name": "Bash",
   "language": "bash",
   "name": "bash"
  },
  "language_info": {
   "codemirror_mode": "shell",
   "file_extension": ".sh",
   "mimetype": "text/x-sh",
   "name": "bash"
  }
 },
 "nbformat": 4,
 "nbformat_minor": 4
}
