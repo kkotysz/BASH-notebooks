{
 "cells": [
  {
   "cell_type": "markdown",
   "metadata": {},
   "source": [
    "# Zadanie nr 1 - kalkulator"
   ]
  },
  {
   "cell_type": "markdown",
   "metadata": {},
   "source": [
    " Zadanie polega na napisaniu skryptu, który będzie obliczał wyrażenia zawarte w pliku `equations.dat`. Struktura tego pliku jest następująca:\n"
   ]
  },
  {
   "cell_type": "code",
   "execution_count": 1,
   "metadata": {},
   "outputs": [
    {
     "name": "stdout",
     "output_type": "stream",
     "text": [
      "0.44 / 71.34\n",
      "11.38 + 11.23\n",
      "52.93 + 28.94\n",
      "52.71 * 45.86\n",
      "44.26 * 23.71\n",
      "86.5 + 61.25\n",
      "97.98 + 64.63\n",
      "1.1 + 70.8\n",
      "10.96 / 34.67\n",
      "61.93 / 64.1\n"
     ]
    }
   ],
   "source": [
    "head equations.dat"
   ]
  },
  {
   "cell_type": "markdown",
   "metadata": {},
   "source": [
    "Skrypt powinien przyjmować dwa argumenty:\n",
    " - nazwa pliku z działaniami\n",
    " - numer linii z wyrażeniem do obliczenia\n",
    " \n",
    "Na wyjściu, skrypt powinien wypisywać w terminalu jakie działanie zostało wykonane oraz wynik działania.<br>\n",
    "__Przykład:__"
   ]
  },
  {
   "cell_type": "code",
   "execution_count": 2,
   "metadata": {},
   "outputs": [
    {
     "name": "stdout",
     "output_type": "stream",
     "text": [
      "Equation: 10.96 / 34.67\n",
      "Result: .3161\n"
     ]
    }
   ],
   "source": [
    "bash calc_file.bash equations.dat 9"
   ]
  },
  {
   "cell_type": "markdown",
   "metadata": {},
   "source": [
    "Do napisania skryptu wykorzystajcie:\n",
    " - __zmienne tablicowe__\n",
    " - komendy: `head` `tail` `echo` `bc`\n",
    " - [WSKAZÓWKA]: jeśli napotkacie zmienne cudzysłowem `\"$zmienna\"` podczas wypisywania i przypisywania"
   ]
  },
  {
   "cell_type": "markdown",
   "metadata": {},
   "source": [
    "## __[ZADANIE DODATKOWE]__\n",
    "### Napisać skrypt tak, aby wypisywał wszystkie działania z dokładnością do dwóch miejsc po przecinku\n",
    "Pamiętajcie o komendzie `man` (manual dla komend) oraz portalu https://stackoverflow.com/ ;)"
   ]
  },
  {
   "cell_type": "code",
   "execution_count": null,
   "metadata": {},
   "outputs": [],
   "source": []
  }
 ],
 "metadata": {
  "kernelspec": {
   "display_name": "Bash",
   "language": "bash",
   "name": "bash"
  },
  "language_info": {
   "codemirror_mode": "shell",
   "file_extension": ".sh",
   "mimetype": "text/x-sh",
   "name": "bash"
  }
 },
 "nbformat": 4,
 "nbformat_minor": 2
}
