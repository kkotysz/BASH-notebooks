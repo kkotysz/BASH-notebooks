{
 "cells": [
  {
   "cell_type": "markdown",
   "metadata": {},
   "source": [
    "# Zadanie nr 1 - kalkulator"
   ]
  },
  {
   "cell_type": "markdown",
   "metadata": {},
   "source": [
    "### __[UWAGA]__ Pamiętajcie o komentowaniu skryptu, za pomocą znaku `#` po którym wpisujcie własnymi słowami co dana komenda robi. W ten sposób będę wiedział, że rozumiecie napisany skrypt.\n",
    " \n",
    " Zadanie polega na napisaniu skryptu, który będzie obliczał wyrażenia zawarte w pliku `equations.dat`. Struktura tego pliku jest następująca:\n"
   ]
  },
  {
   "cell_type": "code",
   "execution_count": 5,
   "metadata": {},
   "outputs": [
    {
     "name": "stdout",
     "output_type": "stream",
     "text": [
      "724.96 / 1.37\n",
      "782.65 - 848.9\n",
      "805.51 + 981.97\n",
      "296.5 / 132.77\n",
      "477.15 / 217.23\n",
      "149.96 - 418.28\n",
      "707.83 / 241.16\n",
      "750.53 - 329.8\n",
      "401.87 / 319.88\n",
      "717.33 - 189.74\n"
     ]
    }
   ],
   "source": [
    "head equations.dat"
   ]
  },
  {
   "cell_type": "markdown",
   "metadata": {},
   "source": [
    ">Jak dokładnie przeanalizujecie plik `equations.dat`, zobaczycie że nie ma w nim działania mnożenia. Znak `*` ma również inne działania w `bash`-u i może powodować niepożądane działanie. Oczywiście można napisać skrypt tak, aby wyliczał wyrażenie z `*` jednak nie będzie można w ten sposób przechwycić go do zmiennej tablicowej. W dalszej części zajęć poznacie sposoby jak spobie poradzić z takim problemem.<br>\n",
    "\n",
    "Skrypt powinien przyjmować dwa argumenty:\n",
    " - nazwa pliku z działaniami\n",
    " - numer linii z wyrażeniem do obliczenia\n",
    " \n",
    "Na wyjściu, skrypt powinien wypisywać w terminalu jakie działanie zostało wykonane, jakie liczby zostały użyte oraz wynik działania.<br>\n",
    "__Przykład:__"
   ]
  },
  {
   "cell_type": "code",
   "execution_count": 4,
   "metadata": {},
   "outputs": [
    {
     "name": "stdout",
     "output_type": "stream",
     "text": [
      "First number : 401.87\n",
      "Second number : 319.88\n",
      "Equation: /\n",
      "Result: 1.25631486807552832312\n"
     ]
    }
   ],
   "source": [
    "bash calc.bash equations.dat 9"
   ]
  },
  {
   "cell_type": "markdown",
   "metadata": {},
   "source": [
    "Oczywiście skrypt możecie nazwać dowolnie, `calc.bash` to tylko przykład. Do napisania skryptu wykorzystajcie:\n",
    " - __zmienne tablicowe__\n",
    " - komendy: `head` `tail` `echo` `bc`\n",
    " - [WSKAZÓWKA]: jeśli napotkacie problemy, opakujcie zmienne cudzysłowem `\"$zmienna\"` podczas wypisywania i przypisywania"
   ]
  },
  {
   "cell_type": "markdown",
   "metadata": {},
   "source": [
    "## __[ZADANIE DODATKOWE]__\n",
    "### Napisać skrypt tak, aby wypisywał wszystkie działania z dokładnością do dwóch miejsc po przecinku\n",
    "Pamiętajcie o komendzie `man` (manual dla komend) oraz portalu https://stackoverflow.com/ ;)"
   ]
  }
 ],
 "metadata": {
  "kernelspec": {
   "display_name": "Bash",
   "language": "bash",
   "name": "bash"
  },
  "language_info": {
   "codemirror_mode": "shell",
   "file_extension": ".sh",
   "mimetype": "text/x-sh",
   "name": "bash"
  }
 },
 "nbformat": 4,
 "nbformat_minor": 2
}
