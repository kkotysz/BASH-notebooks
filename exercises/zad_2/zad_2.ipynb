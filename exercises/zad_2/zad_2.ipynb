{
 "cells": [
  {
   "cell_type": "markdown",
   "metadata": {},
   "source": [
    "# Zadanie nr 2 - słownik"
   ]
  },
  {
   "cell_type": "markdown",
   "metadata": {},
   "source": [
    "### __[UWAGA]__ Pamiętajcie o komentowaniu skryptu, za pomocą znaku `#` po którym wpisujcie własnymi słowami co dana komenda robi. W ten sposób będę wiedział, że rozumiecie napisany skrypt.\n",
    " \n",
    " Zadanie polega na napisaniu skryptu, który będzie:\n",
    " \n",
    " - liczył częstość występowania danego słowa w pliku\n",
    " - zapisze wszystkie wystąpnia tego słowa w danych wierszach do innego pliku o nazwie `counts_<fraza>.txt`\n",
    " - zamieni inne słowo (podane przez użytkownika) na kolejne podane przez użytkownika\n",
    " - zapisze zmieniony plik do nowego\n",
    " - zadbajcie o to, żeby to co jest wypisywane w terminalu było czytelne\n"
   ]
  },
  {
   "cell_type": "code",
   "execution_count": 3,
   "metadata": {},
   "outputs": [
    {
     "name": "stdout",
     "output_type": "stream",
     "text": [
      "==> Bajki_i_powiastki.txt <==\n",
      "Bajki i powiastki. wydanie drugie. Z ilustracjami Mikołaja Wisznickiego.\n",
      "\n",
      "\n",
      "\t\t\t\t\tStanisław Jachowicz\n",
      "\n",
      "\n",
      "\n",
      "\n",
      "\n",
      "Nakładem Leona Idzikowskiego, Kijów, 1916\n",
      "\n",
      "==> bd_dr.txt <==\n",
      "They're selling postcards of the hanging, they're painting the passports brown\n",
      "The beauty parlor is filled with sailors, the circus is in town\n",
      "Here comes the blind commissioner, they've got him in a trance\n",
      "One hand is tied to the tight-rope walker, the other is in his pants\n",
      "And the riot squad they're restless, they need somewhere to go\n",
      "As Lady and I look out tonight, from Desolation Row\n",
      "Cinderella, she seems so easy, \"It takes one to know one, \" she smiles\n",
      "And puts her hands in her back pockets Bette Davis style\n",
      "And in comes Romeo, he's moaning. \"You Belong to Me I Believe\"\n",
      "And someone says, \"You're in the wrong place, my friend, you'd better leave\"\n"
     ]
    }
   ],
   "source": [
    "head *.txt"
   ]
  },
  {
   "cell_type": "markdown",
   "metadata": {},
   "source": [
    ">Do testów załączyłem dwa pliki, pierwszy to `Bajki_i_powiastki.txt` zawierający bajki i powiastki Stanisława Jachowicza, natomiast drugi `bd_dr.txt` to tekst piosenki Boba Dylana - Desolation Row. Pierwszy jest po polsku, drugi po angielsku. Zwróćcie uwagę, że wyszukiwanie może wziąć pod uwagę słowa które zawierają w sobie wyszukiwaną frazę, a nie są tym słowem. Np. angielski przedimek __the__, może być częścią słowa __the__re i również zostanie uwzględniony w wyszukiwaniu. Skrypt __nie powinen__ brać takiego słowa pod uwagę. \n",
    "\n",
    ">Pamiętajcie też o tym, że `grep` jest czuły na wielkie i małe litery. Dodatkowo do zliczania występowania może Wam się przydać pewna opcja komendy `grep`, która nie została wypisana w notebook-u. Wyszukajcie ją sami, to ma Was zachęcić do szukania różnych rozwiązań samemu.\n",
    "<br>\n",
    "\n",
    "Skrypt powinien przyjmować jeden argument:\n",
    "- nazwa pliku z tekstem\n",
    "\n",
    "Fraza do wyszkuania i fraza do zmiany powinna być podana w trybie \"interaktywnym\" (komenda `read`). Powinien również mieć nadane uprawnienia uruchamiania (x), żeby można było go uruchomić za pomocą `./<nazwa_skryptu>`\n",
    " \n",
    "__Przykład działania:__"
   ]
  },
  {
   "cell_type": "markdown",
   "metadata": {},
   "source": [
    "![SegmentLocal](zad2.gif \"segment\")\n",
    "\n",
    "Zostały stworzone pliki `counts_the.dat` oraz `sub_bd_dr.txt`"
   ]
  },
  {
   "cell_type": "code",
   "execution_count": 12,
   "metadata": {},
   "outputs": [
    {
     "name": "stdout",
     "output_type": "stream",
     "text": [
      "-rw-rw-r-- 1 krzkot krzkot 157492 mar 27 15:45 Bajki_i_powiastki.txt\n",
      "-rw-r--r-- 1 krzkot krzkot   3660 mar 27 15:32 bd_dr.txt\n",
      "-rw-r--r-- 1 krzkot krzkot   1780 mar 27 17:39 counts_the.txt\n",
      "-rw-r--r-- 1 krzkot krzkot   3660 mar 27 17:39 sub_bd_dr.txt\n"
     ]
    }
   ],
   "source": [
    "ls -l *.txt"
   ]
  },
  {
   "cell_type": "markdown",
   "metadata": {},
   "source": [
    "Do wykonania zadania sugeruję użyć:\n",
    " - __zmienne tablicowe__\n",
    " - komendy: `echo` `read` `grep` `sed` `wc`"
   ]
  },
  {
   "cell_type": "markdown",
   "metadata": {},
   "source": [
    "Pamiętajcie o komendzie `man` (manual dla komend) oraz portalu https://stackoverflow.com/ ;)"
   ]
  }
 ],
 "metadata": {
  "kernelspec": {
   "display_name": "Bash",
   "language": "bash",
   "name": "bash"
  },
  "language_info": {
   "codemirror_mode": "shell",
   "file_extension": ".sh",
   "mimetype": "text/x-sh",
   "name": "bash"
  }
 },
 "nbformat": 4,
 "nbformat_minor": 2
}
