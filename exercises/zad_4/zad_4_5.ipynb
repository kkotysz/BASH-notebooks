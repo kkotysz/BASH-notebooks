{
 "cells": [
  {
   "cell_type": "markdown",
   "metadata": {},
   "source": [
    "![title](loop.png)"
   ]
  },
  {
   "cell_type": "markdown",
   "metadata": {},
   "source": [
    "# Zadanie nr 4.5- Przykłady pętli `for`"
   ]
  },
  {
   "cell_type": "markdown",
   "metadata": {},
   "source": [
    "### __[UWAGA]__ Pamiętajcie o komentowaniu skryptu, za pomocą znaku `#` po którym wpisujcie własnymi słowami co dana komenda robi. W ten sposób będę wiedział, że rozumiecie napisany skrypt."
   ]
  },
  {
   "cell_type": "markdown",
   "metadata": {},
   "source": [
    "### 1) Rozwiń poniższy skrypt, tak aby wypisał z podanego zestawu tylko liczby parzyste i zatrzymał się gdy natrafi na liczbę 237."
   ]
  },
  {
   "cell_type": "markdown",
   "metadata": {},
   "source": [
    "``` bash\n",
    "#!/bin/bash\n",
    "NUMBERS=(951 402 984 651 360 69 408 319 601 485 980 507 725 547 544 615 83 165 141 501 263 617 865 575 219 390 237 412 566 826 248 866 950 626 949 687 217 815 67 104 58 512 24 892 894 767 553 81 379 843 831 445 742 717 958 609 842 451 688 753 854 685 93 857 440 380 126 721 328 753 470 743 527)\n",
    "```"
   ]
  },
  {
   "cell_type": "markdown",
   "metadata": {},
   "source": [
    "### 2) Rozwiń poniższy skrypt, tak aby użytkownik podał z linii komend nazwę koloru - jeśli jest na liście, to niech program wypisze jaki kolor został podany, jeśli na liście go nie ma, powinna się pojawić odpowiednia informacja."
   ]
  },
  {
   "cell_type": "markdown",
   "metadata": {},
   "source": [
    "``` bash\n",
    "#!/bin/bash\n",
    "ColorList=(\"niebieski zielony czarny biały czerwony żółty fioletowy\")\n",
    "```"
   ]
  },
  {
   "cell_type": "markdown",
   "metadata": {},
   "source": [
    "### 3) Stwórz plik o następującej zawartości:\n",
    "```\n",
    "Poniedziałek\n",
    "Wtorek\n",
    "Środa\n",
    "Czwartek\n",
    "Piątek\n",
    "Sobota\n",
    "Niedziela\n",
    "```"
   ]
  },
  {
   "cell_type": "markdown",
   "metadata": {},
   "source": [
    "Następnie napisz skrypt, który będzie czytać elementy z pliku i wypisać na ekran w następującej formie:\n",
    "```\n",
    "1. dzień tygodnia to Poniedziałek\n",
    "2. dzień tygodnia to Wtorek\n",
    "3. dzień tygodnia to Środa\n",
    "4. dzień tygodnia to Czwartek\n",
    "5. dzień tygodnia to Piątek\n",
    "6. dzień tygodnia to Sobota\n",
    "7. dzień tygodnia to Niedziela\n",
    "```"
   ]
  },
  {
   "cell_type": "markdown",
   "metadata": {},
   "source": [
    "### 4) Napisz skrypt, który stworzy 100 plików o nazwach: `file1.txt`, `file2.txt`, `file3.txt`, itd., a następnie wpisz do pierwszego pliku liczbę 100, do drugiego 99, do trzeciego 98, itd."
   ]
  },
  {
   "cell_type": "markdown",
   "metadata": {},
   "source": [
    "### 5) Napisz skrypt, który zmieni rozszerzenia podanych plików na podane przez użytkownika. Dodatkowo niech skrypt posiada opcję podania liczby plików (N) dla których ma zmienić rozszerzenia (od 1 do N)."
   ]
  },
  {
   "cell_type": "markdown",
   "metadata": {},
   "source": [
    "Pamiętajcie o komendzie `man` (manual dla komend) oraz portalu https://stackoverflow.com/ ;)"
   ]
  }
 ],
 "metadata": {
  "kernelspec": {
   "display_name": "Bash",
   "language": "bash",
   "name": "bash"
  },
  "language_info": {
   "codemirror_mode": "shell",
   "file_extension": ".sh",
   "mimetype": "text/x-sh",
   "name": "bash"
  }
 },
 "nbformat": 4,
 "nbformat_minor": 4
}
