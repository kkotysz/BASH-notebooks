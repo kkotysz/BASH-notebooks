{
 "cells": [
  {
   "cell_type": "markdown",
   "metadata": {},
   "source": [
    "![title](background.png)"
   ]
  },
  {
   "cell_type": "markdown",
   "metadata": {},
   "source": [
    "# Zadanie nr 4 - Wykorzystanie pętli i intrukcji warunkowych do zadania nr 3"
   ]
  },
  {
   "cell_type": "markdown",
   "metadata": {},
   "source": [
    "### __[UWAGA]__ Pamiętajcie o komentowaniu skryptu, za pomocą znaku `#` po którym wpisujcie własnymi słowami co dana komenda robi. W ten sposób będę wiedział, że rozumiecie napisany skrypt.\n",
    " \n",
    " Zadanie polega na przepisaniu skryptu z zadania nr 3, który będzie:\n",
    " \n",
    " - wykonywał wszystkie wcześniejsze zadania, ale z wykorzystaniem pętli `for`\n",
    " - skrypt będzie podawał informację ile jest gwiazd na niebie północnym , a ile na niebie południowym\n",
    " - dodatkowo oprócz histogramu typów widmowych, skrypt będzie rysował histogram jasności - tutaj będą możliwe różne opcje:\n",
    "  - podanie granicznej jasności do rysowania histogramu (ograniczenie największej jasności, w przypadku gdy podana wartość będzie większa niż największa jasność w tabeli, granicą ma być ta druga)\n",
    "  - podanie ilości przedziałów do rysowania histogramu\n",
    "  - wybranie czy ma narysować dla nieba północnego czy południowego\n",
    " - wypisze ilość przedziałów w histogramie oraz rozmiar przedziałów\n",
    " - jeżeli użytkownik uruchomi skrypt z ilością argumentów mniejszą niż wymagana, ma się wyświetlić sposób użycia programu\n",
    " \n",
    " __[DODATKOWE]__ Możecie spróbować \"ubarwić\" wypisywane dane, za pomocą komendy `tput`."
   ]
  },
  {
   "cell_type": "markdown",
   "metadata": {},
   "source": [
    "Działanie skryptu gdy nie podana została wystarczająca ilość argumentów:<br>\n",
    "![SegmentLocal](noarg.gif \"segment\")\n",
    "\n",
    "Przykładowe uruchomienie skryptu z argumentami: $\\phi$= 51.1$^{\\circ}$ N, 15 przedziałów, limit = 5 mag, niebo południowe:<br>\n",
    "![SegmentLocal](zad4.gif \"segment\")"
   ]
  },
  {
   "cell_type": "markdown",
   "metadata": {},
   "source": [
    "__[UWAGA]__ W kolumnie z janościami obiektów, mogą wystąpić obiekty niegwiazdowe. W pliku `ReadMe` jest opisane w jaki sposób zostały zaznaczone. Nie powinny być uwzględnione w rysowaniu histogramu."
   ]
  },
  {
   "cell_type": "markdown",
   "metadata": {},
   "source": [
    "### __[WSKAZÓWKA]__  Sprawdźcie działanie zmiennej specjalnej w `bash`-u -> `$#`"
   ]
  },
  {
   "cell_type": "markdown",
   "metadata": {},
   "source": [
    "Do wykonania zadania sugeruję użyć:\n",
    " - oczywiście pętla `for` i instrukcja `if`\n",
    " - __`awk`__: `printf`, `substr`\n",
    " - komendy: `echo`, `grep`, `sed`, `wc`, `bc` "
   ]
  },
  {
   "cell_type": "markdown",
   "metadata": {},
   "source": [
    "Pamiętajcie o komendzie `man` (manual dla komend) oraz portalu https://stackoverflow.com/ ;)"
   ]
  }
 ],
 "metadata": {
  "kernelspec": {
   "display_name": "Bash",
   "language": "bash",
   "name": "bash"
  },
  "language_info": {
   "codemirror_mode": "shell",
   "file_extension": ".sh",
   "mimetype": "text/x-sh",
   "name": "bash"
  }
 },
 "nbformat": 4,
 "nbformat_minor": 4
}
