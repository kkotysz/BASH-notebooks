{
 "cells": [
  {
   "cell_type": "markdown",
   "metadata": {},
   "source": [
    "![title](gaia.png)"
   ]
  },
  {
   "cell_type": "markdown",
   "metadata": {},
   "source": [
    "# __Zadanie zaliczeniowe__\n",
    "\n",
    "Do dyspozycji jest plik (do pobrania [tutaj](https://raw.githubusercontent.com/plokoon12/BASH-notebooks/master/exercises/zad_zal/cep.txt)) z listą gwiazd z ponowną klasyfikacją gwiazd zmiennych oznaczonych jako Cefeidy w katalogu gwiazd z satelity Gaia. Katalog zawiera 2116 gwiazd zmiennych. Szczegółowy opis tego co się znajduje w tabeli, jest opisane w pliku [ReadMe](https://raw.githubusercontent.com/plokoon12/BASH-notebooks/master/exercises/zad_zal/ReadMe.txt). Dane pochodzą z katalogu __Reclassification of Cepheids in the Gaia DR2 : J/A+A/625/A14__$^{[1]}$, dostępnego na platformie VizieR$.\n",
    "\n",
    "> [[1] Ripepi V., Molinaro R., Musella I., Marconi M., Leccia S., Eyer L., 2019, A&A, 625, A14](https://www.aanda.org/articles/aa/pdf/2019/05/aa34506-18.pdf)"
   ]
  },
  {
   "cell_type": "markdown",
   "metadata": {},
   "source": [
    "### __[UWAGA]__ Pamiętajcie o komentowaniu skryptu, za pomocą znaku `#` po którym wpisujcie własnymi słowami co dana komenda robi. W ten sposób będę wiedział, że rozumiecie napisany skrypt.\n",
    " \n",
    " ### __Zadanie polega na napisaniu skryptu, który będzie spełniał następujące wytyczne:__\n",
    " \n",
    "#### __1)__ skrypt będzie filtrował dane (poprzez podanie maksymalnych wartości) w tabeli wg. czeterech kolumn: rektascensja _[RAdeg]_, deklinacja _[DEdeg]_, jasność w paśmie Gai _[Gmag]_, oraz odległość $\\frac{1}{[Plx]}$<br>\n",
    "#### __2)__ kryteria filtrowania będą podane przez użytkownika z linii komend, powinna być możliwość wybrania wg. jakich kolumn tabela będzie filtrowana<br>\n",
    "#### __3)__ przefiltrowane dane będą zapisywane do pliku (należy dobrać odpowiednie, czytelne nazewnictwo), <br>\n",
    "#### __4)__ współrzędne należy zamienić z formatu dziesiętnego na format: RA-> `HOUR:MINUTE:SECOND`, DEC-> `DEGREE:MINUTE:SECOND`\n",
    "#### __5)__ skrypt powinien być odporny na błędy. W takim przypadku ma być wyświetlana informacja jak należy użyć skryptu. Błędy powinny obejmować: \n",
    "  - podanie nieprawidłowej wartości (np. litery)\n",
    "  - podanie za małej ilości argumentów w linii komend\n",
    "  - brak pliku z danymi\n",
    "  \n",
    "#### __6)__ wypisze liczebność każdego typu zmienności (kolumna _Class_)\n",
    " \n",
    " \n",
    "#### __7)__ Rysował wykresy - rysowanie wykresów powinno być osobnym skryptem, który będzie wywoływał `gnuplot`-a:\n",
    "  - zależność okres - jasność\n",
    "  > Zależność okres - jasność jest używana do wyznaczania odległości w astronomii. Badając okres pulsacji niektórych typów gwiazd i mierząc ich jasności absoultne można zauważyc pewną korelację. Takie zależności obserwowane są dla wielu typów gwiazd pulsujących, m.in: Cefeidy, Cefeidy II typu, gwiazdy RR Lutni, czy gwiazdy Detla Scuti. Jednym z podtypów Cefeid II typu, są gwiazdy BL Herculi (w skrócie BL Her). Okres zmian jasności jest podany w tabeli w kolumnie _[Per]_ natomiast jasności są 3: _[Gmag]_ - jasność w paśmie Gai, _[GBPmag]_ - jasność w niebieskim filtrze Gai, _[GBRmag]_ - jasność w czerwonym filtrze Gai. Jasność powinna być poprawiona na poczerwienienie. Można w tym wypadku użyć wskaźnika Weisenheita, który jest wolny od poczerwienienia wg. wzoru: $W= [Gmag] - 1.9 \\times ([GBPmag] - [GRPmag])$. W tym zadaniu, należy narysować zależność okres - jasność z danych z tabeli wg. następującego wzoru:\n",
    "  $W = a \\times logP + b$, gdzie $a$ i $b$ to parametry, które należy wyznaczyć z dopasowania. \n",
    "  \n",
    " Na wykresie trzeba narysować punkty, dopasowaną linię oraz wzór z dopasowanymi współczynnikami.\n",
    "  - histogramy jasności (_[Gmag]_, _[GBPag]_, _[GRPmag]_), gdzie ilość przedziałów dobrać samemu (można zaadaptować do tego skrypt z zadania 4 - trzeba go rozumieć)\n",
    "  - histogram odległości, ilość przedziałów dobrać samemu\n",
    "\n",
    "__Wykresy powinny być czytelne (odpowiednia kolorystyka i dobór punktów oraz linii) i estetyczne (pełen opis osi, odpowiedni zakres osi, tytuły, legenda).__"
   ]
  },
  {
   "cell_type": "markdown",
   "metadata": {},
   "source": [
    "Do wykonania zadania należy użyć komend i konstrukcji przedstawionych w opracowaniach. Dodatkowo, może się przydać komenda `uniq`. Oczywiście sposoby rozwiązania zadania z innymi komendami będą jak najbardziej akceptowane."
   ]
  },
  {
   "cell_type": "markdown",
   "metadata": {},
   "source": [
    "Pamiętajcie o komendzie `man` (manual dla komend) oraz portalu https://stackoverflow.com/ ;)"
   ]
  }
 ],
 "metadata": {
  "kernelspec": {
   "display_name": "Bash",
   "language": "bash",
   "name": "bash"
  },
  "language_info": {
   "codemirror_mode": "shell",
   "file_extension": ".sh",
   "mimetype": "text/x-sh",
   "name": "bash"
  }
 },
 "nbformat": 4,
 "nbformat_minor": 4
}
