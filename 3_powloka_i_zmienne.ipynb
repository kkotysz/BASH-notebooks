{
 "cells": [
  {
   "cell_type": "markdown",
   "metadata": {},
   "source": [
    "# 3. Powłoka i zmienne: zmienne środowiskowe, lokalne, globalne, specjalne, tablicowe, słowa zastrzeżone"
   ]
  },
  {
   "cell_type": "markdown",
   "metadata": {},
   "source": [
    "<font color=\"green\"><b>[PORADA]</b> Jest możliwe wykonanie dwóch komend jedna po drugiej w jednej linii. Aby to zrobić, należy je oddzielić znakiem średnika `;`</font>"
   ]
  },
  {
   "cell_type": "code",
   "execution_count": 20,
   "metadata": {},
   "outputs": [
    {
     "name": "stdout",
     "output_type": "stream",
     "text": [
      " 1  2 17 plik1.dat\n"
     ]
    }
   ],
   "source": [
    "echo \"pierwsza komenda\" > plik1.dat; wc plik1.dat"
   ]
  },
  {
   "cell_type": "markdown",
   "metadata": {},
   "source": [
    "<br>W tej części zostaną opisane różne rodzaje zmiennych występujących w powłoce `bash`. Są one niezwykle pomocne w pisaniu skryptów i wykonywania zaawansowanych działań. Należy dobrze zapoznać się zarówno z terminami opisującymi różne zmienne oraz zrozumieć na czym polega wywoływanie podpowłoki, żeby zrozumieć materiał opracowany poniżej. Działając w powłoce (z ang. shell) `bash`, nic nie stoi na przeszkodzie, aby wywołać inną powłokę z dostępnych. W tym momencie stworzona zostanie powłoka podległa naszej głównej, czyli __podpowłoka__. To jakie mamy dostępne powłoki w naszym systemie można sprawdzić listując zawartość pliku `shells` znajdującego się w katalogu `/etc`."
   ]
  },
  {
   "cell_type": "code",
   "execution_count": 1,
   "metadata": {},
   "outputs": [
    {
     "name": "stdout",
     "output_type": "stream",
     "text": [
      "# /etc/shells: valid login shells\n",
      "/bin/sh\n",
      "/bin/bash\n",
      "/bin/rbash\n",
      "/bin/dash\n"
     ]
    }
   ],
   "source": [
    "cat /etc/shells"
   ]
  },
  {
   "cell_type": "markdown",
   "metadata": {},
   "source": [
    "## 3.1 Zmienne środowiskowe/programowe/lokalne/globalne"
   ]
  },
  {
   "cell_type": "markdown",
   "metadata": {},
   "source": [
    "W poprzednim opracowaniu, przedstawiony został bardzo prosty skrypt napisany w powłoce `bash`. Wprowadzone zostało też pojęcie zmiennej - nazywa się je <b>zmienne programowe</b>, czyli zadeklarowane przez użytkownika. W skrypcie, po utworzeniu zmiennej, można się do niej odnieść poprzez znak `$`. W środowisku bash istnieje również pojęcie <b>zmiennej środowiskowej</b>, które modyfikują i definiują nasze własne środowisko. Przykładami takich zmiennych są:<br>\n",
    "\n",
    " - `$HOME`   -> wyświetla ścieżkę do twojego katalogu domowego<br>\n",
    " - `$USER`   -> wyświetla nazwę użytkownika<br>\n",
    " - `$SHELL`  -> wyświetla jaka powłoka w terminalu jest w użyciu<br>\n",
    " - `$PWD`    -> ścieżka do aktualnego katalogu<br>\n",
    "\n",
    "Przykład wyświetlenia zmiennej środowiskowej:"
   ]
  },
  {
   "cell_type": "code",
   "execution_count": 25,
   "metadata": {},
   "outputs": [
    {
     "name": "stdout",
     "output_type": "stream",
     "text": [
      "Moja nazwa użytkownika to: krzkot i używam powłoki: /bin/bash\n"
     ]
    }
   ],
   "source": [
    "echo \"Moja nazwa użytkownika to: \"$USER\" i używam powłoki: \"$SHELL"
   ]
  },
  {
   "cell_type": "markdown",
   "metadata": {},
   "source": [
    "Zmienne mogą być <b>lokalne</b> i <b>globalne</b>. Pierwsze, są widoczne tylko w powłoce gdzie zostały stworzone, drugie widoczne są w każdej podpowłoce. Aby nasza zmienna (nowo utworzona zmienna programowa lub zmodyfikowana zmienna środowiskowa) była zmienną globalną należy nadać jej odpowiedni atrybut. Służy do tego komenda `export`. Do wyświetlenia wszystkich dostępnych zmiennych środowiskowowych służy komenda `printenv`.\n",
    "\n",
    "Przykład eksportu zmiennej:"
   ]
  },
  {
   "cell_type": "code",
   "execution_count": 21,
   "metadata": {},
   "outputs": [
    {
     "name": "stdout",
     "output_type": "stream",
     "text": [
      "lokalna\n"
     ]
    }
   ],
   "source": [
    "mojazmienna=\"lokalna\"; echo $mojazmienna"
   ]
  },
  {
   "cell_type": "markdown",
   "metadata": {},
   "source": [
    "W tej chwili zmienna `$mojazmienna` jest lokalna. Mogę wywołać w moim terminalu kolejną podpowłokę (`bash`) i sprawdzić, czy jest w niej widoczna."
   ]
  },
  {
   "cell_type": "raw",
   "metadata": {},
   "source": [
    "krzkot@krzkot ~# bash                     <= podpowłoka bash\n",
    "krzkot@krzkot ~# echo $mojazmienna        <= zostanie wyświelona pusta linia, podwpołoka \"nie widzi\" tej zmiennej\n",
    "\n",
    "krzkot@krzkot ~# exit                     <= wychodzimy z podpowłowki\n",
    "exit\n",
    "krzkot@krzkot ~# echo $mojazmienna        <= główna powłoka wciąż \"widzi\" zmienną\n",
    "lokalna\n",
    "krzkot@krzkot ~# export mojazmienna       <= eksportujemy zmienną\n",
    "krzkot@krzkot ~# echo $mojazmienna        <= główna powłoka wciąż \"widzi\" zmienną\n",
    "lokalna\n",
    "krzkot@krzkot ~# bash                     <= znów tworzymy zmienną\n",
    "krzkot@krzkot ~# echo $mojazmienna        <= podpowłoka również \"widzi\" zmienną\n",
    "lokalna"
   ]
  },
  {
   "cell_type": "markdown",
   "metadata": {},
   "source": [
    "## 3.2 Zmienne specjalne"
   ]
  },
  {
   "cell_type": "markdown",
   "metadata": {},
   "source": [
    "Zmienne specjalne są dostępne dla użytkownika tylko do odczytu. Oznacza to, że nie ma możliwości zmiany ich wartości. Są to wybrane znaki i cyfry służące do wygodnej obsługi skryptów. Cyfry od 0-9 obsługują argumenty przekazane do naszego skryptu.<br> \n",
    " - Zmienna `$0` pokazuje nazwę aktualnej powłoki lub nazwę uruchomionego skryptu (można powiedzieć, że jest to argument o indeksie 0)"
   ]
  },
  {
   "cell_type": "code",
   "execution_count": 3,
   "metadata": {},
   "outputs": [
    {
     "name": "stdout",
     "output_type": "stream",
     "text": [
      "/bin/bash\n"
     ]
    }
   ],
   "source": [
    "echo $0"
   ]
  },
  {
   "cell_type": "markdown",
   "metadata": {},
   "source": [
    "Została wyświetlona nazwa powłoki. Zmodyfikujmy nasz skrypt `baza.bash`, tak aby na początku wyświetlił nam zmienną `$0`"
   ]
  },
  {
   "cell_type": "markdown",
   "metadata": {},
   "source": [
    " ```bash\n",
    "#!/bin/bash\n",
    "\n",
    "echo $0   # DODAJEMY LINIĘ Z WYŚWIETLENIEM ZMIENNEJ SPECJALNEJ\n",
    "\n",
    "start=$(head -n 2 TIC102090493-s2-121s_lc3_fppt.dat | tail -n 1)\n",
    "start=$(echo $start | cut -d \" \" -f 1)\n",
    "end=$(tail -n 1 TIC102090493-s2-121s_lc3_fppt.dat)\n",
    "end=$(echo $end | cut -d \" \" -f 1)\n",
    "tbase=$(echo $end-$start | bc) # wyliczanie bazy czasowej\n",
    "echo $tbase\n",
    "```"
   ]
  },
  {
   "cell_type": "code",
   "execution_count": 6,
   "metadata": {},
   "outputs": [
    {
     "name": "stdout",
     "output_type": "stream",
     "text": [
      "baza.bash\n",
      "27.4044052\n"
     ]
    }
   ],
   "source": [
    "bash baza.bash"
   ]
  },
  {
   "cell_type": "markdown",
   "metadata": {},
   "source": [
    "Zgodznie z oczekiwaniami, wyświetlona została nazwa skryptu. Teraz zobaczmy do czego służą zmienne z innymi cyframi."
   ]
  },
  {
   "cell_type": "markdown",
   "metadata": {},
   "source": [
    " - Zmienne w zakresie `$0-9` będą zawierały argumenty przekazane do naszego skrytpu w linii komend. Argumenty podajemy po nazwie skryptu, oddzielone spacją."
   ]
  },
  {
   "cell_type": "markdown",
   "metadata": {},
   "source": [
    "Musimy znowu zmodyfikować nasz skrypt, aby użył zmiennych `$0-9`. Zacznijmy od prostego wyświetlenia, znów za pomocą koemndy `echo`."
   ]
  },
  {
   "cell_type": "markdown",
   "metadata": {},
   "source": [
    " ```bash\n",
    "#!/bin/bash\n",
    "\n",
    "echo $1 $2   # WYŚWIETLANY DWA PIERWSZE PODANE ARGUMENTY\n",
    "\n",
    "start=$(head -n 2 TIC102090493-s2-121s_lc3_fppt.dat | tail -n 1)\n",
    "start=$(echo $start | cut -d \" \" -f 1)\n",
    "end=$(tail -n 1 TIC102090493-s2-121s_lc3_fppt.dat)\n",
    "end=$(echo $end | cut -d \" \" -f 1)\n",
    "tbase=$(echo $end-$start | bc) # wyliczanie bazy czasowej\n",
    "echo $tbase\n",
    "```"
   ]
  },
  {
   "cell_type": "code",
   "execution_count": 11,
   "metadata": {},
   "outputs": [
    {
     "name": "stdout",
     "output_type": "stream",
     "text": [
      "pierwszy drugi\n",
      "27.4044052\n"
     ]
    }
   ],
   "source": [
    "bash baza.bash pierwszy drugi trzeci"
   ]
  },
  {
   "cell_type": "markdown",
   "metadata": {},
   "source": [
    "Jak widać, wyświetlone zostały dwa pierwsze argumenty `pierwszy` oraz `drugi`. Trzeci argument `trzeci`, chociaż podany, nie został wyświetlony gdyż w skrypcie nie było polecenia do wypisania go na ekran. Spróbujmy jednak wykorzystać przeychwytywanie argumentów do czegość bardziej pożytecznego. Zauważmy, że w tej chwili nasz skrypt wykonuje działanie tylko dla pliku o nazwie `TIC102090493-s2-121s_lc3_fppt.dat`. Możemy nazwę pliku podać jako argument naszego skryptu. Modyfikacja naszego skryptu będzie następująca:"
   ]
  },
  {
   "cell_type": "markdown",
   "metadata": {},
   "source": [
    " ```bash\n",
    "#!/bin/bash\n",
    "start=$(head -n 2 $1 | tail -n 1) # zamiast nazwy pliku, podajemy zmienną $1\n",
    "start=$(echo $start | cut -d \" \" -f 1)\n",
    "end=$(tail -n 1 $1)\n",
    "end=$(echo $end | cut -d \" \" -f 1)\n",
    "tbase=$(echo $end-$start | bc) # wyliczanie bazy czasowej\n",
    "echo $tbase\n",
    "```"
   ]
  },
  {
   "cell_type": "code",
   "execution_count": 14,
   "metadata": {},
   "outputs": [
    {
     "name": "stdout",
     "output_type": "stream",
     "text": [
      "27.4044052\n"
     ]
    }
   ],
   "source": [
    "bash baza.bash TIC102090493-s2-121s_lc3_fppt.dat"
   ]
  },
  {
   "cell_type": "code",
   "execution_count": 16,
   "metadata": {},
   "outputs": [
    {
     "name": "stdout",
     "output_type": "stream",
     "text": [
      "12.0541511\n"
     ]
    }
   ],
   "source": [
    "bash baza.bash TIC12974182-s2-121s_lc3_fppt.dat"
   ]
  },
  {
   "cell_type": "markdown",
   "metadata": {},
   "source": [
    "Nasz skrypt wykonuje się teraz jeśli podamy jako pierwszy argument nazwę pliku do wyliczenia bazy czasowej. Jeśli nie podamy argumentu, nasz skrypt zawiesi się, natomiast jeśli podamy nazwę pliku, który nie isnieje zostanie wywołany błąd. W tym przykładzie plik o nazwie `jakisplik.dat`, który nie istnieje zostanie podany jako argument."
   ]
  },
  {
   "cell_type": "code",
   "execution_count": 18,
   "metadata": {},
   "outputs": [
    {
     "name": "stdout",
     "output_type": "stream",
     "text": [
      "head: nie można otworzyć 'jakisplik.dat' do czytania: Nie ma takiego pliku ani katalogu\n",
      "tail: nie można otworzyć 'jakisplik.dat' do czytania: Nie ma takiego pliku ani katalogu\n",
      "(standard_in) 2: syntax error\n",
      "\n"
     ]
    }
   ],
   "source": [
    "bash baza.bash jakisplik.dat"
   ]
  },
  {
   "cell_type": "markdown",
   "metadata": {},
   "source": [
    " - `$@` taka zmienna wyświetli wszystkie podane argumenty\n",
    " - `$$` numer procesu aktualnej powłoki (wszystki procesy uruchomione w danym terminalu można podjerzeć za pomocą komendy `ps`)"
   ]
  },
  {
   "cell_type": "code",
   "execution_count": 30,
   "metadata": {},
   "outputs": [
    {
     "name": "stdout",
     "output_type": "stream",
     "text": [
      "  PID TTY          TIME CMD\n",
      " 4753 pts/5    00:00:00 bash\n",
      "16100 pts/5    00:00:00 ps\n",
      "\n",
      "Aktualna powłoka ma proces nr: 4753\n"
     ]
    }
   ],
   "source": [
    "ps; echo; echo 'Aktualna powłoka ma proces nr: '$$"
   ]
  },
  {
   "cell_type": "markdown",
   "metadata": {},
   "source": [
    "<font color=\"green\">__[PORADA]__ Numer procesu może zostać wykorzystany, aby dany proces unicestwić (służy do tego komenda `kill`).</font>"
   ]
  },
  {
   "cell_type": "markdown",
   "metadata": {},
   "source": [
    "## 3.3 Zmienne tablicowe"
   ]
  },
  {
   "cell_type": "markdown",
   "metadata": {},
   "source": [
    "W `bash`-u można również storzyć tablicę, a raczej zmienną która będzie taką tablicę przechowywać. Tablica, to zestaw wartości które chcemy zachować, rozdzielonych spacjami. Każdy element takiej tablicy będzie miał od razu przypisany indeks, gdzie __pierwsza wartość ma indeks 0__. Tablica nie ma ograniczenia rozmiaru. Do tablicy odnosimy się właśnie poprzez indeksy, ale zmienna musi być otoczona nawiasem klamrowym `${}`."
   ]
  },
  {
   "cell_type": "code",
   "execution_count": 79,
   "metadata": {},
   "outputs": [],
   "source": [
    "mojatablica=(jeden dwa trzy czetery pięć sześć)"
   ]
  },
  {
   "cell_type": "code",
   "execution_count": 80,
   "metadata": {},
   "outputs": [
    {
     "name": "stdout",
     "output_type": "stream",
     "text": [
      "jeden\n",
      "czetery\n"
     ]
    }
   ],
   "source": [
    "echo ${mojatablica[0]}; echo ${mojatablica[3]}"
   ]
  },
  {
   "cell_type": "markdown",
   "metadata": {},
   "source": [
    "Jeśli nie podamy indeksu, wyświetlony zostanie pierwszy element (indeks 0). Dodatkowo w przypadku zmiennych tablicowych można również:\n",
    " - zwrócić wszystkie elementy: w miejsce indeksu wpisujemy `*` lub `@`\n",
    " - zwrócić ilość znaków elementu w tablicy: przed nazwą zmiennej należy umieścić znak `#`<br> \n",
    "<font color=\"green\">__[PORADA]__ w ten sposób można zwrócić ilość elementów w tablicy, wystarczy jako indeks podać `*` lub `@`</font>"
   ]
  },
  {
   "cell_type": "code",
   "execution_count": 81,
   "metadata": {},
   "outputs": [
    {
     "name": "stdout",
     "output_type": "stream",
     "text": [
      "Wszystkie elementy tablicy to: jeden dwa trzy czetery pięć sześć\n"
     ]
    }
   ],
   "source": [
    "echo \"Wszystkie elementy tablicy to: \"${mojatablica[*]}"
   ]
  },
  {
   "cell_type": "code",
   "execution_count": 82,
   "metadata": {},
   "outputs": [
    {
     "name": "stdout",
     "output_type": "stream",
     "text": [
      "Ilość znaków w drugim elemencie to: 3\n"
     ]
    }
   ],
   "source": [
    "echo \"Ilość znaków w drugim elemencie to: ${#mojatablica[1]}\""
   ]
  },
  {
   "cell_type": "code",
   "execution_count": 83,
   "metadata": {},
   "outputs": [
    {
     "name": "stdout",
     "output_type": "stream",
     "text": [
      "Ilość elementów w tablicy to: 6\n"
     ]
    }
   ],
   "source": [
    "echo \"Ilość elementów w tablicy to:\" ${#mojatablica[*]}"
   ]
  },
  {
   "cell_type": "markdown",
   "metadata": {},
   "source": [
    "Do tablicy można również dodać element, który może mieć dowolny indeks (nie musimy dodawać po kolei). W tym przykładzie dodamy element o indeksie 10. Elementy z indeksami 6-9 nie będą istniały"
   ]
  },
  {
   "cell_type": "code",
   "execution_count": 84,
   "metadata": {},
   "outputs": [],
   "source": [
    "mojatablica[10]=\"jedenaście\""
   ]
  },
  {
   "cell_type": "code",
   "execution_count": 85,
   "metadata": {},
   "outputs": [
    {
     "name": "stdout",
     "output_type": "stream",
     "text": [
      "Element o indeksie 10 to: jedenaście\n",
      "Wszystkie elementy tablicy to: jeden dwa trzy czetery pięć sześć jedenaście\n"
     ]
    }
   ],
   "source": [
    "echo \"Element o indeksie 10 to: \"${mojatablica[10]}; echo \"Wszystkie elementy tablicy to: \"${mojatablica[*]}"
   ]
  },
  {
   "cell_type": "markdown",
   "metadata": {},
   "source": [
    "Aby usunąc element o danym indeksie z tablicy, należy użyć komendy `unset`."
   ]
  },
  {
   "cell_type": "code",
   "execution_count": 86,
   "metadata": {},
   "outputs": [
    {
     "name": "stdout",
     "output_type": "stream",
     "text": [
      "Element o indeksie 4 to: pięć\n"
     ]
    }
   ],
   "source": [
    "echo \"Element o indeksie 4 to: \"${mojatablica[4]}"
   ]
  },
  {
   "cell_type": "code",
   "execution_count": 87,
   "metadata": {},
   "outputs": [],
   "source": [
    "unset mojatablica[4]"
   ]
  },
  {
   "cell_type": "code",
   "execution_count": 88,
   "metadata": {},
   "outputs": [
    {
     "name": "stdout",
     "output_type": "stream",
     "text": [
      "Element o indeksie 4 to: \n",
      "Wszystkie elementy tablicy to: jeden dwa trzy czetery sześć jedenaście\n"
     ]
    }
   ],
   "source": [
    "echo \"Element o indeksie 4 to: \"${mojatablica[4]}; echo \"Wszystkie elementy tablicy to: \"${mojatablica[*]}"
   ]
  },
  {
   "cell_type": "markdown",
   "metadata": {},
   "source": [
    "Jak widać, element z indeksem 4 nie istnieje, a po wyświelteniu wszystkich elementów nazwa \"pięć\" nie pojawia się. Analogicznie, aby usunąć całą tablicę, jako indeks trzeba podać `*` lub `@`."
   ]
  },
  {
   "cell_type": "code",
   "execution_count": 89,
   "metadata": {},
   "outputs": [],
   "source": [
    "unset mojatablica[*]"
   ]
  },
  {
   "cell_type": "code",
   "execution_count": 90,
   "metadata": {},
   "outputs": [
    {
     "name": "stdout",
     "output_type": "stream",
     "text": [
      "\n"
     ]
    }
   ],
   "source": [
    "echo ${mojatablica[*]}"
   ]
  },
  {
   "cell_type": "markdown",
   "metadata": {},
   "source": [
    "## 3.4 Słowa zastrzeżone"
   ]
  },
  {
   "cell_type": "markdown",
   "metadata": {},
   "source": [
    "Słowa zastrzeżone mają specjalne znaczenie dla powłoki `bash` i nie powinny być używane jako nazwy zmiennych. Ich lista znajduje się poniżej:"
   ]
  },
  {
   "cell_type": "markdown",
   "metadata": {},
   "source": [
    " - !\n",
    " - case\n",
    " - do\n",
    " - done\n",
    " - elif\n",
    " - else\n",
    " - esac\n",
    " - fi\n",
    " - for\n",
    " - function\n",
    " - if\n",
    " - in\n",
    " - select\n",
    " - then\n",
    " - until\n",
    " - while\n",
    " - time\n",
    " - {\n",
    " - }\n",
    " - [\n",
    " - ] "
   ]
  }
 ],
 "metadata": {
  "kernelspec": {
   "display_name": "Bash",
   "language": "bash",
   "name": "bash"
  },
  "language_info": {
   "codemirror_mode": "shell",
   "file_extension": ".sh",
   "mimetype": "text/x-sh",
   "name": "bash"
  }
 },
 "nbformat": 4,
 "nbformat_minor": 2
}
